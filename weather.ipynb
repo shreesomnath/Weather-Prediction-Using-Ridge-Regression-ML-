{
 "cells": [
  {
   "cell_type": "code",
   "execution_count": null,
   "id": "0d4a399a",
   "metadata": {},
   "outputs": [],
   "source": [
    "import pandas as pd\n"
   ]
  },
  {
   "cell_type": "code",
   "execution_count": null,
   "id": "5ca5d081",
   "metadata": {},
   "outputs": [],
   "source": [
    "weather = pd.read_csv(\"local_weather.csv\", index_col=\"DATE\")"
   ]
  },
  {
   "cell_type": "code",
   "execution_count": 3,
   "id": "84e0faa3",
   "metadata": {},
   "outputs": [
    {
     "data": {
      "application/vnd.microsoft.datawrangler.viewer.v0+json": {
       "columns": [
        {
         "name": "DATE",
         "rawType": "object",
         "type": "string"
        },
        {
         "name": "STATION",
         "rawType": "object",
         "type": "string"
        },
        {
         "name": "NAME",
         "rawType": "object",
         "type": "string"
        },
        {
         "name": "ACMH",
         "rawType": "float64",
         "type": "float"
        },
        {
         "name": "ACSH",
         "rawType": "float64",
         "type": "float"
        },
        {
         "name": "AWND",
         "rawType": "float64",
         "type": "float"
        },
        {
         "name": "DAPR",
         "rawType": "float64",
         "type": "float"
        },
        {
         "name": "FMTM",
         "rawType": "float64",
         "type": "float"
        },
        {
         "name": "FRGT",
         "rawType": "float64",
         "type": "float"
        },
        {
         "name": "MDPR",
         "rawType": "float64",
         "type": "float"
        },
        {
         "name": "PGTM",
         "rawType": "float64",
         "type": "float"
        },
        {
         "name": "PRCP",
         "rawType": "float64",
         "type": "float"
        },
        {
         "name": "SNOW",
         "rawType": "float64",
         "type": "float"
        },
        {
         "name": "SNWD",
         "rawType": "float64",
         "type": "float"
        },
        {
         "name": "TAVG",
         "rawType": "float64",
         "type": "float"
        },
        {
         "name": "TMAX",
         "rawType": "float64",
         "type": "float"
        },
        {
         "name": "TMIN",
         "rawType": "float64",
         "type": "float"
        },
        {
         "name": "TSUN",
         "rawType": "float64",
         "type": "float"
        },
        {
         "name": "WDF1",
         "rawType": "float64",
         "type": "float"
        },
        {
         "name": "WDF2",
         "rawType": "float64",
         "type": "float"
        },
        {
         "name": "WDF5",
         "rawType": "float64",
         "type": "float"
        },
        {
         "name": "WDFG",
         "rawType": "float64",
         "type": "float"
        },
        {
         "name": "WSF1",
         "rawType": "float64",
         "type": "float"
        },
        {
         "name": "WSF2",
         "rawType": "float64",
         "type": "float"
        },
        {
         "name": "WSF5",
         "rawType": "float64",
         "type": "float"
        },
        {
         "name": "WSFG",
         "rawType": "float64",
         "type": "float"
        },
        {
         "name": "WT01",
         "rawType": "float64",
         "type": "float"
        },
        {
         "name": "WT02",
         "rawType": "float64",
         "type": "float"
        },
        {
         "name": "WT03",
         "rawType": "float64",
         "type": "float"
        },
        {
         "name": "WT04",
         "rawType": "float64",
         "type": "float"
        },
        {
         "name": "WT05",
         "rawType": "float64",
         "type": "float"
        },
        {
         "name": "WT07",
         "rawType": "float64",
         "type": "float"
        },
        {
         "name": "WT08",
         "rawType": "float64",
         "type": "float"
        },
        {
         "name": "WT09",
         "rawType": "float64",
         "type": "float"
        },
        {
         "name": "WT16",
         "rawType": "float64",
         "type": "float"
        },
        {
         "name": "WT18",
         "rawType": "float64",
         "type": "float"
        }
       ],
       "ref": "6a7a96ec-df90-4df8-a122-e3983a57cb08",
       "rows": [
        [
         "1960-01-01",
         "USW00023230",
         "OAKLAND INTERNATIONAL AIRPORT, CA US",
         null,
         null,
         null,
         null,
         null,
         null,
         null,
         null,
         "0.0",
         "0.0",
         "0.0",
         null,
         "49.0",
         "30.0",
         null,
         null,
         null,
         null,
         null,
         null,
         null,
         null,
         null,
         null,
         null,
         null,
         null,
         null,
         null,
         null,
         null,
         null,
         null
        ],
        [
         "1960-01-02",
         "USW00023230",
         "OAKLAND INTERNATIONAL AIRPORT, CA US",
         null,
         null,
         null,
         null,
         null,
         null,
         null,
         null,
         "0.0",
         "0.0",
         "0.0",
         null,
         "49.0",
         "29.0",
         null,
         null,
         null,
         null,
         null,
         null,
         null,
         null,
         null,
         null,
         null,
         null,
         null,
         null,
         null,
         null,
         null,
         "1.0",
         null
        ],
        [
         "1960-01-03",
         "USW00023230",
         "OAKLAND INTERNATIONAL AIRPORT, CA US",
         null,
         null,
         null,
         null,
         null,
         null,
         null,
         null,
         "0.0",
         "0.0",
         "0.0",
         null,
         "54.0",
         "35.0",
         null,
         null,
         null,
         null,
         null,
         null,
         null,
         null,
         null,
         null,
         null,
         null,
         null,
         null,
         null,
         null,
         null,
         null,
         null
        ],
        [
         "1960-01-04",
         "USW00023230",
         "OAKLAND INTERNATIONAL AIRPORT, CA US",
         null,
         null,
         null,
         null,
         null,
         null,
         null,
         null,
         "0.0",
         "0.0",
         "0.0",
         null,
         "54.0",
         "36.0",
         null,
         null,
         null,
         null,
         null,
         null,
         null,
         null,
         null,
         null,
         null,
         null,
         null,
         null,
         null,
         null,
         null,
         null,
         null
        ],
        [
         "1960-01-05",
         "USW00023230",
         "OAKLAND INTERNATIONAL AIRPORT, CA US",
         null,
         null,
         null,
         null,
         null,
         null,
         null,
         null,
         "0.0",
         "0.0",
         "0.0",
         null,
         "55.0",
         "33.0",
         null,
         null,
         null,
         null,
         null,
         null,
         null,
         null,
         null,
         "1.0",
         null,
         null,
         null,
         null,
         null,
         "1.0",
         null,
         null,
         null
        ],
        [
         "1960-01-06",
         "USW00023230",
         "OAKLAND INTERNATIONAL AIRPORT, CA US",
         null,
         null,
         null,
         null,
         null,
         null,
         null,
         null,
         "0.0",
         "0.0",
         "0.0",
         null,
         "53.0",
         "38.0",
         null,
         null,
         null,
         null,
         null,
         null,
         null,
         null,
         null,
         null,
         null,
         null,
         null,
         null,
         null,
         "1.0",
         null,
         null,
         null
        ],
        [
         "1960-01-07",
         "USW00023230",
         "OAKLAND INTERNATIONAL AIRPORT, CA US",
         null,
         null,
         null,
         null,
         null,
         null,
         null,
         null,
         "0.0",
         "0.0",
         "0.0",
         null,
         "56.0",
         "46.0",
         null,
         null,
         null,
         null,
         null,
         null,
         null,
         null,
         null,
         null,
         null,
         null,
         null,
         null,
         null,
         "1.0",
         null,
         "1.0",
         null
        ],
        [
         "1960-01-08",
         "USW00023230",
         "OAKLAND INTERNATIONAL AIRPORT, CA US",
         null,
         null,
         null,
         null,
         null,
         null,
         null,
         null,
         "0.45",
         "0.0",
         "0.0",
         null,
         "54.0",
         "49.0",
         null,
         null,
         null,
         null,
         null,
         null,
         null,
         null,
         null,
         "1.0",
         null,
         null,
         null,
         null,
         null,
         null,
         null,
         "1.0",
         null
        ],
        [
         "1960-01-09",
         "USW00023230",
         "OAKLAND INTERNATIONAL AIRPORT, CA US",
         null,
         null,
         null,
         null,
         null,
         null,
         null,
         null,
         "0.61",
         "0.0",
         "0.0",
         null,
         "51.0",
         "46.0",
         null,
         null,
         null,
         null,
         null,
         null,
         null,
         null,
         null,
         "1.0",
         null,
         null,
         null,
         null,
         null,
         null,
         null,
         "1.0",
         null
        ],
        [
         "1960-01-10",
         "USW00023230",
         "OAKLAND INTERNATIONAL AIRPORT, CA US",
         null,
         null,
         null,
         null,
         null,
         null,
         null,
         null,
         "0.08",
         "0.0",
         "0.0",
         null,
         "55.0",
         "46.0",
         null,
         null,
         null,
         null,
         null,
         null,
         null,
         null,
         null,
         null,
         null,
         null,
         null,
         null,
         null,
         null,
         null,
         "1.0",
         null
        ],
        [
         "1960-01-11",
         "USW00023230",
         "OAKLAND INTERNATIONAL AIRPORT, CA US",
         null,
         null,
         null,
         null,
         null,
         null,
         null,
         null,
         "0.48",
         "0.0",
         "0.0",
         null,
         "53.0",
         "43.0",
         null,
         null,
         null,
         null,
         null,
         null,
         null,
         null,
         null,
         "1.0",
         null,
         null,
         null,
         null,
         null,
         null,
         null,
         "1.0",
         null
        ],
        [
         "1960-01-12",
         "USW00023230",
         "OAKLAND INTERNATIONAL AIRPORT, CA US",
         null,
         null,
         null,
         null,
         null,
         null,
         null,
         null,
         "0.0",
         "0.0",
         "0.0",
         null,
         "53.0",
         "37.0",
         null,
         null,
         null,
         null,
         null,
         null,
         null,
         null,
         null,
         null,
         null,
         null,
         null,
         null,
         null,
         null,
         null,
         null,
         null
        ],
        [
         "1960-01-13",
         "USW00023230",
         "OAKLAND INTERNATIONAL AIRPORT, CA US",
         null,
         null,
         null,
         null,
         null,
         null,
         null,
         null,
         "0.05",
         "0.0",
         "0.0",
         null,
         "49.0",
         "33.0",
         null,
         null,
         null,
         null,
         null,
         null,
         null,
         null,
         null,
         null,
         null,
         null,
         null,
         null,
         null,
         null,
         null,
         "1.0",
         null
        ],
        [
         "1960-01-14",
         "USW00023230",
         "OAKLAND INTERNATIONAL AIRPORT, CA US",
         null,
         null,
         null,
         null,
         null,
         null,
         null,
         null,
         "0.67",
         "0.0",
         "0.0",
         null,
         "48.0",
         "40.0",
         null,
         null,
         null,
         null,
         null,
         null,
         null,
         null,
         null,
         null,
         null,
         null,
         null,
         null,
         null,
         null,
         null,
         "1.0",
         null
        ],
        [
         "1960-01-15",
         "USW00023230",
         "OAKLAND INTERNATIONAL AIRPORT, CA US",
         null,
         null,
         null,
         null,
         null,
         null,
         null,
         null,
         "0.0",
         "0.0",
         "0.0",
         null,
         "54.0",
         "37.0",
         null,
         null,
         null,
         null,
         null,
         null,
         null,
         null,
         null,
         null,
         null,
         null,
         null,
         null,
         null,
         null,
         null,
         null,
         null
        ],
        [
         "1960-01-16",
         "USW00023230",
         "OAKLAND INTERNATIONAL AIRPORT, CA US",
         null,
         null,
         null,
         null,
         null,
         null,
         null,
         null,
         "0.0",
         "0.0",
         "0.0",
         null,
         "56.0",
         "35.0",
         null,
         null,
         null,
         null,
         null,
         null,
         null,
         null,
         null,
         null,
         null,
         null,
         null,
         null,
         null,
         null,
         null,
         null,
         null
        ],
        [
         "1960-01-17",
         "USW00023230",
         "OAKLAND INTERNATIONAL AIRPORT, CA US",
         null,
         null,
         null,
         null,
         null,
         null,
         null,
         null,
         "0.0",
         "0.0",
         "0.0",
         null,
         "54.0",
         "34.0",
         null,
         null,
         null,
         null,
         null,
         null,
         null,
         null,
         null,
         null,
         null,
         null,
         null,
         null,
         null,
         "1.0",
         null,
         null,
         null
        ],
        [
         "1960-01-18",
         "USW00023230",
         "OAKLAND INTERNATIONAL AIRPORT, CA US",
         null,
         null,
         null,
         null,
         null,
         null,
         null,
         null,
         "0.0",
         "0.0",
         "0.0",
         null,
         "51.0",
         "40.0",
         null,
         null,
         null,
         null,
         null,
         null,
         null,
         null,
         null,
         null,
         null,
         null,
         null,
         null,
         null,
         "1.0",
         null,
         "1.0",
         null
        ],
        [
         "1960-01-19",
         "USW00023230",
         "OAKLAND INTERNATIONAL AIRPORT, CA US",
         null,
         null,
         null,
         null,
         null,
         null,
         null,
         null,
         "0.0",
         "0.0",
         "0.0",
         null,
         "52.0",
         "41.0",
         null,
         null,
         null,
         null,
         null,
         null,
         null,
         null,
         null,
         "1.0",
         null,
         null,
         null,
         null,
         null,
         "1.0",
         null,
         null,
         null
        ],
        [
         "1960-01-20",
         "USW00023230",
         "OAKLAND INTERNATIONAL AIRPORT, CA US",
         null,
         null,
         null,
         null,
         null,
         null,
         null,
         null,
         "0.0",
         "0.0",
         "0.0",
         null,
         "58.0",
         "47.0",
         null,
         null,
         null,
         null,
         null,
         null,
         null,
         null,
         null,
         null,
         null,
         null,
         null,
         null,
         null,
         null,
         null,
         null,
         null
        ],
        [
         "1960-01-21",
         "USW00023230",
         "OAKLAND INTERNATIONAL AIRPORT, CA US",
         null,
         null,
         null,
         null,
         null,
         null,
         null,
         null,
         "0.11",
         "0.0",
         "0.0",
         null,
         "54.0",
         "51.0",
         null,
         null,
         null,
         null,
         null,
         null,
         null,
         null,
         null,
         null,
         null,
         null,
         null,
         null,
         null,
         null,
         null,
         "1.0",
         null
        ],
        [
         "1960-01-22",
         "USW00023230",
         "OAKLAND INTERNATIONAL AIRPORT, CA US",
         null,
         null,
         null,
         null,
         null,
         null,
         null,
         null,
         "0.0",
         "0.0",
         "0.0",
         null,
         "61.0",
         "49.0",
         null,
         null,
         null,
         null,
         null,
         null,
         null,
         null,
         null,
         null,
         null,
         null,
         null,
         null,
         null,
         null,
         null,
         "1.0",
         null
        ],
        [
         "1960-01-23",
         "USW00023230",
         "OAKLAND INTERNATIONAL AIRPORT, CA US",
         null,
         null,
         null,
         null,
         null,
         null,
         null,
         null,
         "0.0",
         "0.0",
         "0.0",
         null,
         "60.0",
         "45.0",
         null,
         null,
         null,
         null,
         null,
         null,
         null,
         null,
         null,
         "1.0",
         null,
         null,
         null,
         null,
         null,
         "1.0",
         null,
         null,
         null
        ],
        [
         "1960-01-24",
         "USW00023230",
         "OAKLAND INTERNATIONAL AIRPORT, CA US",
         null,
         null,
         null,
         null,
         null,
         null,
         null,
         null,
         "0.35",
         "0.0",
         "0.0",
         null,
         "60.0",
         "47.0",
         null,
         null,
         null,
         null,
         null,
         null,
         null,
         null,
         null,
         "1.0",
         null,
         null,
         null,
         null,
         null,
         "1.0",
         null,
         "1.0",
         null
        ],
        [
         "1960-01-25",
         "USW00023230",
         "OAKLAND INTERNATIONAL AIRPORT, CA US",
         null,
         null,
         null,
         null,
         null,
         null,
         null,
         null,
         "0.58",
         "0.0",
         "0.0",
         null,
         "60.0",
         "51.0",
         null,
         null,
         null,
         null,
         null,
         null,
         null,
         null,
         null,
         "1.0",
         null,
         null,
         null,
         null,
         null,
         null,
         null,
         "1.0",
         null
        ],
        [
         "1960-01-26",
         "USW00023230",
         "OAKLAND INTERNATIONAL AIRPORT, CA US",
         null,
         null,
         null,
         null,
         null,
         null,
         null,
         null,
         "0.04",
         "0.0",
         "0.0",
         null,
         "58.0",
         "50.0",
         null,
         null,
         null,
         null,
         null,
         null,
         null,
         null,
         null,
         "1.0",
         null,
         null,
         null,
         null,
         null,
         null,
         null,
         "1.0",
         null
        ],
        [
         "1960-01-27",
         "USW00023230",
         "OAKLAND INTERNATIONAL AIRPORT, CA US",
         null,
         null,
         null,
         null,
         null,
         null,
         null,
         null,
         "0.0",
         "0.0",
         "0.0",
         null,
         "60.0",
         "47.0",
         null,
         null,
         null,
         null,
         null,
         null,
         null,
         null,
         null,
         null,
         null,
         null,
         null,
         null,
         null,
         null,
         null,
         null,
         null
        ],
        [
         "1960-01-28",
         "USW00023230",
         "OAKLAND INTERNATIONAL AIRPORT, CA US",
         null,
         null,
         null,
         null,
         null,
         null,
         null,
         null,
         "0.0",
         "0.0",
         "0.0",
         null,
         "62.0",
         "47.0",
         null,
         null,
         null,
         null,
         null,
         null,
         null,
         null,
         null,
         null,
         null,
         null,
         null,
         null,
         null,
         "1.0",
         null,
         null,
         null
        ],
        [
         "1960-01-29",
         "USW00023230",
         "OAKLAND INTERNATIONAL AIRPORT, CA US",
         null,
         null,
         null,
         null,
         null,
         null,
         null,
         null,
         "0.0",
         "0.0",
         "0.0",
         null,
         "63.0",
         "44.0",
         null,
         null,
         null,
         null,
         null,
         null,
         null,
         null,
         null,
         null,
         null,
         null,
         null,
         null,
         null,
         "1.0",
         null,
         "1.0",
         null
        ],
        [
         "1960-01-30",
         "USW00023230",
         "OAKLAND INTERNATIONAL AIRPORT, CA US",
         null,
         null,
         null,
         null,
         null,
         null,
         null,
         null,
         "0.0",
         "0.0",
         "0.0",
         null,
         "61.0",
         "49.0",
         null,
         null,
         null,
         null,
         null,
         null,
         null,
         null,
         null,
         "1.0",
         null,
         null,
         null,
         null,
         null,
         "1.0",
         null,
         "1.0",
         null
        ],
        [
         "1960-01-31",
         "USW00023230",
         "OAKLAND INTERNATIONAL AIRPORT, CA US",
         null,
         null,
         null,
         null,
         null,
         null,
         null,
         null,
         "0.0",
         "0.0",
         "0.0",
         null,
         "59.0",
         "46.0",
         null,
         null,
         null,
         null,
         null,
         null,
         null,
         null,
         null,
         "1.0",
         null,
         null,
         null,
         null,
         null,
         "1.0",
         null,
         "1.0",
         null
        ],
        [
         "1960-02-01",
         "USW00023230",
         "OAKLAND INTERNATIONAL AIRPORT, CA US",
         null,
         null,
         null,
         null,
         null,
         null,
         null,
         null,
         "0.81",
         "0.0",
         "0.0",
         null,
         "62.0",
         "51.0",
         null,
         null,
         null,
         null,
         null,
         null,
         null,
         null,
         null,
         "1.0",
         null,
         null,
         null,
         "1.0",
         null,
         null,
         null,
         "1.0",
         null
        ],
        [
         "1960-02-02",
         "USW00023230",
         "OAKLAND INTERNATIONAL AIRPORT, CA US",
         null,
         null,
         null,
         null,
         null,
         null,
         null,
         null,
         "0.0",
         "0.0",
         "0.0",
         null,
         "59.0",
         "43.0",
         null,
         null,
         null,
         null,
         null,
         null,
         null,
         null,
         null,
         null,
         null,
         null,
         null,
         null,
         null,
         null,
         null,
         "1.0",
         null
        ],
        [
         "1960-02-03",
         "USW00023230",
         "OAKLAND INTERNATIONAL AIRPORT, CA US",
         null,
         null,
         null,
         null,
         null,
         null,
         null,
         null,
         "0.2",
         "0.0",
         "0.0",
         null,
         "59.0",
         "47.0",
         null,
         null,
         null,
         null,
         null,
         null,
         null,
         null,
         null,
         "1.0",
         null,
         null,
         null,
         null,
         null,
         null,
         null,
         "1.0",
         null
        ],
        [
         "1960-02-04",
         "USW00023230",
         "OAKLAND INTERNATIONAL AIRPORT, CA US",
         null,
         null,
         null,
         null,
         null,
         null,
         null,
         null,
         "0.16",
         "0.0",
         "0.0",
         null,
         "60.0",
         "42.0",
         null,
         null,
         null,
         null,
         null,
         null,
         null,
         null,
         null,
         "1.0",
         null,
         null,
         null,
         null,
         null,
         "1.0",
         null,
         "1.0",
         null
        ],
        [
         "1960-02-05",
         "USW00023230",
         "OAKLAND INTERNATIONAL AIRPORT, CA US",
         null,
         null,
         null,
         null,
         null,
         null,
         null,
         null,
         "0.67",
         "0.0",
         "0.0",
         null,
         "60.0",
         "53.0",
         null,
         null,
         null,
         null,
         null,
         null,
         null,
         null,
         null,
         "1.0",
         null,
         null,
         null,
         null,
         null,
         null,
         null,
         "1.0",
         null
        ],
        [
         "1960-02-06",
         "USW00023230",
         "OAKLAND INTERNATIONAL AIRPORT, CA US",
         null,
         null,
         null,
         null,
         null,
         null,
         null,
         null,
         "0.0",
         "0.0",
         "0.0",
         null,
         "63.0",
         "54.0",
         null,
         null,
         null,
         null,
         null,
         null,
         null,
         null,
         null,
         "1.0",
         null,
         null,
         null,
         null,
         null,
         "1.0",
         null,
         null,
         null
        ],
        [
         "1960-02-07",
         "USW00023230",
         "OAKLAND INTERNATIONAL AIRPORT, CA US",
         null,
         null,
         null,
         null,
         null,
         null,
         null,
         null,
         "0.06",
         "0.0",
         "0.0",
         null,
         "62.0",
         "55.0",
         null,
         null,
         null,
         null,
         null,
         null,
         null,
         null,
         null,
         null,
         null,
         null,
         null,
         null,
         null,
         "1.0",
         null,
         "1.0",
         null
        ],
        [
         "1960-02-08",
         "USW00023230",
         "OAKLAND INTERNATIONAL AIRPORT, CA US",
         null,
         null,
         null,
         null,
         null,
         null,
         null,
         null,
         "0.51",
         "0.0",
         "0.0",
         null,
         "60.0",
         "50.0",
         null,
         null,
         null,
         null,
         null,
         null,
         null,
         null,
         null,
         "1.0",
         null,
         "1.0",
         null,
         null,
         null,
         null,
         null,
         "1.0",
         null
        ],
        [
         "1960-02-09",
         "USW00023230",
         "OAKLAND INTERNATIONAL AIRPORT, CA US",
         null,
         null,
         null,
         null,
         null,
         null,
         null,
         null,
         "0.36",
         "0.0",
         "0.0",
         null,
         "55.0",
         "48.0",
         null,
         null,
         null,
         null,
         null,
         null,
         null,
         null,
         null,
         null,
         null,
         "1.0",
         null,
         null,
         null,
         null,
         null,
         "1.0",
         null
        ],
        [
         "1960-02-10",
         "USW00023230",
         "OAKLAND INTERNATIONAL AIRPORT, CA US",
         null,
         null,
         null,
         null,
         null,
         null,
         null,
         null,
         "0.07",
         "0.0",
         "0.0",
         null,
         "60.0",
         "44.0",
         null,
         null,
         null,
         null,
         null,
         null,
         null,
         null,
         null,
         null,
         null,
         null,
         null,
         null,
         null,
         null,
         null,
         "1.0",
         null
        ],
        [
         "1960-02-11",
         "USW00023230",
         "OAKLAND INTERNATIONAL AIRPORT, CA US",
         null,
         null,
         null,
         null,
         null,
         null,
         null,
         null,
         "0.0",
         "0.0",
         "0.0",
         null,
         "61.0",
         "40.0",
         null,
         null,
         null,
         null,
         null,
         null,
         null,
         null,
         null,
         null,
         null,
         null,
         null,
         null,
         null,
         null,
         null,
         null,
         null
        ],
        [
         "1960-02-12",
         "USW00023230",
         "OAKLAND INTERNATIONAL AIRPORT, CA US",
         null,
         null,
         null,
         null,
         null,
         null,
         null,
         null,
         "0.0",
         "0.0",
         "0.0",
         null,
         "61.0",
         "42.0",
         null,
         null,
         null,
         null,
         null,
         null,
         null,
         null,
         null,
         null,
         null,
         null,
         null,
         null,
         null,
         "1.0",
         null,
         "1.0",
         null
        ],
        [
         "1960-02-13",
         "USW00023230",
         "OAKLAND INTERNATIONAL AIRPORT, CA US",
         null,
         null,
         null,
         null,
         null,
         null,
         null,
         null,
         "0.02",
         "0.0",
         "0.0",
         null,
         "60.0",
         "45.0",
         null,
         null,
         null,
         null,
         null,
         null,
         null,
         null,
         null,
         null,
         null,
         null,
         null,
         null,
         null,
         null,
         null,
         "1.0",
         null
        ],
        [
         "1960-02-14",
         "USW00023230",
         "OAKLAND INTERNATIONAL AIRPORT, CA US",
         null,
         null,
         null,
         null,
         null,
         null,
         null,
         null,
         "0.0",
         "0.0",
         "0.0",
         null,
         "62.0",
         "39.0",
         null,
         null,
         null,
         null,
         null,
         null,
         null,
         null,
         null,
         null,
         null,
         null,
         null,
         null,
         null,
         null,
         null,
         null,
         null
        ],
        [
         "1960-02-15",
         "USW00023230",
         "OAKLAND INTERNATIONAL AIRPORT, CA US",
         null,
         null,
         null,
         null,
         null,
         null,
         null,
         null,
         "0.0",
         "0.0",
         "0.0",
         null,
         "61.0",
         "42.0",
         null,
         null,
         null,
         null,
         null,
         null,
         null,
         null,
         null,
         null,
         null,
         null,
         null,
         null,
         null,
         "1.0",
         null,
         null,
         null
        ],
        [
         "1960-02-16",
         "USW00023230",
         "OAKLAND INTERNATIONAL AIRPORT, CA US",
         null,
         null,
         null,
         null,
         null,
         null,
         null,
         null,
         "0.0",
         "0.0",
         "0.0",
         null,
         "64.0",
         "42.0",
         null,
         null,
         null,
         null,
         null,
         null,
         null,
         null,
         null,
         "1.0",
         null,
         null,
         null,
         null,
         null,
         "1.0",
         null,
         null,
         null
        ],
        [
         "1960-02-17",
         "USW00023230",
         "OAKLAND INTERNATIONAL AIRPORT, CA US",
         null,
         null,
         null,
         null,
         null,
         null,
         null,
         null,
         "0.0",
         "0.0",
         "0.0",
         null,
         "62.0",
         "38.0",
         null,
         null,
         null,
         null,
         null,
         null,
         null,
         null,
         null,
         null,
         null,
         null,
         null,
         null,
         null,
         "1.0",
         null,
         null,
         null
        ],
        [
         "1960-02-18",
         "USW00023230",
         "OAKLAND INTERNATIONAL AIRPORT, CA US",
         null,
         null,
         null,
         null,
         null,
         null,
         null,
         null,
         "0.13",
         "0.0",
         "0.0",
         null,
         "55.0",
         "42.0",
         null,
         null,
         null,
         null,
         null,
         null,
         null,
         null,
         null,
         null,
         null,
         null,
         null,
         "1.0",
         null,
         null,
         null,
         "1.0",
         null
        ],
        [
         "1960-02-19",
         "USW00023230",
         "OAKLAND INTERNATIONAL AIRPORT, CA US",
         null,
         null,
         null,
         null,
         null,
         null,
         null,
         null,
         "0.0",
         "0.0",
         "0.0",
         null,
         "60.0",
         "40.0",
         null,
         null,
         null,
         null,
         null,
         null,
         null,
         null,
         null,
         null,
         null,
         null,
         null,
         null,
         null,
         null,
         null,
         null,
         null
        ]
       ],
       "shape": {
        "columns": 35,
        "rows": 17714
       }
      },
      "text/html": [
       "<div>\n",
       "<style scoped>\n",
       "    .dataframe tbody tr th:only-of-type {\n",
       "        vertical-align: middle;\n",
       "    }\n",
       "\n",
       "    .dataframe tbody tr th {\n",
       "        vertical-align: top;\n",
       "    }\n",
       "\n",
       "    .dataframe thead th {\n",
       "        text-align: right;\n",
       "    }\n",
       "</style>\n",
       "<table border=\"1\" class=\"dataframe\">\n",
       "  <thead>\n",
       "    <tr style=\"text-align: right;\">\n",
       "      <th></th>\n",
       "      <th>STATION</th>\n",
       "      <th>NAME</th>\n",
       "      <th>ACMH</th>\n",
       "      <th>ACSH</th>\n",
       "      <th>AWND</th>\n",
       "      <th>DAPR</th>\n",
       "      <th>FMTM</th>\n",
       "      <th>FRGT</th>\n",
       "      <th>MDPR</th>\n",
       "      <th>PGTM</th>\n",
       "      <th>...</th>\n",
       "      <th>WT01</th>\n",
       "      <th>WT02</th>\n",
       "      <th>WT03</th>\n",
       "      <th>WT04</th>\n",
       "      <th>WT05</th>\n",
       "      <th>WT07</th>\n",
       "      <th>WT08</th>\n",
       "      <th>WT09</th>\n",
       "      <th>WT16</th>\n",
       "      <th>WT18</th>\n",
       "    </tr>\n",
       "    <tr>\n",
       "      <th>DATE</th>\n",
       "      <th></th>\n",
       "      <th></th>\n",
       "      <th></th>\n",
       "      <th></th>\n",
       "      <th></th>\n",
       "      <th></th>\n",
       "      <th></th>\n",
       "      <th></th>\n",
       "      <th></th>\n",
       "      <th></th>\n",
       "      <th></th>\n",
       "      <th></th>\n",
       "      <th></th>\n",
       "      <th></th>\n",
       "      <th></th>\n",
       "      <th></th>\n",
       "      <th></th>\n",
       "      <th></th>\n",
       "      <th></th>\n",
       "      <th></th>\n",
       "      <th></th>\n",
       "    </tr>\n",
       "  </thead>\n",
       "  <tbody>\n",
       "    <tr>\n",
       "      <th>1960-01-01</th>\n",
       "      <td>USW00023230</td>\n",
       "      <td>OAKLAND INTERNATIONAL AIRPORT, CA US</td>\n",
       "      <td>NaN</td>\n",
       "      <td>NaN</td>\n",
       "      <td>NaN</td>\n",
       "      <td>NaN</td>\n",
       "      <td>NaN</td>\n",
       "      <td>NaN</td>\n",
       "      <td>NaN</td>\n",
       "      <td>NaN</td>\n",
       "      <td>...</td>\n",
       "      <td>NaN</td>\n",
       "      <td>NaN</td>\n",
       "      <td>NaN</td>\n",
       "      <td>NaN</td>\n",
       "      <td>NaN</td>\n",
       "      <td>NaN</td>\n",
       "      <td>NaN</td>\n",
       "      <td>NaN</td>\n",
       "      <td>NaN</td>\n",
       "      <td>NaN</td>\n",
       "    </tr>\n",
       "    <tr>\n",
       "      <th>1960-01-02</th>\n",
       "      <td>USW00023230</td>\n",
       "      <td>OAKLAND INTERNATIONAL AIRPORT, CA US</td>\n",
       "      <td>NaN</td>\n",
       "      <td>NaN</td>\n",
       "      <td>NaN</td>\n",
       "      <td>NaN</td>\n",
       "      <td>NaN</td>\n",
       "      <td>NaN</td>\n",
       "      <td>NaN</td>\n",
       "      <td>NaN</td>\n",
       "      <td>...</td>\n",
       "      <td>NaN</td>\n",
       "      <td>NaN</td>\n",
       "      <td>NaN</td>\n",
       "      <td>NaN</td>\n",
       "      <td>NaN</td>\n",
       "      <td>NaN</td>\n",
       "      <td>NaN</td>\n",
       "      <td>NaN</td>\n",
       "      <td>1.0</td>\n",
       "      <td>NaN</td>\n",
       "    </tr>\n",
       "    <tr>\n",
       "      <th>1960-01-03</th>\n",
       "      <td>USW00023230</td>\n",
       "      <td>OAKLAND INTERNATIONAL AIRPORT, CA US</td>\n",
       "      <td>NaN</td>\n",
       "      <td>NaN</td>\n",
       "      <td>NaN</td>\n",
       "      <td>NaN</td>\n",
       "      <td>NaN</td>\n",
       "      <td>NaN</td>\n",
       "      <td>NaN</td>\n",
       "      <td>NaN</td>\n",
       "      <td>...</td>\n",
       "      <td>NaN</td>\n",
       "      <td>NaN</td>\n",
       "      <td>NaN</td>\n",
       "      <td>NaN</td>\n",
       "      <td>NaN</td>\n",
       "      <td>NaN</td>\n",
       "      <td>NaN</td>\n",
       "      <td>NaN</td>\n",
       "      <td>NaN</td>\n",
       "      <td>NaN</td>\n",
       "    </tr>\n",
       "    <tr>\n",
       "      <th>1960-01-04</th>\n",
       "      <td>USW00023230</td>\n",
       "      <td>OAKLAND INTERNATIONAL AIRPORT, CA US</td>\n",
       "      <td>NaN</td>\n",
       "      <td>NaN</td>\n",
       "      <td>NaN</td>\n",
       "      <td>NaN</td>\n",
       "      <td>NaN</td>\n",
       "      <td>NaN</td>\n",
       "      <td>NaN</td>\n",
       "      <td>NaN</td>\n",
       "      <td>...</td>\n",
       "      <td>NaN</td>\n",
       "      <td>NaN</td>\n",
       "      <td>NaN</td>\n",
       "      <td>NaN</td>\n",
       "      <td>NaN</td>\n",
       "      <td>NaN</td>\n",
       "      <td>NaN</td>\n",
       "      <td>NaN</td>\n",
       "      <td>NaN</td>\n",
       "      <td>NaN</td>\n",
       "    </tr>\n",
       "    <tr>\n",
       "      <th>1960-01-05</th>\n",
       "      <td>USW00023230</td>\n",
       "      <td>OAKLAND INTERNATIONAL AIRPORT, CA US</td>\n",
       "      <td>NaN</td>\n",
       "      <td>NaN</td>\n",
       "      <td>NaN</td>\n",
       "      <td>NaN</td>\n",
       "      <td>NaN</td>\n",
       "      <td>NaN</td>\n",
       "      <td>NaN</td>\n",
       "      <td>NaN</td>\n",
       "      <td>...</td>\n",
       "      <td>1.0</td>\n",
       "      <td>NaN</td>\n",
       "      <td>NaN</td>\n",
       "      <td>NaN</td>\n",
       "      <td>NaN</td>\n",
       "      <td>NaN</td>\n",
       "      <td>1.0</td>\n",
       "      <td>NaN</td>\n",
       "      <td>NaN</td>\n",
       "      <td>NaN</td>\n",
       "    </tr>\n",
       "    <tr>\n",
       "      <th>...</th>\n",
       "      <td>...</td>\n",
       "      <td>...</td>\n",
       "      <td>...</td>\n",
       "      <td>...</td>\n",
       "      <td>...</td>\n",
       "      <td>...</td>\n",
       "      <td>...</td>\n",
       "      <td>...</td>\n",
       "      <td>...</td>\n",
       "      <td>...</td>\n",
       "      <td>...</td>\n",
       "      <td>...</td>\n",
       "      <td>...</td>\n",
       "      <td>...</td>\n",
       "      <td>...</td>\n",
       "      <td>...</td>\n",
       "      <td>...</td>\n",
       "      <td>...</td>\n",
       "      <td>...</td>\n",
       "      <td>...</td>\n",
       "      <td>...</td>\n",
       "    </tr>\n",
       "    <tr>\n",
       "      <th>2024-05-27</th>\n",
       "      <td>USW00023230</td>\n",
       "      <td>OAKLAND INTERNATIONAL AIRPORT, CA US</td>\n",
       "      <td>NaN</td>\n",
       "      <td>NaN</td>\n",
       "      <td>10.51</td>\n",
       "      <td>NaN</td>\n",
       "      <td>NaN</td>\n",
       "      <td>NaN</td>\n",
       "      <td>NaN</td>\n",
       "      <td>NaN</td>\n",
       "      <td>...</td>\n",
       "      <td>NaN</td>\n",
       "      <td>NaN</td>\n",
       "      <td>NaN</td>\n",
       "      <td>NaN</td>\n",
       "      <td>NaN</td>\n",
       "      <td>NaN</td>\n",
       "      <td>NaN</td>\n",
       "      <td>NaN</td>\n",
       "      <td>NaN</td>\n",
       "      <td>NaN</td>\n",
       "    </tr>\n",
       "    <tr>\n",
       "      <th>2024-05-28</th>\n",
       "      <td>USW00023230</td>\n",
       "      <td>OAKLAND INTERNATIONAL AIRPORT, CA US</td>\n",
       "      <td>NaN</td>\n",
       "      <td>NaN</td>\n",
       "      <td>10.07</td>\n",
       "      <td>NaN</td>\n",
       "      <td>NaN</td>\n",
       "      <td>NaN</td>\n",
       "      <td>NaN</td>\n",
       "      <td>NaN</td>\n",
       "      <td>...</td>\n",
       "      <td>NaN</td>\n",
       "      <td>NaN</td>\n",
       "      <td>NaN</td>\n",
       "      <td>NaN</td>\n",
       "      <td>NaN</td>\n",
       "      <td>NaN</td>\n",
       "      <td>NaN</td>\n",
       "      <td>NaN</td>\n",
       "      <td>NaN</td>\n",
       "      <td>NaN</td>\n",
       "    </tr>\n",
       "    <tr>\n",
       "      <th>2024-05-29</th>\n",
       "      <td>USW00023230</td>\n",
       "      <td>OAKLAND INTERNATIONAL AIRPORT, CA US</td>\n",
       "      <td>NaN</td>\n",
       "      <td>NaN</td>\n",
       "      <td>6.93</td>\n",
       "      <td>NaN</td>\n",
       "      <td>NaN</td>\n",
       "      <td>NaN</td>\n",
       "      <td>NaN</td>\n",
       "      <td>NaN</td>\n",
       "      <td>...</td>\n",
       "      <td>NaN</td>\n",
       "      <td>NaN</td>\n",
       "      <td>NaN</td>\n",
       "      <td>NaN</td>\n",
       "      <td>NaN</td>\n",
       "      <td>NaN</td>\n",
       "      <td>NaN</td>\n",
       "      <td>NaN</td>\n",
       "      <td>NaN</td>\n",
       "      <td>NaN</td>\n",
       "    </tr>\n",
       "    <tr>\n",
       "      <th>2024-05-30</th>\n",
       "      <td>USW00023230</td>\n",
       "      <td>OAKLAND INTERNATIONAL AIRPORT, CA US</td>\n",
       "      <td>NaN</td>\n",
       "      <td>NaN</td>\n",
       "      <td>6.71</td>\n",
       "      <td>NaN</td>\n",
       "      <td>NaN</td>\n",
       "      <td>NaN</td>\n",
       "      <td>NaN</td>\n",
       "      <td>NaN</td>\n",
       "      <td>...</td>\n",
       "      <td>NaN</td>\n",
       "      <td>NaN</td>\n",
       "      <td>NaN</td>\n",
       "      <td>NaN</td>\n",
       "      <td>NaN</td>\n",
       "      <td>NaN</td>\n",
       "      <td>NaN</td>\n",
       "      <td>NaN</td>\n",
       "      <td>NaN</td>\n",
       "      <td>NaN</td>\n",
       "    </tr>\n",
       "    <tr>\n",
       "      <th>2024-05-31</th>\n",
       "      <td>USW00023230</td>\n",
       "      <td>OAKLAND INTERNATIONAL AIRPORT, CA US</td>\n",
       "      <td>NaN</td>\n",
       "      <td>NaN</td>\n",
       "      <td>10.51</td>\n",
       "      <td>NaN</td>\n",
       "      <td>NaN</td>\n",
       "      <td>NaN</td>\n",
       "      <td>NaN</td>\n",
       "      <td>NaN</td>\n",
       "      <td>...</td>\n",
       "      <td>NaN</td>\n",
       "      <td>NaN</td>\n",
       "      <td>NaN</td>\n",
       "      <td>NaN</td>\n",
       "      <td>NaN</td>\n",
       "      <td>NaN</td>\n",
       "      <td>NaN</td>\n",
       "      <td>NaN</td>\n",
       "      <td>NaN</td>\n",
       "      <td>NaN</td>\n",
       "    </tr>\n",
       "  </tbody>\n",
       "</table>\n",
       "<p>17714 rows × 35 columns</p>\n",
       "</div>"
      ],
      "text/plain": [
       "                STATION                                  NAME  ACMH  ACSH  \\\n",
       "DATE                                                                        \n",
       "1960-01-01  USW00023230  OAKLAND INTERNATIONAL AIRPORT, CA US   NaN   NaN   \n",
       "1960-01-02  USW00023230  OAKLAND INTERNATIONAL AIRPORT, CA US   NaN   NaN   \n",
       "1960-01-03  USW00023230  OAKLAND INTERNATIONAL AIRPORT, CA US   NaN   NaN   \n",
       "1960-01-04  USW00023230  OAKLAND INTERNATIONAL AIRPORT, CA US   NaN   NaN   \n",
       "1960-01-05  USW00023230  OAKLAND INTERNATIONAL AIRPORT, CA US   NaN   NaN   \n",
       "...                 ...                                   ...   ...   ...   \n",
       "2024-05-27  USW00023230  OAKLAND INTERNATIONAL AIRPORT, CA US   NaN   NaN   \n",
       "2024-05-28  USW00023230  OAKLAND INTERNATIONAL AIRPORT, CA US   NaN   NaN   \n",
       "2024-05-29  USW00023230  OAKLAND INTERNATIONAL AIRPORT, CA US   NaN   NaN   \n",
       "2024-05-30  USW00023230  OAKLAND INTERNATIONAL AIRPORT, CA US   NaN   NaN   \n",
       "2024-05-31  USW00023230  OAKLAND INTERNATIONAL AIRPORT, CA US   NaN   NaN   \n",
       "\n",
       "             AWND  DAPR  FMTM  FRGT  MDPR  PGTM  ...  WT01  WT02  WT03  WT04  \\\n",
       "DATE                                             ...                           \n",
       "1960-01-01    NaN   NaN   NaN   NaN   NaN   NaN  ...   NaN   NaN   NaN   NaN   \n",
       "1960-01-02    NaN   NaN   NaN   NaN   NaN   NaN  ...   NaN   NaN   NaN   NaN   \n",
       "1960-01-03    NaN   NaN   NaN   NaN   NaN   NaN  ...   NaN   NaN   NaN   NaN   \n",
       "1960-01-04    NaN   NaN   NaN   NaN   NaN   NaN  ...   NaN   NaN   NaN   NaN   \n",
       "1960-01-05    NaN   NaN   NaN   NaN   NaN   NaN  ...   1.0   NaN   NaN   NaN   \n",
       "...           ...   ...   ...   ...   ...   ...  ...   ...   ...   ...   ...   \n",
       "2024-05-27  10.51   NaN   NaN   NaN   NaN   NaN  ...   NaN   NaN   NaN   NaN   \n",
       "2024-05-28  10.07   NaN   NaN   NaN   NaN   NaN  ...   NaN   NaN   NaN   NaN   \n",
       "2024-05-29   6.93   NaN   NaN   NaN   NaN   NaN  ...   NaN   NaN   NaN   NaN   \n",
       "2024-05-30   6.71   NaN   NaN   NaN   NaN   NaN  ...   NaN   NaN   NaN   NaN   \n",
       "2024-05-31  10.51   NaN   NaN   NaN   NaN   NaN  ...   NaN   NaN   NaN   NaN   \n",
       "\n",
       "            WT05  WT07  WT08  WT09  WT16  WT18  \n",
       "DATE                                            \n",
       "1960-01-01   NaN   NaN   NaN   NaN   NaN   NaN  \n",
       "1960-01-02   NaN   NaN   NaN   NaN   1.0   NaN  \n",
       "1960-01-03   NaN   NaN   NaN   NaN   NaN   NaN  \n",
       "1960-01-04   NaN   NaN   NaN   NaN   NaN   NaN  \n",
       "1960-01-05   NaN   NaN   1.0   NaN   NaN   NaN  \n",
       "...          ...   ...   ...   ...   ...   ...  \n",
       "2024-05-27   NaN   NaN   NaN   NaN   NaN   NaN  \n",
       "2024-05-28   NaN   NaN   NaN   NaN   NaN   NaN  \n",
       "2024-05-29   NaN   NaN   NaN   NaN   NaN   NaN  \n",
       "2024-05-30   NaN   NaN   NaN   NaN   NaN   NaN  \n",
       "2024-05-31   NaN   NaN   NaN   NaN   NaN   NaN  \n",
       "\n",
       "[17714 rows x 35 columns]"
      ]
     },
     "execution_count": 3,
     "metadata": {},
     "output_type": "execute_result"
    }
   ],
   "source": [
    "weather"
   ]
  },
  {
   "cell_type": "code",
   "execution_count": 4,
   "id": "dbdf8e33",
   "metadata": {},
   "outputs": [
    {
     "data": {
      "application/vnd.microsoft.datawrangler.viewer.v0+json": {
       "columns": [
        {
         "name": "index",
         "rawType": "object",
         "type": "string"
        },
        {
         "name": "0",
         "rawType": "float64",
         "type": "float"
        }
       ],
       "ref": "fc70f384-8e33-4f9b-b1ff-0d574d5c8720",
       "rows": [
        [
         "STATION",
         "0.0"
        ],
        [
         "NAME",
         "0.0"
        ],
        [
         "ACMH",
         "0.670091453087953"
        ],
        [
         "ACSH",
         "0.670091453087953"
        ],
        [
         "AWND",
         "0.49717737382861016"
        ],
        [
         "DAPR",
         "0.9995483798125776"
        ],
        [
         "FMTM",
         "0.876368973693124"
        ],
        [
         "FRGT",
         "0.9998870949531444"
        ],
        [
         "MDPR",
         "0.9995483798125776"
        ],
        [
         "PGTM",
         "0.5194761205825901"
        ],
        [
         "PRCP",
         "0.01603251665349441"
        ],
        [
         "SNOW",
         "0.35757028339166763"
        ],
        [
         "SNWD",
         "0.35057017048662076"
        ],
        [
         "TAVG",
         "0.885006209777577"
        ],
        [
         "TMAX",
         "0.0006209777577057694"
        ],
        [
         "TMIN",
         "0.0007903353279891611"
        ],
        [
         "TSUN",
         "0.9350231455346054"
        ],
        [
         "WDF1",
         "0.670091453087953"
        ],
        [
         "WDF2",
         "0.4971209213051823"
        ],
        [
         "WDF5",
         "0.5021451958902563"
        ],
        [
         "WDFG",
         "0.7591170825335892"
        ],
        [
         "WSF1",
         "0.670091453087953"
        ],
        [
         "WSF2",
         "0.49706446878175453"
        ],
        [
         "WSF5",
         "0.5021451958902563"
        ],
        [
         "WSFG",
         "0.7591170825335892"
        ],
        [
         "WT01",
         "0.7761092920853562"
        ],
        [
         "WT02",
         "0.980241616800271"
        ],
        [
         "WT03",
         "0.9924353618606752"
        ],
        [
         "WT04",
         "0.9997741899062889"
        ],
        [
         "WT05",
         "0.9983628768205939"
        ],
        [
         "WT07",
         "0.9998870949531444"
        ],
        [
         "WT08",
         "0.8166986564299424"
        ],
        [
         "WT09",
         "0.9998870949531444"
        ],
        [
         "WT16",
         "0.8896353166986565"
        ],
        [
         "WT18",
         "0.9998306424297166"
        ]
       ],
       "shape": {
        "columns": 1,
        "rows": 35
       }
      },
      "text/plain": [
       "STATION    0.000000\n",
       "NAME       0.000000\n",
       "ACMH       0.670091\n",
       "ACSH       0.670091\n",
       "AWND       0.497177\n",
       "DAPR       0.999548\n",
       "FMTM       0.876369\n",
       "FRGT       0.999887\n",
       "MDPR       0.999548\n",
       "PGTM       0.519476\n",
       "PRCP       0.016033\n",
       "SNOW       0.357570\n",
       "SNWD       0.350570\n",
       "TAVG       0.885006\n",
       "TMAX       0.000621\n",
       "TMIN       0.000790\n",
       "TSUN       0.935023\n",
       "WDF1       0.670091\n",
       "WDF2       0.497121\n",
       "WDF5       0.502145\n",
       "WDFG       0.759117\n",
       "WSF1       0.670091\n",
       "WSF2       0.497064\n",
       "WSF5       0.502145\n",
       "WSFG       0.759117\n",
       "WT01       0.776109\n",
       "WT02       0.980242\n",
       "WT03       0.992435\n",
       "WT04       0.999774\n",
       "WT05       0.998363\n",
       "WT07       0.999887\n",
       "WT08       0.816699\n",
       "WT09       0.999887\n",
       "WT16       0.889635\n",
       "WT18       0.999831\n",
       "dtype: float64"
      ]
     },
     "execution_count": 4,
     "metadata": {},
     "output_type": "execute_result"
    }
   ],
   "source": [
    "weather.apply(pd.isnull).sum()/weather.shape[0]"
   ]
  },
  {
   "cell_type": "code",
   "execution_count": 9,
   "id": "196e76fd",
   "metadata": {},
   "outputs": [],
   "source": [
    "core_weather = weather[[\"PRCP\", \"SNOW\", \"SNWD\", \"TMAX\", \"TMIN\"]].copy()"
   ]
  },
  {
   "cell_type": "code",
   "execution_count": 10,
   "id": "17be362d",
   "metadata": {},
   "outputs": [],
   "source": [
    "core_weather.columns = [\"precip\", \"snow\", \"snow_depth\", \"temp_max\", \"temp_min\"]"
   ]
  },
  {
   "cell_type": "code",
   "execution_count": 11,
   "id": "56f8a088",
   "metadata": {},
   "outputs": [
    {
     "data": {
      "application/vnd.microsoft.datawrangler.viewer.v0+json": {
       "columns": [
        {
         "name": "DATE",
         "rawType": "object",
         "type": "string"
        },
        {
         "name": "precip",
         "rawType": "float64",
         "type": "float"
        },
        {
         "name": "snow",
         "rawType": "float64",
         "type": "float"
        },
        {
         "name": "snow_depth",
         "rawType": "float64",
         "type": "float"
        },
        {
         "name": "temp_max",
         "rawType": "float64",
         "type": "float"
        },
        {
         "name": "temp_min",
         "rawType": "float64",
         "type": "float"
        }
       ],
       "ref": "71acbe6f-c821-4c85-bc28-50118f89b876",
       "rows": [
        [
         "1960-01-01",
         "0.0",
         "0.0",
         "0.0",
         "49.0",
         "30.0"
        ],
        [
         "1960-01-02",
         "0.0",
         "0.0",
         "0.0",
         "49.0",
         "29.0"
        ],
        [
         "1960-01-03",
         "0.0",
         "0.0",
         "0.0",
         "54.0",
         "35.0"
        ],
        [
         "1960-01-04",
         "0.0",
         "0.0",
         "0.0",
         "54.0",
         "36.0"
        ],
        [
         "1960-01-05",
         "0.0",
         "0.0",
         "0.0",
         "55.0",
         "33.0"
        ],
        [
         "1960-01-06",
         "0.0",
         "0.0",
         "0.0",
         "53.0",
         "38.0"
        ],
        [
         "1960-01-07",
         "0.0",
         "0.0",
         "0.0",
         "56.0",
         "46.0"
        ],
        [
         "1960-01-08",
         "0.45",
         "0.0",
         "0.0",
         "54.0",
         "49.0"
        ],
        [
         "1960-01-09",
         "0.61",
         "0.0",
         "0.0",
         "51.0",
         "46.0"
        ],
        [
         "1960-01-10",
         "0.08",
         "0.0",
         "0.0",
         "55.0",
         "46.0"
        ],
        [
         "1960-01-11",
         "0.48",
         "0.0",
         "0.0",
         "53.0",
         "43.0"
        ],
        [
         "1960-01-12",
         "0.0",
         "0.0",
         "0.0",
         "53.0",
         "37.0"
        ],
        [
         "1960-01-13",
         "0.05",
         "0.0",
         "0.0",
         "49.0",
         "33.0"
        ],
        [
         "1960-01-14",
         "0.67",
         "0.0",
         "0.0",
         "48.0",
         "40.0"
        ],
        [
         "1960-01-15",
         "0.0",
         "0.0",
         "0.0",
         "54.0",
         "37.0"
        ],
        [
         "1960-01-16",
         "0.0",
         "0.0",
         "0.0",
         "56.0",
         "35.0"
        ],
        [
         "1960-01-17",
         "0.0",
         "0.0",
         "0.0",
         "54.0",
         "34.0"
        ],
        [
         "1960-01-18",
         "0.0",
         "0.0",
         "0.0",
         "51.0",
         "40.0"
        ],
        [
         "1960-01-19",
         "0.0",
         "0.0",
         "0.0",
         "52.0",
         "41.0"
        ],
        [
         "1960-01-20",
         "0.0",
         "0.0",
         "0.0",
         "58.0",
         "47.0"
        ],
        [
         "1960-01-21",
         "0.11",
         "0.0",
         "0.0",
         "54.0",
         "51.0"
        ],
        [
         "1960-01-22",
         "0.0",
         "0.0",
         "0.0",
         "61.0",
         "49.0"
        ],
        [
         "1960-01-23",
         "0.0",
         "0.0",
         "0.0",
         "60.0",
         "45.0"
        ],
        [
         "1960-01-24",
         "0.35",
         "0.0",
         "0.0",
         "60.0",
         "47.0"
        ],
        [
         "1960-01-25",
         "0.58",
         "0.0",
         "0.0",
         "60.0",
         "51.0"
        ],
        [
         "1960-01-26",
         "0.04",
         "0.0",
         "0.0",
         "58.0",
         "50.0"
        ],
        [
         "1960-01-27",
         "0.0",
         "0.0",
         "0.0",
         "60.0",
         "47.0"
        ],
        [
         "1960-01-28",
         "0.0",
         "0.0",
         "0.0",
         "62.0",
         "47.0"
        ],
        [
         "1960-01-29",
         "0.0",
         "0.0",
         "0.0",
         "63.0",
         "44.0"
        ],
        [
         "1960-01-30",
         "0.0",
         "0.0",
         "0.0",
         "61.0",
         "49.0"
        ],
        [
         "1960-01-31",
         "0.0",
         "0.0",
         "0.0",
         "59.0",
         "46.0"
        ],
        [
         "1960-02-01",
         "0.81",
         "0.0",
         "0.0",
         "62.0",
         "51.0"
        ],
        [
         "1960-02-02",
         "0.0",
         "0.0",
         "0.0",
         "59.0",
         "43.0"
        ],
        [
         "1960-02-03",
         "0.2",
         "0.0",
         "0.0",
         "59.0",
         "47.0"
        ],
        [
         "1960-02-04",
         "0.16",
         "0.0",
         "0.0",
         "60.0",
         "42.0"
        ],
        [
         "1960-02-05",
         "0.67",
         "0.0",
         "0.0",
         "60.0",
         "53.0"
        ],
        [
         "1960-02-06",
         "0.0",
         "0.0",
         "0.0",
         "63.0",
         "54.0"
        ],
        [
         "1960-02-07",
         "0.06",
         "0.0",
         "0.0",
         "62.0",
         "55.0"
        ],
        [
         "1960-02-08",
         "0.51",
         "0.0",
         "0.0",
         "60.0",
         "50.0"
        ],
        [
         "1960-02-09",
         "0.36",
         "0.0",
         "0.0",
         "55.0",
         "48.0"
        ],
        [
         "1960-02-10",
         "0.07",
         "0.0",
         "0.0",
         "60.0",
         "44.0"
        ],
        [
         "1960-02-11",
         "0.0",
         "0.0",
         "0.0",
         "61.0",
         "40.0"
        ],
        [
         "1960-02-12",
         "0.0",
         "0.0",
         "0.0",
         "61.0",
         "42.0"
        ],
        [
         "1960-02-13",
         "0.02",
         "0.0",
         "0.0",
         "60.0",
         "45.0"
        ],
        [
         "1960-02-14",
         "0.0",
         "0.0",
         "0.0",
         "62.0",
         "39.0"
        ],
        [
         "1960-02-15",
         "0.0",
         "0.0",
         "0.0",
         "61.0",
         "42.0"
        ],
        [
         "1960-02-16",
         "0.0",
         "0.0",
         "0.0",
         "64.0",
         "42.0"
        ],
        [
         "1960-02-17",
         "0.0",
         "0.0",
         "0.0",
         "62.0",
         "38.0"
        ],
        [
         "1960-02-18",
         "0.13",
         "0.0",
         "0.0",
         "55.0",
         "42.0"
        ],
        [
         "1960-02-19",
         "0.0",
         "0.0",
         "0.0",
         "60.0",
         "40.0"
        ]
       ],
       "shape": {
        "columns": 5,
        "rows": 17714
       }
      },
      "text/html": [
       "<div>\n",
       "<style scoped>\n",
       "    .dataframe tbody tr th:only-of-type {\n",
       "        vertical-align: middle;\n",
       "    }\n",
       "\n",
       "    .dataframe tbody tr th {\n",
       "        vertical-align: top;\n",
       "    }\n",
       "\n",
       "    .dataframe thead th {\n",
       "        text-align: right;\n",
       "    }\n",
       "</style>\n",
       "<table border=\"1\" class=\"dataframe\">\n",
       "  <thead>\n",
       "    <tr style=\"text-align: right;\">\n",
       "      <th></th>\n",
       "      <th>precip</th>\n",
       "      <th>snow</th>\n",
       "      <th>snow_depth</th>\n",
       "      <th>temp_max</th>\n",
       "      <th>temp_min</th>\n",
       "    </tr>\n",
       "    <tr>\n",
       "      <th>DATE</th>\n",
       "      <th></th>\n",
       "      <th></th>\n",
       "      <th></th>\n",
       "      <th></th>\n",
       "      <th></th>\n",
       "    </tr>\n",
       "  </thead>\n",
       "  <tbody>\n",
       "    <tr>\n",
       "      <th>1960-01-01</th>\n",
       "      <td>0.0</td>\n",
       "      <td>0.0</td>\n",
       "      <td>0.0</td>\n",
       "      <td>49.0</td>\n",
       "      <td>30.0</td>\n",
       "    </tr>\n",
       "    <tr>\n",
       "      <th>1960-01-02</th>\n",
       "      <td>0.0</td>\n",
       "      <td>0.0</td>\n",
       "      <td>0.0</td>\n",
       "      <td>49.0</td>\n",
       "      <td>29.0</td>\n",
       "    </tr>\n",
       "    <tr>\n",
       "      <th>1960-01-03</th>\n",
       "      <td>0.0</td>\n",
       "      <td>0.0</td>\n",
       "      <td>0.0</td>\n",
       "      <td>54.0</td>\n",
       "      <td>35.0</td>\n",
       "    </tr>\n",
       "    <tr>\n",
       "      <th>1960-01-04</th>\n",
       "      <td>0.0</td>\n",
       "      <td>0.0</td>\n",
       "      <td>0.0</td>\n",
       "      <td>54.0</td>\n",
       "      <td>36.0</td>\n",
       "    </tr>\n",
       "    <tr>\n",
       "      <th>1960-01-05</th>\n",
       "      <td>0.0</td>\n",
       "      <td>0.0</td>\n",
       "      <td>0.0</td>\n",
       "      <td>55.0</td>\n",
       "      <td>33.0</td>\n",
       "    </tr>\n",
       "    <tr>\n",
       "      <th>...</th>\n",
       "      <td>...</td>\n",
       "      <td>...</td>\n",
       "      <td>...</td>\n",
       "      <td>...</td>\n",
       "      <td>...</td>\n",
       "    </tr>\n",
       "    <tr>\n",
       "      <th>2024-05-27</th>\n",
       "      <td>0.0</td>\n",
       "      <td>NaN</td>\n",
       "      <td>NaN</td>\n",
       "      <td>63.0</td>\n",
       "      <td>52.0</td>\n",
       "    </tr>\n",
       "    <tr>\n",
       "      <th>2024-05-28</th>\n",
       "      <td>0.0</td>\n",
       "      <td>NaN</td>\n",
       "      <td>NaN</td>\n",
       "      <td>65.0</td>\n",
       "      <td>52.0</td>\n",
       "    </tr>\n",
       "    <tr>\n",
       "      <th>2024-05-29</th>\n",
       "      <td>0.0</td>\n",
       "      <td>NaN</td>\n",
       "      <td>NaN</td>\n",
       "      <td>75.0</td>\n",
       "      <td>50.0</td>\n",
       "    </tr>\n",
       "    <tr>\n",
       "      <th>2024-05-30</th>\n",
       "      <td>0.0</td>\n",
       "      <td>NaN</td>\n",
       "      <td>NaN</td>\n",
       "      <td>75.0</td>\n",
       "      <td>51.0</td>\n",
       "    </tr>\n",
       "    <tr>\n",
       "      <th>2024-05-31</th>\n",
       "      <td>0.0</td>\n",
       "      <td>NaN</td>\n",
       "      <td>NaN</td>\n",
       "      <td>73.0</td>\n",
       "      <td>54.0</td>\n",
       "    </tr>\n",
       "  </tbody>\n",
       "</table>\n",
       "<p>17714 rows × 5 columns</p>\n",
       "</div>"
      ],
      "text/plain": [
       "            precip  snow  snow_depth  temp_max  temp_min\n",
       "DATE                                                    \n",
       "1960-01-01     0.0   0.0         0.0      49.0      30.0\n",
       "1960-01-02     0.0   0.0         0.0      49.0      29.0\n",
       "1960-01-03     0.0   0.0         0.0      54.0      35.0\n",
       "1960-01-04     0.0   0.0         0.0      54.0      36.0\n",
       "1960-01-05     0.0   0.0         0.0      55.0      33.0\n",
       "...            ...   ...         ...       ...       ...\n",
       "2024-05-27     0.0   NaN         NaN      63.0      52.0\n",
       "2024-05-28     0.0   NaN         NaN      65.0      52.0\n",
       "2024-05-29     0.0   NaN         NaN      75.0      50.0\n",
       "2024-05-30     0.0   NaN         NaN      75.0      51.0\n",
       "2024-05-31     0.0   NaN         NaN      73.0      54.0\n",
       "\n",
       "[17714 rows x 5 columns]"
      ]
     },
     "execution_count": 11,
     "metadata": {},
     "output_type": "execute_result"
    }
   ],
   "source": [
    "core_weather"
   ]
  },
  {
   "cell_type": "code",
   "execution_count": 12,
   "id": "83feb521",
   "metadata": {},
   "outputs": [
    {
     "data": {
      "application/vnd.microsoft.datawrangler.viewer.v0+json": {
       "columns": [
        {
         "name": "index",
         "rawType": "object",
         "type": "string"
        },
        {
         "name": "0",
         "rawType": "float64",
         "type": "float"
        }
       ],
       "ref": "18f51e91-ebb5-413e-acfc-13f1570f8f55",
       "rows": [
        [
         "precip",
         "0.01603251665349441"
        ],
        [
         "snow",
         "0.35757028339166763"
        ],
        [
         "snow_depth",
         "0.35057017048662076"
        ],
        [
         "temp_max",
         "0.0006209777577057694"
        ],
        [
         "temp_min",
         "0.0007903353279891611"
        ]
       ],
       "shape": {
        "columns": 1,
        "rows": 5
       }
      },
      "text/plain": [
       "precip        0.016033\n",
       "snow          0.357570\n",
       "snow_depth    0.350570\n",
       "temp_max      0.000621\n",
       "temp_min      0.000790\n",
       "dtype: float64"
      ]
     },
     "execution_count": 12,
     "metadata": {},
     "output_type": "execute_result"
    }
   ],
   "source": [
    "core_weather.apply(pd.isnull).sum()/weather.shape[0]"
   ]
  },
  {
   "cell_type": "code",
   "execution_count": 13,
   "id": "54ab6d7d",
   "metadata": {},
   "outputs": [
    {
     "data": {
      "application/vnd.microsoft.datawrangler.viewer.v0+json": {
       "columns": [
        {
         "name": "snow",
         "rawType": "float64",
         "type": "float"
        },
        {
         "name": "count",
         "rawType": "int64",
         "type": "integer"
        }
       ],
       "ref": "ba4f1a6e-a3b4-4967-a5ef-325ec7b21c10",
       "rows": [
        [
         "0.0",
         "11379"
        ],
        [
         "1.0",
         "1"
        ]
       ],
       "shape": {
        "columns": 1,
        "rows": 2
       }
      },
      "text/plain": [
       "snow\n",
       "0.0    11379\n",
       "1.0        1\n",
       "Name: count, dtype: int64"
      ]
     },
     "execution_count": 13,
     "metadata": {},
     "output_type": "execute_result"
    }
   ],
   "source": [
    "core_weather[\"snow\"].value_counts()"
   ]
  },
  {
   "cell_type": "code",
   "execution_count": 14,
   "id": "e689b4f0",
   "metadata": {},
   "outputs": [],
   "source": [
    "del core_weather[\"snow\"]"
   ]
  },
  {
   "cell_type": "code",
   "execution_count": 15,
   "id": "099d4f19",
   "metadata": {},
   "outputs": [
    {
     "data": {
      "application/vnd.microsoft.datawrangler.viewer.v0+json": {
       "columns": [
        {
         "name": "snow_depth",
         "rawType": "float64",
         "type": "float"
        },
        {
         "name": "count",
         "rawType": "int64",
         "type": "integer"
        }
       ],
       "ref": "14717f53-c1c3-462c-a9a7-dd44ceead496",
       "rows": [
        [
         "0.0",
         "11504"
        ]
       ],
       "shape": {
        "columns": 1,
        "rows": 1
       }
      },
      "text/plain": [
       "snow_depth\n",
       "0.0    11504\n",
       "Name: count, dtype: int64"
      ]
     },
     "execution_count": 15,
     "metadata": {},
     "output_type": "execute_result"
    }
   ],
   "source": [
    "core_weather[\"snow_depth\"].value_counts()"
   ]
  },
  {
   "cell_type": "code",
   "execution_count": 16,
   "id": "91b016a8",
   "metadata": {},
   "outputs": [],
   "source": [
    "del core_weather[\"snow_depth\"]"
   ]
  },
  {
   "cell_type": "code",
   "execution_count": 17,
   "id": "1393777a",
   "metadata": {},
   "outputs": [
    {
     "data": {
      "application/vnd.microsoft.datawrangler.viewer.v0+json": {
       "columns": [
        {
         "name": "DATE",
         "rawType": "object",
         "type": "string"
        },
        {
         "name": "precip",
         "rawType": "float64",
         "type": "float"
        },
        {
         "name": "temp_max",
         "rawType": "float64",
         "type": "float"
        },
        {
         "name": "temp_min",
         "rawType": "float64",
         "type": "float"
        }
       ],
       "ref": "cb15cebd-cf0b-452d-b3f4-6f4016c61cd2",
       "rows": [
        [
         "1983-10-29",
         null,
         "67.0",
         "57.0"
        ],
        [
         "1983-10-30",
         null,
         "70.0",
         "63.0"
        ],
        [
         "1983-10-31",
         null,
         "69.0",
         "61.0"
        ],
        [
         "1983-11-12",
         null,
         "63.0",
         "55.0"
        ],
        [
         "1983-11-13",
         null,
         "60.0",
         "50.0"
        ],
        [
         "1983-11-14",
         null,
         "61.0",
         "45.0"
        ],
        [
         "1983-11-19",
         null,
         "61.0",
         "53.0"
        ],
        [
         "1983-11-20",
         null,
         "58.0",
         "46.0"
        ],
        [
         "1983-11-21",
         null,
         "59.0",
         "41.0"
        ],
        [
         "1983-12-03",
         null,
         "58.0",
         "54.0"
        ],
        [
         "1983-12-04",
         null,
         "57.0",
         "45.0"
        ],
        [
         "1983-12-05",
         null,
         "55.0",
         "42.0"
        ],
        [
         "1983-12-10",
         null,
         "59.0",
         "55.0"
        ],
        [
         "1983-12-11",
         null,
         "59.0",
         "51.0"
        ],
        [
         "1983-12-12",
         null,
         "56.0",
         "48.0"
        ],
        [
         "1983-12-17",
         null,
         "61.0",
         "51.0"
        ],
        [
         "1983-12-18",
         null,
         "56.0",
         "50.0"
        ],
        [
         "1983-12-19",
         null,
         "57.0",
         "49.0"
        ],
        [
         "1983-12-24",
         null,
         "58.0",
         "49.0"
        ],
        [
         "1983-12-25",
         null,
         "58.0",
         "53.0"
        ],
        [
         "1983-12-26",
         null,
         "57.0",
         "53.0"
        ],
        [
         "1985-07-22",
         null,
         "67.0",
         "58.0"
        ],
        [
         "1985-11-28",
         null,
         "59.0",
         "52.0"
        ],
        [
         "1985-11-29",
         null,
         "57.0",
         "51.0"
        ],
        [
         "1985-12-01",
         null,
         "57.0",
         "46.0"
        ],
        [
         "1985-12-02",
         null,
         "62.0",
         "54.0"
        ],
        [
         "1985-12-03",
         null,
         "60.0",
         "53.0"
        ],
        [
         "1985-12-04",
         null,
         "61.0",
         "53.0"
        ],
        [
         "1985-12-05",
         null,
         "60.0",
         "53.0"
        ],
        [
         "1985-12-06",
         null,
         "59.0",
         "53.0"
        ],
        [
         "1985-12-07",
         null,
         "60.0",
         "47.0"
        ],
        [
         "1985-12-08",
         null,
         "58.0",
         "42.0"
        ],
        [
         "1985-12-09",
         null,
         "59.0",
         "41.0"
        ],
        [
         "1985-12-10",
         null,
         "55.0",
         "43.0"
        ],
        [
         "1985-12-11",
         null,
         "55.0",
         "40.0"
        ],
        [
         "1985-12-12",
         null,
         "54.0",
         "35.0"
        ],
        [
         "1985-12-13",
         null,
         "52.0",
         "37.0"
        ],
        [
         "1985-12-14",
         null,
         "54.0",
         "41.0"
        ],
        [
         "1985-12-15",
         null,
         "52.0",
         "42.0"
        ],
        [
         "1985-12-16",
         null,
         "63.0",
         "37.0"
        ],
        [
         "1985-12-17",
         null,
         "56.0",
         "42.0"
        ],
        [
         "1985-12-18",
         null,
         "56.0",
         "40.0"
        ],
        [
         "1985-12-19",
         null,
         "55.0",
         "39.0"
        ],
        [
         "1985-12-20",
         null,
         "56.0",
         "40.0"
        ],
        [
         "1985-12-21",
         null,
         "52.0",
         "38.0"
        ],
        [
         "1985-12-22",
         null,
         "55.0",
         "37.0"
        ],
        [
         "1985-12-23",
         null,
         "52.0",
         "37.0"
        ],
        [
         "1985-12-24",
         null,
         "51.0",
         "39.0"
        ],
        [
         "1985-12-25",
         null,
         "52.0",
         "38.0"
        ],
        [
         "1985-12-26",
         null,
         "52.0",
         "35.0"
        ]
       ],
       "shape": {
        "columns": 3,
        "rows": 284
       }
      },
      "text/html": [
       "<div>\n",
       "<style scoped>\n",
       "    .dataframe tbody tr th:only-of-type {\n",
       "        vertical-align: middle;\n",
       "    }\n",
       "\n",
       "    .dataframe tbody tr th {\n",
       "        vertical-align: top;\n",
       "    }\n",
       "\n",
       "    .dataframe thead th {\n",
       "        text-align: right;\n",
       "    }\n",
       "</style>\n",
       "<table border=\"1\" class=\"dataframe\">\n",
       "  <thead>\n",
       "    <tr style=\"text-align: right;\">\n",
       "      <th></th>\n",
       "      <th>precip</th>\n",
       "      <th>temp_max</th>\n",
       "      <th>temp_min</th>\n",
       "    </tr>\n",
       "    <tr>\n",
       "      <th>DATE</th>\n",
       "      <th></th>\n",
       "      <th></th>\n",
       "      <th></th>\n",
       "    </tr>\n",
       "  </thead>\n",
       "  <tbody>\n",
       "    <tr>\n",
       "      <th>1983-10-29</th>\n",
       "      <td>NaN</td>\n",
       "      <td>67.0</td>\n",
       "      <td>57.0</td>\n",
       "    </tr>\n",
       "    <tr>\n",
       "      <th>1983-10-30</th>\n",
       "      <td>NaN</td>\n",
       "      <td>70.0</td>\n",
       "      <td>63.0</td>\n",
       "    </tr>\n",
       "    <tr>\n",
       "      <th>1983-10-31</th>\n",
       "      <td>NaN</td>\n",
       "      <td>69.0</td>\n",
       "      <td>61.0</td>\n",
       "    </tr>\n",
       "    <tr>\n",
       "      <th>1983-11-12</th>\n",
       "      <td>NaN</td>\n",
       "      <td>63.0</td>\n",
       "      <td>55.0</td>\n",
       "    </tr>\n",
       "    <tr>\n",
       "      <th>1983-11-13</th>\n",
       "      <td>NaN</td>\n",
       "      <td>60.0</td>\n",
       "      <td>50.0</td>\n",
       "    </tr>\n",
       "    <tr>\n",
       "      <th>...</th>\n",
       "      <td>...</td>\n",
       "      <td>...</td>\n",
       "      <td>...</td>\n",
       "    </tr>\n",
       "    <tr>\n",
       "      <th>2016-05-08</th>\n",
       "      <td>NaN</td>\n",
       "      <td>67.0</td>\n",
       "      <td>56.0</td>\n",
       "    </tr>\n",
       "    <tr>\n",
       "      <th>2017-10-28</th>\n",
       "      <td>NaN</td>\n",
       "      <td>68.0</td>\n",
       "      <td>50.0</td>\n",
       "    </tr>\n",
       "    <tr>\n",
       "      <th>2023-03-29</th>\n",
       "      <td>NaN</td>\n",
       "      <td>52.0</td>\n",
       "      <td>43.0</td>\n",
       "    </tr>\n",
       "    <tr>\n",
       "      <th>2023-12-06</th>\n",
       "      <td>NaN</td>\n",
       "      <td>61.0</td>\n",
       "      <td>47.0</td>\n",
       "    </tr>\n",
       "    <tr>\n",
       "      <th>2023-12-29</th>\n",
       "      <td>NaN</td>\n",
       "      <td>63.0</td>\n",
       "      <td>55.0</td>\n",
       "    </tr>\n",
       "  </tbody>\n",
       "</table>\n",
       "<p>284 rows × 3 columns</p>\n",
       "</div>"
      ],
      "text/plain": [
       "            precip  temp_max  temp_min\n",
       "DATE                                  \n",
       "1983-10-29     NaN      67.0      57.0\n",
       "1983-10-30     NaN      70.0      63.0\n",
       "1983-10-31     NaN      69.0      61.0\n",
       "1983-11-12     NaN      63.0      55.0\n",
       "1983-11-13     NaN      60.0      50.0\n",
       "...            ...       ...       ...\n",
       "2016-05-08     NaN      67.0      56.0\n",
       "2017-10-28     NaN      68.0      50.0\n",
       "2023-03-29     NaN      52.0      43.0\n",
       "2023-12-06     NaN      61.0      47.0\n",
       "2023-12-29     NaN      63.0      55.0\n",
       "\n",
       "[284 rows x 3 columns]"
      ]
     },
     "execution_count": 17,
     "metadata": {},
     "output_type": "execute_result"
    }
   ],
   "source": [
    "core_weather[pd.isnull(core_weather[\"precip\"])]"
   ]
  },
  {
   "cell_type": "code",
   "execution_count": 18,
   "id": "2d232e33",
   "metadata": {},
   "outputs": [
    {
     "data": {
      "application/vnd.microsoft.datawrangler.viewer.v0+json": {
       "columns": [
        {
         "name": "DATE",
         "rawType": "object",
         "type": "string"
        },
        {
         "name": "precip",
         "rawType": "float64",
         "type": "float"
        },
        {
         "name": "temp_max",
         "rawType": "float64",
         "type": "float"
        },
        {
         "name": "temp_min",
         "rawType": "float64",
         "type": "float"
        }
       ],
       "ref": "57543172-0289-4807-98ad-84da5f14963f",
       "rows": [
        [
         "1983-10-20",
         "0.0",
         "73.0",
         "52.0"
        ],
        [
         "1983-10-21",
         "0.0",
         "70.0",
         "50.0"
        ],
        [
         "1983-10-22",
         "0.0",
         "70.0",
         "50.0"
        ],
        [
         "1983-10-23",
         "0.0",
         "69.0",
         "60.0"
        ],
        [
         "1983-10-24",
         "0.0",
         "73.0",
         "58.0"
        ],
        [
         "1983-10-25",
         "0.0",
         "75.0",
         "53.0"
        ],
        [
         "1983-10-26",
         "0.0",
         "79.0",
         "53.0"
        ],
        [
         "1983-10-27",
         "0.0",
         "82.0",
         "56.0"
        ],
        [
         "1983-10-28",
         "0.0",
         "74.0",
         "56.0"
        ],
        [
         "1983-10-29",
         null,
         "67.0",
         "57.0"
        ],
        [
         "1983-10-30",
         null,
         "70.0",
         "63.0"
        ],
        [
         "1983-10-31",
         null,
         "69.0",
         "61.0"
        ],
        [
         "1983-11-01",
         "0.26",
         "69.0",
         "60.0"
        ],
        [
         "1983-11-02",
         "0.06",
         "68.0",
         "56.0"
        ],
        [
         "1983-11-03",
         "0.0",
         "68.0",
         "56.0"
        ],
        [
         "1983-11-04",
         "0.0",
         "67.0",
         "55.0"
        ],
        [
         "1983-11-05",
         "0.0",
         "66.0",
         "51.0"
        ],
        [
         "1983-11-06",
         "0.0",
         "69.0",
         "53.0"
        ],
        [
         "1983-11-07",
         "0.0",
         "63.0",
         "50.0"
        ],
        [
         "1983-11-08",
         "0.0",
         "61.0",
         "46.0"
        ],
        [
         "1983-11-09",
         "0.05",
         "60.0",
         "52.0"
        ],
        [
         "1983-11-10",
         "0.24",
         "62.0",
         "60.0"
        ]
       ],
       "shape": {
        "columns": 3,
        "rows": 22
       }
      },
      "text/html": [
       "<div>\n",
       "<style scoped>\n",
       "    .dataframe tbody tr th:only-of-type {\n",
       "        vertical-align: middle;\n",
       "    }\n",
       "\n",
       "    .dataframe tbody tr th {\n",
       "        vertical-align: top;\n",
       "    }\n",
       "\n",
       "    .dataframe thead th {\n",
       "        text-align: right;\n",
       "    }\n",
       "</style>\n",
       "<table border=\"1\" class=\"dataframe\">\n",
       "  <thead>\n",
       "    <tr style=\"text-align: right;\">\n",
       "      <th></th>\n",
       "      <th>precip</th>\n",
       "      <th>temp_max</th>\n",
       "      <th>temp_min</th>\n",
       "    </tr>\n",
       "    <tr>\n",
       "      <th>DATE</th>\n",
       "      <th></th>\n",
       "      <th></th>\n",
       "      <th></th>\n",
       "    </tr>\n",
       "  </thead>\n",
       "  <tbody>\n",
       "    <tr>\n",
       "      <th>1983-10-20</th>\n",
       "      <td>0.00</td>\n",
       "      <td>73.0</td>\n",
       "      <td>52.0</td>\n",
       "    </tr>\n",
       "    <tr>\n",
       "      <th>1983-10-21</th>\n",
       "      <td>0.00</td>\n",
       "      <td>70.0</td>\n",
       "      <td>50.0</td>\n",
       "    </tr>\n",
       "    <tr>\n",
       "      <th>1983-10-22</th>\n",
       "      <td>0.00</td>\n",
       "      <td>70.0</td>\n",
       "      <td>50.0</td>\n",
       "    </tr>\n",
       "    <tr>\n",
       "      <th>1983-10-23</th>\n",
       "      <td>0.00</td>\n",
       "      <td>69.0</td>\n",
       "      <td>60.0</td>\n",
       "    </tr>\n",
       "    <tr>\n",
       "      <th>1983-10-24</th>\n",
       "      <td>0.00</td>\n",
       "      <td>73.0</td>\n",
       "      <td>58.0</td>\n",
       "    </tr>\n",
       "    <tr>\n",
       "      <th>1983-10-25</th>\n",
       "      <td>0.00</td>\n",
       "      <td>75.0</td>\n",
       "      <td>53.0</td>\n",
       "    </tr>\n",
       "    <tr>\n",
       "      <th>1983-10-26</th>\n",
       "      <td>0.00</td>\n",
       "      <td>79.0</td>\n",
       "      <td>53.0</td>\n",
       "    </tr>\n",
       "    <tr>\n",
       "      <th>1983-10-27</th>\n",
       "      <td>0.00</td>\n",
       "      <td>82.0</td>\n",
       "      <td>56.0</td>\n",
       "    </tr>\n",
       "    <tr>\n",
       "      <th>1983-10-28</th>\n",
       "      <td>0.00</td>\n",
       "      <td>74.0</td>\n",
       "      <td>56.0</td>\n",
       "    </tr>\n",
       "    <tr>\n",
       "      <th>1983-10-29</th>\n",
       "      <td>NaN</td>\n",
       "      <td>67.0</td>\n",
       "      <td>57.0</td>\n",
       "    </tr>\n",
       "    <tr>\n",
       "      <th>1983-10-30</th>\n",
       "      <td>NaN</td>\n",
       "      <td>70.0</td>\n",
       "      <td>63.0</td>\n",
       "    </tr>\n",
       "    <tr>\n",
       "      <th>1983-10-31</th>\n",
       "      <td>NaN</td>\n",
       "      <td>69.0</td>\n",
       "      <td>61.0</td>\n",
       "    </tr>\n",
       "    <tr>\n",
       "      <th>1983-11-01</th>\n",
       "      <td>0.26</td>\n",
       "      <td>69.0</td>\n",
       "      <td>60.0</td>\n",
       "    </tr>\n",
       "    <tr>\n",
       "      <th>1983-11-02</th>\n",
       "      <td>0.06</td>\n",
       "      <td>68.0</td>\n",
       "      <td>56.0</td>\n",
       "    </tr>\n",
       "    <tr>\n",
       "      <th>1983-11-03</th>\n",
       "      <td>0.00</td>\n",
       "      <td>68.0</td>\n",
       "      <td>56.0</td>\n",
       "    </tr>\n",
       "    <tr>\n",
       "      <th>1983-11-04</th>\n",
       "      <td>0.00</td>\n",
       "      <td>67.0</td>\n",
       "      <td>55.0</td>\n",
       "    </tr>\n",
       "    <tr>\n",
       "      <th>1983-11-05</th>\n",
       "      <td>0.00</td>\n",
       "      <td>66.0</td>\n",
       "      <td>51.0</td>\n",
       "    </tr>\n",
       "    <tr>\n",
       "      <th>1983-11-06</th>\n",
       "      <td>0.00</td>\n",
       "      <td>69.0</td>\n",
       "      <td>53.0</td>\n",
       "    </tr>\n",
       "    <tr>\n",
       "      <th>1983-11-07</th>\n",
       "      <td>0.00</td>\n",
       "      <td>63.0</td>\n",
       "      <td>50.0</td>\n",
       "    </tr>\n",
       "    <tr>\n",
       "      <th>1983-11-08</th>\n",
       "      <td>0.00</td>\n",
       "      <td>61.0</td>\n",
       "      <td>46.0</td>\n",
       "    </tr>\n",
       "    <tr>\n",
       "      <th>1983-11-09</th>\n",
       "      <td>0.05</td>\n",
       "      <td>60.0</td>\n",
       "      <td>52.0</td>\n",
       "    </tr>\n",
       "    <tr>\n",
       "      <th>1983-11-10</th>\n",
       "      <td>0.24</td>\n",
       "      <td>62.0</td>\n",
       "      <td>60.0</td>\n",
       "    </tr>\n",
       "  </tbody>\n",
       "</table>\n",
       "</div>"
      ],
      "text/plain": [
       "            precip  temp_max  temp_min\n",
       "DATE                                  \n",
       "1983-10-20    0.00      73.0      52.0\n",
       "1983-10-21    0.00      70.0      50.0\n",
       "1983-10-22    0.00      70.0      50.0\n",
       "1983-10-23    0.00      69.0      60.0\n",
       "1983-10-24    0.00      73.0      58.0\n",
       "1983-10-25    0.00      75.0      53.0\n",
       "1983-10-26    0.00      79.0      53.0\n",
       "1983-10-27    0.00      82.0      56.0\n",
       "1983-10-28    0.00      74.0      56.0\n",
       "1983-10-29     NaN      67.0      57.0\n",
       "1983-10-30     NaN      70.0      63.0\n",
       "1983-10-31     NaN      69.0      61.0\n",
       "1983-11-01    0.26      69.0      60.0\n",
       "1983-11-02    0.06      68.0      56.0\n",
       "1983-11-03    0.00      68.0      56.0\n",
       "1983-11-04    0.00      67.0      55.0\n",
       "1983-11-05    0.00      66.0      51.0\n",
       "1983-11-06    0.00      69.0      53.0\n",
       "1983-11-07    0.00      63.0      50.0\n",
       "1983-11-08    0.00      61.0      46.0\n",
       "1983-11-09    0.05      60.0      52.0\n",
       "1983-11-10    0.24      62.0      60.0"
      ]
     },
     "execution_count": 18,
     "metadata": {},
     "output_type": "execute_result"
    }
   ],
   "source": [
    "core_weather.loc[\"1983-10-20\":\"1983-11-10\",:]"
   ]
  },
  {
   "cell_type": "code",
   "execution_count": 19,
   "id": "8f526af5",
   "metadata": {},
   "outputs": [
    {
     "data": {
      "application/vnd.microsoft.datawrangler.viewer.v0+json": {
       "columns": [
        {
         "name": "precip",
         "rawType": "float64",
         "type": "float"
        },
        {
         "name": "count",
         "rawType": "int64",
         "type": "integer"
        }
       ],
       "ref": "020c1aa0-edca-4795-a410-a7f60bec4985",
       "rows": [
        [
         "0.0",
         "14376"
        ],
        [
         "0.01",
         "445"
        ],
        [
         "0.02",
         "205"
        ],
        [
         "0.03",
         "126"
        ],
        [
         "0.05",
         "105"
        ],
        [
         "0.04",
         "105"
        ],
        [
         "0.06",
         "90"
        ],
        [
         "0.07",
         "78"
        ],
        [
         "0.08",
         "75"
        ],
        [
         "0.1",
         "73"
        ],
        [
         "0.14",
         "63"
        ],
        [
         "0.13",
         "60"
        ],
        [
         "0.09",
         "59"
        ],
        [
         "0.11",
         "56"
        ],
        [
         "0.18",
         "54"
        ],
        [
         "0.15",
         "48"
        ],
        [
         "0.12",
         "48"
        ],
        [
         "0.2",
         "47"
        ],
        [
         "0.19",
         "44"
        ],
        [
         "0.16",
         "43"
        ],
        [
         "0.17",
         "36"
        ],
        [
         "0.22",
         "35"
        ],
        [
         "0.23",
         "34"
        ],
        [
         "0.26",
         "33"
        ],
        [
         "0.29",
         "30"
        ],
        [
         "0.28",
         "30"
        ],
        [
         "0.24",
         "29"
        ],
        [
         "0.25",
         "26"
        ],
        [
         "0.3",
         "26"
        ],
        [
         "0.4",
         "25"
        ],
        [
         "0.21",
         "25"
        ],
        [
         "0.45",
         "23"
        ],
        [
         "0.31",
         "22"
        ],
        [
         "0.27",
         "22"
        ],
        [
         "0.5",
         "22"
        ],
        [
         "0.35",
         "21"
        ],
        [
         "0.32",
         "21"
        ],
        [
         "0.34",
         "21"
        ],
        [
         "0.51",
         "20"
        ],
        [
         "0.48",
         "19"
        ],
        [
         "0.66",
         "19"
        ],
        [
         "0.36",
         "19"
        ],
        [
         "0.39",
         "18"
        ],
        [
         "0.41",
         "18"
        ],
        [
         "0.53",
         "18"
        ],
        [
         "0.38",
         "17"
        ],
        [
         "0.47",
         "17"
        ],
        [
         "0.33",
         "17"
        ],
        [
         "0.52",
         "15"
        ],
        [
         "0.49",
         "15"
        ]
       ],
       "shape": {
        "columns": 1,
        "rows": 179
       }
      },
      "text/plain": [
       "precip\n",
       "0.00    14376\n",
       "0.01      445\n",
       "0.02      205\n",
       "0.03      126\n",
       "0.05      105\n",
       "        ...  \n",
       "3.58        1\n",
       "1.92        1\n",
       "1.77        1\n",
       "5.01        1\n",
       "1.28        1\n",
       "Name: count, Length: 179, dtype: int64"
      ]
     },
     "execution_count": 19,
     "metadata": {},
     "output_type": "execute_result"
    }
   ],
   "source": [
    "core_weather[\"precip\"].value_counts()"
   ]
  },
  {
   "cell_type": "code",
   "execution_count": 20,
   "id": "15012962",
   "metadata": {},
   "outputs": [
    {
     "data": {
      "application/vnd.microsoft.datawrangler.viewer.v0+json": {
       "columns": [
        {
         "name": "precip",
         "rawType": "float64",
         "type": "float"
        },
        {
         "name": "count",
         "rawType": "float64",
         "type": "float"
        }
       ],
       "ref": "15ca551f-a32a-4ba6-b6a9-03ad5e1e1c83",
       "rows": [
        [
         "0.0",
         "0.8115614767980128"
        ],
        [
         "0.01",
         "0.025121372925369763"
        ],
        [
         "0.02",
         "0.01157276730269843"
        ],
        [
         "0.03",
         "0.00711301795190245"
        ],
        [
         "0.05",
         "0.005927514959918708"
        ],
        [
         "0.04",
         "0.005927514959918708"
        ],
        [
         "0.06",
         "0.00508072710850175"
        ],
        [
         "0.07",
         "0.004403296827368184"
        ],
        [
         "0.08",
         "0.004233939257084792"
        ],
        [
         "0.1",
         "0.004121034210229197"
        ],
        [
         "0.14",
         "0.003556508975951225"
        ],
        [
         "0.13",
         "0.0033871514056678332"
        ],
        [
         "0.09",
         "0.0033306988822400362"
        ],
        [
         "0.11",
         "0.0031613413119566443"
        ],
        [
         "0.18",
         "0.00304843626510105"
        ],
        [
         "0.15",
         "0.0027097211245342666"
        ],
        [
         "0.12",
         "0.0027097211245342666"
        ],
        [
         "0.2",
         "0.0026532686011064696"
        ],
        [
         "0.19",
         "0.0024839110308230777"
        ],
        [
         "0.16",
         "0.0024274585073952807"
        ],
        [
         "0.17",
         "0.0020322908434007"
        ],
        [
         "0.22",
         "0.001975838319972903"
        ],
        [
         "0.23",
         "0.0019193857965451055"
        ],
        [
         "0.26",
         "0.0018629332731173083"
        ],
        [
         "0.29",
         "0.0016935757028339166"
        ],
        [
         "0.28",
         "0.0016935757028339166"
        ],
        [
         "0.24",
         "0.0016371231794061194"
        ],
        [
         "0.25",
         "0.0014677656091227277"
        ],
        [
         "0.3",
         "0.0014677656091227277"
        ],
        [
         "0.4",
         "0.0014113130856949305"
        ],
        [
         "0.21",
         "0.0014113130856949305"
        ],
        [
         "0.45",
         "0.001298408038839336"
        ],
        [
         "0.31",
         "0.0012419555154115389"
        ],
        [
         "0.27",
         "0.0012419555154115389"
        ],
        [
         "0.5",
         "0.0012419555154115389"
        ],
        [
         "0.35",
         "0.0011855029919837416"
        ],
        [
         "0.32",
         "0.0011855029919837416"
        ],
        [
         "0.34",
         "0.0011855029919837416"
        ],
        [
         "0.51",
         "0.0011290504685559444"
        ],
        [
         "0.48",
         "0.0010725979451281472"
        ],
        [
         "0.66",
         "0.0010725979451281472"
        ],
        [
         "0.36",
         "0.0010725979451281472"
        ],
        [
         "0.39",
         "0.00101614542170035"
        ],
        [
         "0.41",
         "0.00101614542170035"
        ],
        [
         "0.53",
         "0.00101614542170035"
        ],
        [
         "0.38",
         "0.0009596928982725527"
        ],
        [
         "0.47",
         "0.0009596928982725527"
        ],
        [
         "0.33",
         "0.0009596928982725527"
        ],
        [
         "0.52",
         "0.0008467878514169583"
        ],
        [
         "0.49",
         "0.0008467878514169583"
        ]
       ],
       "shape": {
        "columns": 1,
        "rows": 179
       }
      },
      "text/plain": [
       "precip\n",
       "0.00    0.811561\n",
       "0.01    0.025121\n",
       "0.02    0.011573\n",
       "0.03    0.007113\n",
       "0.05    0.005928\n",
       "          ...   \n",
       "3.58    0.000056\n",
       "1.92    0.000056\n",
       "1.77    0.000056\n",
       "5.01    0.000056\n",
       "1.28    0.000056\n",
       "Name: count, Length: 179, dtype: float64"
      ]
     },
     "execution_count": 20,
     "metadata": {},
     "output_type": "execute_result"
    }
   ],
   "source": [
    "core_weather[\"precip\"].value_counts() / core_weather.shape[0]"
   ]
  },
  {
   "cell_type": "code",
   "execution_count": 21,
   "id": "e104b8c0",
   "metadata": {},
   "outputs": [],
   "source": [
    "core_weather[\"precip\"] = core_weather[\"precip\"].fillna(0)"
   ]
  },
  {
   "cell_type": "code",
   "execution_count": 22,
   "id": "4cd1683d",
   "metadata": {},
   "outputs": [
    {
     "data": {
      "application/vnd.microsoft.datawrangler.viewer.v0+json": {
       "columns": [
        {
         "name": "DATE",
         "rawType": "object",
         "type": "string"
        },
        {
         "name": "precip",
         "rawType": "float64",
         "type": "float"
        },
        {
         "name": "temp_max",
         "rawType": "float64",
         "type": "float"
        },
        {
         "name": "temp_min",
         "rawType": "float64",
         "type": "float"
        }
       ],
       "ref": "13cf9ca3-872f-4701-a48e-acb271864789",
       "rows": [
        [
         "2004-11-20",
         "0.0",
         null,
         null
        ],
        [
         "2013-06-16",
         "0.0",
         null,
         null
        ],
        [
         "2019-04-18",
         "0.0",
         null,
         "50.0"
        ],
        [
         "2019-04-21",
         "0.0",
         null,
         "52.0"
        ],
        [
         "2019-04-22",
         "0.0",
         null,
         "50.0"
        ],
        [
         "2020-08-29",
         "0.0",
         null,
         null
        ],
        [
         "2020-09-08",
         "0.0",
         null,
         null
        ],
        [
         "2020-09-09",
         "0.0",
         null,
         null
        ],
        [
         "2021-10-31",
         "0.0",
         null,
         "56.0"
        ],
        [
         "2022-10-08",
         "0.0",
         null,
         null
        ],
        [
         "2022-10-09",
         "0.0",
         null,
         null
        ]
       ],
       "shape": {
        "columns": 3,
        "rows": 11
       }
      },
      "text/html": [
       "<div>\n",
       "<style scoped>\n",
       "    .dataframe tbody tr th:only-of-type {\n",
       "        vertical-align: middle;\n",
       "    }\n",
       "\n",
       "    .dataframe tbody tr th {\n",
       "        vertical-align: top;\n",
       "    }\n",
       "\n",
       "    .dataframe thead th {\n",
       "        text-align: right;\n",
       "    }\n",
       "</style>\n",
       "<table border=\"1\" class=\"dataframe\">\n",
       "  <thead>\n",
       "    <tr style=\"text-align: right;\">\n",
       "      <th></th>\n",
       "      <th>precip</th>\n",
       "      <th>temp_max</th>\n",
       "      <th>temp_min</th>\n",
       "    </tr>\n",
       "    <tr>\n",
       "      <th>DATE</th>\n",
       "      <th></th>\n",
       "      <th></th>\n",
       "      <th></th>\n",
       "    </tr>\n",
       "  </thead>\n",
       "  <tbody>\n",
       "    <tr>\n",
       "      <th>2004-11-20</th>\n",
       "      <td>0.0</td>\n",
       "      <td>NaN</td>\n",
       "      <td>NaN</td>\n",
       "    </tr>\n",
       "    <tr>\n",
       "      <th>2013-06-16</th>\n",
       "      <td>0.0</td>\n",
       "      <td>NaN</td>\n",
       "      <td>NaN</td>\n",
       "    </tr>\n",
       "    <tr>\n",
       "      <th>2019-04-18</th>\n",
       "      <td>0.0</td>\n",
       "      <td>NaN</td>\n",
       "      <td>50.0</td>\n",
       "    </tr>\n",
       "    <tr>\n",
       "      <th>2019-04-21</th>\n",
       "      <td>0.0</td>\n",
       "      <td>NaN</td>\n",
       "      <td>52.0</td>\n",
       "    </tr>\n",
       "    <tr>\n",
       "      <th>2019-04-22</th>\n",
       "      <td>0.0</td>\n",
       "      <td>NaN</td>\n",
       "      <td>50.0</td>\n",
       "    </tr>\n",
       "    <tr>\n",
       "      <th>2020-08-29</th>\n",
       "      <td>0.0</td>\n",
       "      <td>NaN</td>\n",
       "      <td>NaN</td>\n",
       "    </tr>\n",
       "    <tr>\n",
       "      <th>2020-09-08</th>\n",
       "      <td>0.0</td>\n",
       "      <td>NaN</td>\n",
       "      <td>NaN</td>\n",
       "    </tr>\n",
       "    <tr>\n",
       "      <th>2020-09-09</th>\n",
       "      <td>0.0</td>\n",
       "      <td>NaN</td>\n",
       "      <td>NaN</td>\n",
       "    </tr>\n",
       "    <tr>\n",
       "      <th>2021-10-31</th>\n",
       "      <td>0.0</td>\n",
       "      <td>NaN</td>\n",
       "      <td>56.0</td>\n",
       "    </tr>\n",
       "    <tr>\n",
       "      <th>2022-10-08</th>\n",
       "      <td>0.0</td>\n",
       "      <td>NaN</td>\n",
       "      <td>NaN</td>\n",
       "    </tr>\n",
       "    <tr>\n",
       "      <th>2022-10-09</th>\n",
       "      <td>0.0</td>\n",
       "      <td>NaN</td>\n",
       "      <td>NaN</td>\n",
       "    </tr>\n",
       "  </tbody>\n",
       "</table>\n",
       "</div>"
      ],
      "text/plain": [
       "            precip  temp_max  temp_min\n",
       "DATE                                  \n",
       "2004-11-20     0.0       NaN       NaN\n",
       "2013-06-16     0.0       NaN       NaN\n",
       "2019-04-18     0.0       NaN      50.0\n",
       "2019-04-21     0.0       NaN      52.0\n",
       "2019-04-22     0.0       NaN      50.0\n",
       "2020-08-29     0.0       NaN       NaN\n",
       "2020-09-08     0.0       NaN       NaN\n",
       "2020-09-09     0.0       NaN       NaN\n",
       "2021-10-31     0.0       NaN      56.0\n",
       "2022-10-08     0.0       NaN       NaN\n",
       "2022-10-09     0.0       NaN       NaN"
      ]
     },
     "execution_count": 22,
     "metadata": {},
     "output_type": "execute_result"
    }
   ],
   "source": [
    "core_weather[pd.isnull(core_weather[\"temp_max\"])]"
   ]
  },
  {
   "cell_type": "code",
   "execution_count": 23,
   "id": "7bcf12a8",
   "metadata": {},
   "outputs": [
    {
     "data": {
      "application/vnd.microsoft.datawrangler.viewer.v0+json": {
       "columns": [
        {
         "name": "DATE",
         "rawType": "object",
         "type": "string"
        },
        {
         "name": "precip",
         "rawType": "float64",
         "type": "float"
        },
        {
         "name": "temp_max",
         "rawType": "float64",
         "type": "float"
        },
        {
         "name": "temp_min",
         "rawType": "float64",
         "type": "float"
        }
       ],
       "ref": "20ad7c33-c787-432c-9e4d-b01e516ae569",
       "rows": [
        [
         "2004-11-20",
         "0.0",
         null,
         null
        ],
        [
         "2011-12-21",
         "0.0",
         "61.0",
         null
        ],
        [
         "2011-12-22",
         "0.0",
         "62.0",
         null
        ],
        [
         "2011-12-23",
         "0.0",
         "56.0",
         null
        ],
        [
         "2011-12-24",
         "0.0",
         "55.0",
         null
        ],
        [
         "2011-12-25",
         "0.0",
         "54.0",
         null
        ],
        [
         "2013-06-16",
         "0.0",
         null,
         null
        ],
        [
         "2020-08-29",
         "0.0",
         null,
         null
        ],
        [
         "2020-09-08",
         "0.0",
         null,
         null
        ],
        [
         "2020-09-09",
         "0.0",
         null,
         null
        ],
        [
         "2022-10-08",
         "0.0",
         null,
         null
        ],
        [
         "2022-10-09",
         "0.0",
         null,
         null
        ],
        [
         "2022-10-10",
         "0.0",
         "69.0",
         null
        ],
        [
         "2022-10-11",
         "0.0",
         "66.0",
         null
        ]
       ],
       "shape": {
        "columns": 3,
        "rows": 14
       }
      },
      "text/html": [
       "<div>\n",
       "<style scoped>\n",
       "    .dataframe tbody tr th:only-of-type {\n",
       "        vertical-align: middle;\n",
       "    }\n",
       "\n",
       "    .dataframe tbody tr th {\n",
       "        vertical-align: top;\n",
       "    }\n",
       "\n",
       "    .dataframe thead th {\n",
       "        text-align: right;\n",
       "    }\n",
       "</style>\n",
       "<table border=\"1\" class=\"dataframe\">\n",
       "  <thead>\n",
       "    <tr style=\"text-align: right;\">\n",
       "      <th></th>\n",
       "      <th>precip</th>\n",
       "      <th>temp_max</th>\n",
       "      <th>temp_min</th>\n",
       "    </tr>\n",
       "    <tr>\n",
       "      <th>DATE</th>\n",
       "      <th></th>\n",
       "      <th></th>\n",
       "      <th></th>\n",
       "    </tr>\n",
       "  </thead>\n",
       "  <tbody>\n",
       "    <tr>\n",
       "      <th>2004-11-20</th>\n",
       "      <td>0.0</td>\n",
       "      <td>NaN</td>\n",
       "      <td>NaN</td>\n",
       "    </tr>\n",
       "    <tr>\n",
       "      <th>2011-12-21</th>\n",
       "      <td>0.0</td>\n",
       "      <td>61.0</td>\n",
       "      <td>NaN</td>\n",
       "    </tr>\n",
       "    <tr>\n",
       "      <th>2011-12-22</th>\n",
       "      <td>0.0</td>\n",
       "      <td>62.0</td>\n",
       "      <td>NaN</td>\n",
       "    </tr>\n",
       "    <tr>\n",
       "      <th>2011-12-23</th>\n",
       "      <td>0.0</td>\n",
       "      <td>56.0</td>\n",
       "      <td>NaN</td>\n",
       "    </tr>\n",
       "    <tr>\n",
       "      <th>2011-12-24</th>\n",
       "      <td>0.0</td>\n",
       "      <td>55.0</td>\n",
       "      <td>NaN</td>\n",
       "    </tr>\n",
       "    <tr>\n",
       "      <th>2011-12-25</th>\n",
       "      <td>0.0</td>\n",
       "      <td>54.0</td>\n",
       "      <td>NaN</td>\n",
       "    </tr>\n",
       "    <tr>\n",
       "      <th>2013-06-16</th>\n",
       "      <td>0.0</td>\n",
       "      <td>NaN</td>\n",
       "      <td>NaN</td>\n",
       "    </tr>\n",
       "    <tr>\n",
       "      <th>2020-08-29</th>\n",
       "      <td>0.0</td>\n",
       "      <td>NaN</td>\n",
       "      <td>NaN</td>\n",
       "    </tr>\n",
       "    <tr>\n",
       "      <th>2020-09-08</th>\n",
       "      <td>0.0</td>\n",
       "      <td>NaN</td>\n",
       "      <td>NaN</td>\n",
       "    </tr>\n",
       "    <tr>\n",
       "      <th>2020-09-09</th>\n",
       "      <td>0.0</td>\n",
       "      <td>NaN</td>\n",
       "      <td>NaN</td>\n",
       "    </tr>\n",
       "    <tr>\n",
       "      <th>2022-10-08</th>\n",
       "      <td>0.0</td>\n",
       "      <td>NaN</td>\n",
       "      <td>NaN</td>\n",
       "    </tr>\n",
       "    <tr>\n",
       "      <th>2022-10-09</th>\n",
       "      <td>0.0</td>\n",
       "      <td>NaN</td>\n",
       "      <td>NaN</td>\n",
       "    </tr>\n",
       "    <tr>\n",
       "      <th>2022-10-10</th>\n",
       "      <td>0.0</td>\n",
       "      <td>69.0</td>\n",
       "      <td>NaN</td>\n",
       "    </tr>\n",
       "    <tr>\n",
       "      <th>2022-10-11</th>\n",
       "      <td>0.0</td>\n",
       "      <td>66.0</td>\n",
       "      <td>NaN</td>\n",
       "    </tr>\n",
       "  </tbody>\n",
       "</table>\n",
       "</div>"
      ],
      "text/plain": [
       "            precip  temp_max  temp_min\n",
       "DATE                                  \n",
       "2004-11-20     0.0       NaN       NaN\n",
       "2011-12-21     0.0      61.0       NaN\n",
       "2011-12-22     0.0      62.0       NaN\n",
       "2011-12-23     0.0      56.0       NaN\n",
       "2011-12-24     0.0      55.0       NaN\n",
       "2011-12-25     0.0      54.0       NaN\n",
       "2013-06-16     0.0       NaN       NaN\n",
       "2020-08-29     0.0       NaN       NaN\n",
       "2020-09-08     0.0       NaN       NaN\n",
       "2020-09-09     0.0       NaN       NaN\n",
       "2022-10-08     0.0       NaN       NaN\n",
       "2022-10-09     0.0       NaN       NaN\n",
       "2022-10-10     0.0      69.0       NaN\n",
       "2022-10-11     0.0      66.0       NaN"
      ]
     },
     "execution_count": 23,
     "metadata": {},
     "output_type": "execute_result"
    }
   ],
   "source": [
    "core_weather[pd.isnull(core_weather[\"temp_min\"])]"
   ]
  },
  {
   "cell_type": "code",
   "execution_count": 24,
   "id": "78367885",
   "metadata": {},
   "outputs": [
    {
     "data": {
      "application/vnd.microsoft.datawrangler.viewer.v0+json": {
       "columns": [
        {
         "name": "index",
         "rawType": "object",
         "type": "string"
        },
        {
         "name": "0",
         "rawType": "int64",
         "type": "integer"
        }
       ],
       "ref": "8d194af8-0344-4cb0-b47d-ecf8cccff258",
       "rows": [
        [
         "precip",
         "0"
        ],
        [
         "temp_max",
         "11"
        ],
        [
         "temp_min",
         "14"
        ]
       ],
       "shape": {
        "columns": 1,
        "rows": 3
       }
      },
      "text/plain": [
       "precip       0\n",
       "temp_max    11\n",
       "temp_min    14\n",
       "dtype: int64"
      ]
     },
     "execution_count": 24,
     "metadata": {},
     "output_type": "execute_result"
    }
   ],
   "source": [
    "core_weather.apply(pd.isnull).sum()"
   ]
  },
  {
   "cell_type": "code",
   "execution_count": 26,
   "id": "e693891f",
   "metadata": {},
   "outputs": [],
   "source": [
    "core_weather = core_weather.ffill()"
   ]
  },
  {
   "cell_type": "code",
   "execution_count": 27,
   "id": "87edd049",
   "metadata": {},
   "outputs": [
    {
     "data": {
      "application/vnd.microsoft.datawrangler.viewer.v0+json": {
       "columns": [
        {
         "name": "index",
         "rawType": "object",
         "type": "string"
        },
        {
         "name": "0",
         "rawType": "int64",
         "type": "integer"
        }
       ],
       "ref": "dd0adbfd-769d-4d31-9fa2-f39ce6160655",
       "rows": [
        [
         "precip",
         "0"
        ],
        [
         "temp_max",
         "0"
        ],
        [
         "temp_min",
         "0"
        ]
       ],
       "shape": {
        "columns": 1,
        "rows": 3
       }
      },
      "text/plain": [
       "precip      0\n",
       "temp_max    0\n",
       "temp_min    0\n",
       "dtype: int64"
      ]
     },
     "execution_count": 27,
     "metadata": {},
     "output_type": "execute_result"
    }
   ],
   "source": [
    "core_weather.apply(pd.isnull).sum()"
   ]
  },
  {
   "cell_type": "code",
   "execution_count": 28,
   "id": "9d55cd90",
   "metadata": {},
   "outputs": [
    {
     "data": {
      "application/vnd.microsoft.datawrangler.viewer.v0+json": {
       "columns": [
        {
         "name": "index",
         "rawType": "object",
         "type": "string"
        },
        {
         "name": "0",
         "rawType": "object",
         "type": "unknown"
        }
       ],
       "ref": "61c6b540-f0ff-4d6f-9e08-74389ce0b806",
       "rows": [
        [
         "precip",
         "float64"
        ],
        [
         "temp_max",
         "float64"
        ],
        [
         "temp_min",
         "float64"
        ]
       ],
       "shape": {
        "columns": 1,
        "rows": 3
       }
      },
      "text/plain": [
       "precip      float64\n",
       "temp_max    float64\n",
       "temp_min    float64\n",
       "dtype: object"
      ]
     },
     "execution_count": 28,
     "metadata": {},
     "output_type": "execute_result"
    }
   ],
   "source": [
    "core_weather.dtypes"
   ]
  },
  {
   "cell_type": "code",
   "execution_count": 29,
   "id": "c4e6ed9a",
   "metadata": {},
   "outputs": [
    {
     "data": {
      "text/plain": [
       "Index(['1960-01-01', '1960-01-02', '1960-01-03', '1960-01-04', '1960-01-05',\n",
       "       '1960-01-06', '1960-01-07', '1960-01-08', '1960-01-09', '1960-01-10',\n",
       "       ...\n",
       "       '2024-05-22', '2024-05-23', '2024-05-24', '2024-05-25', '2024-05-26',\n",
       "       '2024-05-27', '2024-05-28', '2024-05-29', '2024-05-30', '2024-05-31'],\n",
       "      dtype='object', name='DATE', length=17714)"
      ]
     },
     "execution_count": 29,
     "metadata": {},
     "output_type": "execute_result"
    }
   ],
   "source": [
    "core_weather.index"
   ]
  },
  {
   "cell_type": "code",
   "execution_count": 30,
   "id": "1891ecad",
   "metadata": {},
   "outputs": [],
   "source": [
    "core_weather.index = pd.to_datetime(core_weather.index)"
   ]
  },
  {
   "cell_type": "code",
   "execution_count": 31,
   "id": "8fcf8304",
   "metadata": {},
   "outputs": [
    {
     "data": {
      "text/plain": [
       "DatetimeIndex(['1960-01-01', '1960-01-02', '1960-01-03', '1960-01-04',\n",
       "               '1960-01-05', '1960-01-06', '1960-01-07', '1960-01-08',\n",
       "               '1960-01-09', '1960-01-10',\n",
       "               ...\n",
       "               '2024-05-22', '2024-05-23', '2024-05-24', '2024-05-25',\n",
       "               '2024-05-26', '2024-05-27', '2024-05-28', '2024-05-29',\n",
       "               '2024-05-30', '2024-05-31'],\n",
       "              dtype='datetime64[ns]', name='DATE', length=17714, freq=None)"
      ]
     },
     "execution_count": 31,
     "metadata": {},
     "output_type": "execute_result"
    }
   ],
   "source": [
    "core_weather.index"
   ]
  },
  {
   "cell_type": "code",
   "execution_count": 32,
   "id": "0243411a",
   "metadata": {},
   "outputs": [
    {
     "data": {
      "text/plain": [
       "Index([1960, 1960, 1960, 1960, 1960, 1960, 1960, 1960, 1960, 1960,\n",
       "       ...\n",
       "       2024, 2024, 2024, 2024, 2024, 2024, 2024, 2024, 2024, 2024],\n",
       "      dtype='int32', name='DATE', length=17714)"
      ]
     },
     "execution_count": 32,
     "metadata": {},
     "output_type": "execute_result"
    }
   ],
   "source": [
    "core_weather.index.year"
   ]
  },
  {
   "cell_type": "code",
   "execution_count": 33,
   "id": "c5072397",
   "metadata": {},
   "outputs": [
    {
     "data": {
      "application/vnd.microsoft.datawrangler.viewer.v0+json": {
       "columns": [
        {
         "name": "index",
         "rawType": "object",
         "type": "string"
        },
        {
         "name": "0",
         "rawType": "int64",
         "type": "integer"
        }
       ],
       "ref": "b5d85357-5f9c-497f-849b-6da547508f8c",
       "rows": [
        [
         "precip",
         "0"
        ],
        [
         "temp_max",
         "0"
        ],
        [
         "temp_min",
         "0"
        ]
       ],
       "shape": {
        "columns": 1,
        "rows": 3
       }
      },
      "text/plain": [
       "precip      0\n",
       "temp_max    0\n",
       "temp_min    0\n",
       "dtype: int64"
      ]
     },
     "execution_count": 33,
     "metadata": {},
     "output_type": "execute_result"
    }
   ],
   "source": [
    "# Check for missing value defined in data documentation\n",
    "core_weather.apply(lambda x: (x == 9999).sum())"
   ]
  },
  {
   "cell_type": "code",
   "execution_count": 36,
   "id": "03497824",
   "metadata": {},
   "outputs": [
    {
     "data": {
      "text/plain": [
       "<Axes: xlabel='DATE'>"
      ]
     },
     "execution_count": 36,
     "metadata": {},
     "output_type": "execute_result"
    },
    {
     "data": {
      "image/png": "[encoded data removed]",
      "text/plain": [
       "<Figure size 640x480 with 1 Axes>"
      ]
     },
     "metadata": {},
     "output_type": "display_data"
    }
   ],
   "source": [
    "core_weather[[\"temp_max\", \"temp_min\"]].plot()"
   ]
  },
  {
   "cell_type": "code",
   "execution_count": 37,
   "id": "af4cdb73",
   "metadata": {},
   "outputs": [
    {
     "data": {
      "application/vnd.microsoft.datawrangler.viewer.v0+json": {
       "columns": [
        {
         "name": "DATE",
         "rawType": "int32",
         "type": "integer"
        },
        {
         "name": "count",
         "rawType": "int64",
         "type": "integer"
        }
       ],
       "ref": "f9d5facd-bc7b-4ade-bbcd-3df3364bf80f",
       "rows": [
        [
         "1960",
         "366"
        ],
        [
         "1961",
         "365"
        ],
        [
         "1962",
         "365"
        ],
        [
         "1963",
         "365"
        ],
        [
         "1964",
         "366"
        ],
        [
         "1965",
         "365"
        ],
        [
         "1966",
         "365"
        ],
        [
         "1967",
         "365"
        ],
        [
         "1968",
         "366"
        ],
        [
         "1969",
         "365"
        ],
        [
         "1970",
         "365"
        ],
        [
         "1971",
         "365"
        ],
        [
         "1972",
         "366"
        ],
        [
         "1973",
         "365"
        ],
        [
         "1974",
         "365"
        ],
        [
         "1975",
         "365"
        ],
        [
         "1976",
         "366"
        ],
        [
         "1977",
         "365"
        ],
        [
         "1978",
         "365"
        ],
        [
         "1979",
         "365"
        ],
        [
         "1980",
         "366"
        ],
        [
         "1983",
         "184"
        ],
        [
         "1984",
         "366"
        ],
        [
         "1985",
         "365"
        ],
        [
         "1986",
         "212"
        ],
        [
         "2000",
         "365"
        ],
        [
         "2001",
         "365"
        ],
        [
         "2002",
         "365"
        ],
        [
         "2003",
         "365"
        ],
        [
         "2004",
         "366"
        ],
        [
         "2005",
         "365"
        ],
        [
         "2006",
         "365"
        ],
        [
         "2007",
         "365"
        ],
        [
         "2008",
         "366"
        ],
        [
         "2009",
         "365"
        ],
        [
         "2010",
         "365"
        ],
        [
         "2011",
         "365"
        ],
        [
         "2012",
         "365"
        ],
        [
         "2013",
         "365"
        ],
        [
         "2014",
         "365"
        ],
        [
         "2015",
         "365"
        ],
        [
         "2016",
         "366"
        ],
        [
         "2017",
         "365"
        ],
        [
         "2018",
         "365"
        ],
        [
         "2019",
         "365"
        ],
        [
         "2020",
         "366"
        ],
        [
         "2021",
         "365"
        ],
        [
         "2022",
         "365"
        ],
        [
         "2023",
         "365"
        ],
        [
         "2024",
         "152"
        ]
       ],
       "shape": {
        "columns": 1,
        "rows": 50
       }
      },
      "text/plain": [
       "DATE\n",
       "1960    366\n",
       "1961    365\n",
       "1962    365\n",
       "1963    365\n",
       "1964    366\n",
       "1965    365\n",
       "1966    365\n",
       "1967    365\n",
       "1968    366\n",
       "1969    365\n",
       "1970    365\n",
       "1971    365\n",
       "1972    366\n",
       "1973    365\n",
       "1974    365\n",
       "1975    365\n",
       "1976    366\n",
       "1977    365\n",
       "1978    365\n",
       "1979    365\n",
       "1980    366\n",
       "1983    184\n",
       "1984    366\n",
       "1985    365\n",
       "1986    212\n",
       "2000    365\n",
       "2001    365\n",
       "2002    365\n",
       "2003    365\n",
       "2004    366\n",
       "2005    365\n",
       "2006    365\n",
       "2007    365\n",
       "2008    366\n",
       "2009    365\n",
       "2010    365\n",
       "2011    365\n",
       "2012    365\n",
       "2013    365\n",
       "2014    365\n",
       "2015    365\n",
       "2016    366\n",
       "2017    365\n",
       "2018    365\n",
       "2019    365\n",
       "2020    366\n",
       "2021    365\n",
       "2022    365\n",
       "2023    365\n",
       "2024    152\n",
       "Name: count, dtype: int64"
      ]
     },
     "execution_count": 37,
     "metadata": {},
     "output_type": "execute_result"
    }
   ],
   "source": [
    "core_weather.index.year.value_counts().sort_index()"
   ]
  },
  {
   "cell_type": "code",
   "execution_count": 38,
   "id": "2e5b5a2a",
   "metadata": {},
   "outputs": [
    {
     "data": {
      "text/plain": [
       "<Axes: xlabel='DATE'>"
      ]
     },
     "execution_count": 38,
     "metadata": {},
     "output_type": "execute_result"
    },
    {
     "data": {
      "image/png": "[encoded data removed]",
      "text/plain": [
       "<Figure size 640x480 with 1 Axes>"
      ]
     },
     "metadata": {},
     "output_type": "display_data"
    }
   ],
   "source": [
    "core_weather[\"precip\"].plot()"
   ]
  },
  {
   "cell_type": "code",
   "execution_count": 43,
   "id": "8a06c027",
   "metadata": {},
   "outputs": [
    {
     "data": {
      "application/vnd.microsoft.datawrangler.viewer.v0+json": {
       "columns": [
        {
         "name": "DATE",
         "rawType": "int32",
         "type": "integer"
        },
        {
         "name": "precip",
         "rawType": "float64",
         "type": "float"
        },
        {
         "name": "temp_max",
         "rawType": "float64",
         "type": "float"
        },
        {
         "name": "temp_min",
         "rawType": "float64",
         "type": "float"
        }
       ],
       "ref": "554ee043-7d27-4c3d-9147-fc0c57e5eee1",
       "rows": [
        [
         "1960",
         "14.01",
         "24135.0",
         "17973.0"
        ],
        [
         "1961",
         "13.870000000000001",
         "24202.0",
         "17819.0"
        ],
        [
         "1962",
         "22.47",
         "23785.0",
         "17880.0"
        ],
        [
         "1963",
         "19.11",
         "23470.0",
         "18237.0"
        ],
        [
         "1964",
         "16.830000000000002",
         "23013.0",
         "18637.0"
        ],
        [
         "1965",
         "16.32",
         "23181.0",
         "18715.0"
        ],
        [
         "1966",
         "13.11",
         "23680.0",
         "18991.0"
        ],
        [
         "1967",
         "23.98",
         "23433.0",
         "18668.0"
        ],
        [
         "1968",
         "17.19",
         "23634.0",
         "18859.0"
        ],
        [
         "1969",
         "25.7",
         "23276.0",
         "18493.0"
        ],
        [
         "1970",
         "25.31",
         "23465.0",
         "18653.0"
        ],
        [
         "1971",
         "10.61",
         "22897.0",
         "18084.0"
        ],
        [
         "1972",
         "16.27",
         "23262.0",
         "18757.0"
        ],
        [
         "1973",
         "29.37",
         "23155.0",
         "18445.0"
        ],
        [
         "1974",
         "16.87",
         "23289.0",
         "18400.0"
        ],
        [
         "1975",
         "17.54",
         "23174.0",
         "18150.0"
        ],
        [
         "1976",
         "8.64",
         "23859.0",
         "18325.0"
        ],
        [
         "1977",
         "11.7",
         "23970.0",
         "18884.0"
        ],
        [
         "1978",
         "22.57",
         "24112.0",
         "18980.0"
        ],
        [
         "1979",
         "23.79",
         "23899.0",
         "19107.0"
        ],
        [
         "1980",
         "13.58",
         "24064.0",
         "18855.0"
        ],
        [
         "1983",
         "7.13",
         "12658.0",
         "10316.0"
        ],
        [
         "1984",
         "16.03",
         "23998.0",
         "18966.0"
        ],
        [
         "1985",
         "8.5",
         "23249.0",
         "18461.0"
        ],
        [
         "1986",
         "0.0",
         "14112.0",
         "11516.0"
        ],
        [
         "2000",
         "21.09",
         "23773.0",
         "17841.0"
        ],
        [
         "2001",
         "22.84",
         "23890.0",
         "17895.0"
        ],
        [
         "2002",
         "19.12",
         "24025.0",
         "17840.0"
        ],
        [
         "2003",
         "11.370000000000001",
         "24384.0",
         "18230.0"
        ],
        [
         "2004",
         "12.97",
         "24395.0",
         "18213.0"
        ],
        [
         "2005",
         "27.37",
         "24012.0",
         "18192.0"
        ],
        [
         "2006",
         "22.79",
         "24109.0",
         "17944.0"
        ],
        [
         "2007",
         "12.79",
         "23964.0",
         "17884.0"
        ],
        [
         "2008",
         "13.86",
         "24136.0",
         "17819.0"
        ],
        [
         "2009",
         "14.57",
         "24019.0",
         "17769.0"
        ],
        [
         "2010",
         "22.669999999999998",
         "24114.0",
         "18363.0"
        ],
        [
         "2011",
         "16.06",
         "23873.0",
         "17675.0"
        ],
        [
         "2012",
         "22.93",
         "23933.0",
         "17686.0"
        ],
        [
         "2013",
         "4.89",
         "24689.0",
         "17917.0"
        ],
        [
         "2014",
         "19.62",
         "25159.0",
         "19017.0"
        ],
        [
         "2015",
         "8.58",
         "24941.0",
         "18569.0"
        ],
        [
         "2016",
         "19.77",
         "24930.0",
         "19102.0"
        ],
        [
         "2017",
         "23.34",
         "24901.0",
         "18634.0"
        ],
        [
         "2018",
         "16.82",
         "24130.0",
         "17990.0"
        ],
        [
         "2019",
         "20.0",
         "24896.0",
         "18782.0"
        ],
        [
         "2020",
         "6.42",
         "25934.0",
         "19021.0"
        ],
        [
         "2021",
         "20.82",
         "24506.0",
         "18484.0"
        ],
        [
         "2022",
         "15.379999999999999",
         "24446.0",
         "17901.0"
        ],
        [
         "2023",
         "20.98",
         "24041.0",
         "18176.0"
        ],
        [
         "2024",
         "12.35",
         "9593.0",
         "7298.0"
        ]
       ],
       "shape": {
        "columns": 3,
        "rows": 50
       }
      },
      "text/html": [
       "<div>\n",
       "<style scoped>\n",
       "    .dataframe tbody tr th:only-of-type {\n",
       "        vertical-align: middle;\n",
       "    }\n",
       "\n",
       "    .dataframe tbody tr th {\n",
       "        vertical-align: top;\n",
       "    }\n",
       "\n",
       "    .dataframe thead th {\n",
       "        text-align: right;\n",
       "    }\n",
       "</style>\n",
       "<table border=\"1\" class=\"dataframe\">\n",
       "  <thead>\n",
       "    <tr style=\"text-align: right;\">\n",
       "      <th></th>\n",
       "      <th>precip</th>\n",
       "      <th>temp_max</th>\n",
       "      <th>temp_min</th>\n",
       "    </tr>\n",
       "    <tr>\n",
       "      <th>DATE</th>\n",
       "      <th></th>\n",
       "      <th></th>\n",
       "      <th></th>\n",
       "    </tr>\n",
       "  </thead>\n",
       "  <tbody>\n",
       "    <tr>\n",
       "      <th>1960</th>\n",
       "      <td>14.01</td>\n",
       "      <td>24135.0</td>\n",
       "      <td>17973.0</td>\n",
       "    </tr>\n",
       "    <tr>\n",
       "      <th>1961</th>\n",
       "      <td>13.87</td>\n",
       "      <td>24202.0</td>\n",
       "      <td>17819.0</td>\n",
       "    </tr>\n",
       "    <tr>\n",
       "      <th>1962</th>\n",
       "      <td>22.47</td>\n",
       "      <td>23785.0</td>\n",
       "      <td>17880.0</td>\n",
       "    </tr>\n",
       "    <tr>\n",
       "      <th>1963</th>\n",
       "      <td>19.11</td>\n",
       "      <td>23470.0</td>\n",
       "      <td>18237.0</td>\n",
       "    </tr>\n",
       "    <tr>\n",
       "      <th>1964</th>\n",
       "      <td>16.83</td>\n",
       "      <td>23013.0</td>\n",
       "      <td>18637.0</td>\n",
       "    </tr>\n",
       "    <tr>\n",
       "      <th>1965</th>\n",
       "      <td>16.32</td>\n",
       "      <td>23181.0</td>\n",
       "      <td>18715.0</td>\n",
       "    </tr>\n",
       "    <tr>\n",
       "      <th>1966</th>\n",
       "      <td>13.11</td>\n",
       "      <td>23680.0</td>\n",
       "      <td>18991.0</td>\n",
       "    </tr>\n",
       "    <tr>\n",
       "      <th>1967</th>\n",
       "      <td>23.98</td>\n",
       "      <td>23433.0</td>\n",
       "      <td>18668.0</td>\n",
       "    </tr>\n",
       "    <tr>\n",
       "      <th>1968</th>\n",
       "      <td>17.19</td>\n",
       "      <td>23634.0</td>\n",
       "      <td>18859.0</td>\n",
       "    </tr>\n",
       "    <tr>\n",
       "      <th>1969</th>\n",
       "      <td>25.70</td>\n",
       "      <td>23276.0</td>\n",
       "      <td>18493.0</td>\n",
       "    </tr>\n",
       "    <tr>\n",
       "      <th>1970</th>\n",
       "      <td>25.31</td>\n",
       "      <td>23465.0</td>\n",
       "      <td>18653.0</td>\n",
       "    </tr>\n",
       "    <tr>\n",
       "      <th>1971</th>\n",
       "      <td>10.61</td>\n",
       "      <td>22897.0</td>\n",
       "      <td>18084.0</td>\n",
       "    </tr>\n",
       "    <tr>\n",
       "      <th>1972</th>\n",
       "      <td>16.27</td>\n",
       "      <td>23262.0</td>\n",
       "      <td>18757.0</td>\n",
       "    </tr>\n",
       "    <tr>\n",
       "      <th>1973</th>\n",
       "      <td>29.37</td>\n",
       "      <td>23155.0</td>\n",
       "      <td>18445.0</td>\n",
       "    </tr>\n",
       "    <tr>\n",
       "      <th>1974</th>\n",
       "      <td>16.87</td>\n",
       "      <td>23289.0</td>\n",
       "      <td>18400.0</td>\n",
       "    </tr>\n",
       "    <tr>\n",
       "      <th>1975</th>\n",
       "      <td>17.54</td>\n",
       "      <td>23174.0</td>\n",
       "      <td>18150.0</td>\n",
       "    </tr>\n",
       "    <tr>\n",
       "      <th>1976</th>\n",
       "      <td>8.64</td>\n",
       "      <td>23859.0</td>\n",
       "      <td>18325.0</td>\n",
       "    </tr>\n",
       "    <tr>\n",
       "      <th>1977</th>\n",
       "      <td>11.70</td>\n",
       "      <td>23970.0</td>\n",
       "      <td>18884.0</td>\n",
       "    </tr>\n",
       "    <tr>\n",
       "      <th>1978</th>\n",
       "      <td>22.57</td>\n",
       "      <td>24112.0</td>\n",
       "      <td>18980.0</td>\n",
       "    </tr>\n",
       "    <tr>\n",
       "      <th>1979</th>\n",
       "      <td>23.79</td>\n",
       "      <td>23899.0</td>\n",
       "      <td>19107.0</td>\n",
       "    </tr>\n",
       "    <tr>\n",
       "      <th>1980</th>\n",
       "      <td>13.58</td>\n",
       "      <td>24064.0</td>\n",
       "      <td>18855.0</td>\n",
       "    </tr>\n",
       "    <tr>\n",
       "      <th>1983</th>\n",
       "      <td>7.13</td>\n",
       "      <td>12658.0</td>\n",
       "      <td>10316.0</td>\n",
       "    </tr>\n",
       "    <tr>\n",
       "      <th>1984</th>\n",
       "      <td>16.03</td>\n",
       "      <td>23998.0</td>\n",
       "      <td>18966.0</td>\n",
       "    </tr>\n",
       "    <tr>\n",
       "      <th>1985</th>\n",
       "      <td>8.50</td>\n",
       "      <td>23249.0</td>\n",
       "      <td>18461.0</td>\n",
       "    </tr>\n",
       "    <tr>\n",
       "      <th>1986</th>\n",
       "      <td>0.00</td>\n",
       "      <td>14112.0</td>\n",
       "      <td>11516.0</td>\n",
       "    </tr>\n",
       "    <tr>\n",
       "      <th>2000</th>\n",
       "      <td>21.09</td>\n",
       "      <td>23773.0</td>\n",
       "      <td>17841.0</td>\n",
       "    </tr>\n",
       "    <tr>\n",
       "      <th>2001</th>\n",
       "      <td>22.84</td>\n",
       "      <td>23890.0</td>\n",
       "      <td>17895.0</td>\n",
       "    </tr>\n",
       "    <tr>\n",
       "      <th>2002</th>\n",
       "      <td>19.12</td>\n",
       "      <td>24025.0</td>\n",
       "      <td>17840.0</td>\n",
       "    </tr>\n",
       "    <tr>\n",
       "      <th>2003</th>\n",
       "      <td>11.37</td>\n",
       "      <td>24384.0</td>\n",
       "      <td>18230.0</td>\n",
       "    </tr>\n",
       "    <tr>\n",
       "      <th>2004</th>\n",
       "      <td>12.97</td>\n",
       "      <td>24395.0</td>\n",
       "      <td>18213.0</td>\n",
       "    </tr>\n",
       "    <tr>\n",
       "      <th>2005</th>\n",
       "      <td>27.37</td>\n",
       "      <td>24012.0</td>\n",
       "      <td>18192.0</td>\n",
       "    </tr>\n",
       "    <tr>\n",
       "      <th>2006</th>\n",
       "      <td>22.79</td>\n",
       "      <td>24109.0</td>\n",
       "      <td>17944.0</td>\n",
       "    </tr>\n",
       "    <tr>\n",
       "      <th>2007</th>\n",
       "      <td>12.79</td>\n",
       "      <td>23964.0</td>\n",
       "      <td>17884.0</td>\n",
       "    </tr>\n",
       "    <tr>\n",
       "      <th>2008</th>\n",
       "      <td>13.86</td>\n",
       "      <td>24136.0</td>\n",
       "      <td>17819.0</td>\n",
       "    </tr>\n",
       "    <tr>\n",
       "      <th>2009</th>\n",
       "      <td>14.57</td>\n",
       "      <td>24019.0</td>\n",
       "      <td>17769.0</td>\n",
       "    </tr>\n",
       "    <tr>\n",
       "      <th>2010</th>\n",
       "      <td>22.67</td>\n",
       "      <td>24114.0</td>\n",
       "      <td>18363.0</td>\n",
       "    </tr>\n",
       "    <tr>\n",
       "      <th>2011</th>\n",
       "      <td>16.06</td>\n",
       "      <td>23873.0</td>\n",
       "      <td>17675.0</td>\n",
       "    </tr>\n",
       "    <tr>\n",
       "      <th>2012</th>\n",
       "      <td>22.93</td>\n",
       "      <td>23933.0</td>\n",
       "      <td>17686.0</td>\n",
       "    </tr>\n",
       "    <tr>\n",
       "      <th>2013</th>\n",
       "      <td>4.89</td>\n",
       "      <td>24689.0</td>\n",
       "      <td>17917.0</td>\n",
       "    </tr>\n",
       "    <tr>\n",
       "      <th>2014</th>\n",
       "      <td>19.62</td>\n",
       "      <td>25159.0</td>\n",
       "      <td>19017.0</td>\n",
       "    </tr>\n",
       "    <tr>\n",
       "      <th>2015</th>\n",
       "      <td>8.58</td>\n",
       "      <td>24941.0</td>\n",
       "      <td>18569.0</td>\n",
       "    </tr>\n",
       "    <tr>\n",
       "      <th>2016</th>\n",
       "      <td>19.77</td>\n",
       "      <td>24930.0</td>\n",
       "      <td>19102.0</td>\n",
       "    </tr>\n",
       "    <tr>\n",
       "      <th>2017</th>\n",
       "      <td>23.34</td>\n",
       "      <td>24901.0</td>\n",
       "      <td>18634.0</td>\n",
       "    </tr>\n",
       "    <tr>\n",
       "      <th>2018</th>\n",
       "      <td>16.82</td>\n",
       "      <td>24130.0</td>\n",
       "      <td>17990.0</td>\n",
       "    </tr>\n",
       "    <tr>\n",
       "      <th>2019</th>\n",
       "      <td>20.00</td>\n",
       "      <td>24896.0</td>\n",
       "      <td>18782.0</td>\n",
       "    </tr>\n",
       "    <tr>\n",
       "      <th>2020</th>\n",
       "      <td>6.42</td>\n",
       "      <td>25934.0</td>\n",
       "      <td>19021.0</td>\n",
       "    </tr>\n",
       "    <tr>\n",
       "      <th>2021</th>\n",
       "      <td>20.82</td>\n",
       "      <td>24506.0</td>\n",
       "      <td>18484.0</td>\n",
       "    </tr>\n",
       "    <tr>\n",
       "      <th>2022</th>\n",
       "      <td>15.38</td>\n",
       "      <td>24446.0</td>\n",
       "      <td>17901.0</td>\n",
       "    </tr>\n",
       "    <tr>\n",
       "      <th>2023</th>\n",
       "      <td>20.98</td>\n",
       "      <td>24041.0</td>\n",
       "      <td>18176.0</td>\n",
       "    </tr>\n",
       "    <tr>\n",
       "      <th>2024</th>\n",
       "      <td>12.35</td>\n",
       "      <td>9593.0</td>\n",
       "      <td>7298.0</td>\n",
       "    </tr>\n",
       "  </tbody>\n",
       "</table>\n",
       "</div>"
      ],
      "text/plain": [
       "      precip  temp_max  temp_min\n",
       "DATE                            \n",
       "1960   14.01   24135.0   17973.0\n",
       "1961   13.87   24202.0   17819.0\n",
       "1962   22.47   23785.0   17880.0\n",
       "1963   19.11   23470.0   18237.0\n",
       "1964   16.83   23013.0   18637.0\n",
       "1965   16.32   23181.0   18715.0\n",
       "1966   13.11   23680.0   18991.0\n",
       "1967   23.98   23433.0   18668.0\n",
       "1968   17.19   23634.0   18859.0\n",
       "1969   25.70   23276.0   18493.0\n",
       "1970   25.31   23465.0   18653.0\n",
       "1971   10.61   22897.0   18084.0\n",
       "1972   16.27   23262.0   18757.0\n",
       "1973   29.37   23155.0   18445.0\n",
       "1974   16.87   23289.0   18400.0\n",
       "1975   17.54   23174.0   18150.0\n",
       "1976    8.64   23859.0   18325.0\n",
       "1977   11.70   23970.0   18884.0\n",
       "1978   22.57   24112.0   18980.0\n",
       "1979   23.79   23899.0   19107.0\n",
       "1980   13.58   24064.0   18855.0\n",
       "1983    7.13   12658.0   10316.0\n",
       "1984   16.03   23998.0   18966.0\n",
       "1985    8.50   23249.0   18461.0\n",
       "1986    0.00   14112.0   11516.0\n",
       "2000   21.09   23773.0   17841.0\n",
       "2001   22.84   23890.0   17895.0\n",
       "2002   19.12   24025.0   17840.0\n",
       "2003   11.37   24384.0   18230.0\n",
       "2004   12.97   24395.0   18213.0\n",
       "2005   27.37   24012.0   18192.0\n",
       "2006   22.79   24109.0   17944.0\n",
       "2007   12.79   23964.0   17884.0\n",
       "2008   13.86   24136.0   17819.0\n",
       "2009   14.57   24019.0   17769.0\n",
       "2010   22.67   24114.0   18363.0\n",
       "2011   16.06   23873.0   17675.0\n",
       "2012   22.93   23933.0   17686.0\n",
       "2013    4.89   24689.0   17917.0\n",
       "2014   19.62   25159.0   19017.0\n",
       "2015    8.58   24941.0   18569.0\n",
       "2016   19.77   24930.0   19102.0\n",
       "2017   23.34   24901.0   18634.0\n",
       "2018   16.82   24130.0   17990.0\n",
       "2019   20.00   24896.0   18782.0\n",
       "2020    6.42   25934.0   19021.0\n",
       "2021   20.82   24506.0   18484.0\n",
       "2022   15.38   24446.0   17901.0\n",
       "2023   20.98   24041.0   18176.0\n",
       "2024   12.35    9593.0    7298.0"
      ]
     },
     "execution_count": 43,
     "metadata": {},
     "output_type": "execute_result"
    }
   ],
   "source": [
    "core_weather.groupby(core_weather.index.year).sum()\n"
   ]
  },
  {
   "cell_type": "code",
   "execution_count": 44,
   "id": "8795c588",
   "metadata": {},
   "outputs": [
    {
     "data": {
      "text/plain": [
       "<Axes: xlabel='DATE'>"
      ]
     },
     "execution_count": 44,
     "metadata": {},
     "output_type": "execute_result"
    },
    {
     "data": {
      "image/png": "[encoded data removed]",
      "text/plain": [
       "<Figure size 640x480 with 1 Axes>"
      ]
     },
     "metadata": {},
     "output_type": "display_data"
    }
   ],
   "source": [
    "\n",
    "core_weather.groupby(core_weather.index.year).apply(lambda x: x[\"precip\"].sum()).plot()"
   ]
  },
  {
   "cell_type": "code",
   "execution_count": 45,
   "id": "a58cc321",
   "metadata": {},
   "outputs": [],
   "source": [
    "core_weather[\"target\"] = core_weather.shift(-1)[\"temp_max\"]"
   ]
  },
  {
   "cell_type": "code",
   "execution_count": 46,
   "id": "c3639bb5",
   "metadata": {},
   "outputs": [
    {
     "data": {
      "application/vnd.microsoft.datawrangler.viewer.v0+json": {
       "columns": [
        {
         "name": "DATE",
         "rawType": "datetime64[ns]",
         "type": "datetime"
        },
        {
         "name": "precip",
         "rawType": "float64",
         "type": "float"
        },
        {
         "name": "temp_max",
         "rawType": "float64",
         "type": "float"
        },
        {
         "name": "temp_min",
         "rawType": "float64",
         "type": "float"
        },
        {
         "name": "target",
         "rawType": "float64",
         "type": "float"
        }
       ],
       "ref": "1ee7aa6e-1d4c-4db7-885e-180792d4d441",
       "rows": [
        [
         "1960-01-01 00:00:00",
         "0.0",
         "49.0",
         "30.0",
         "49.0"
        ],
        [
         "1960-01-02 00:00:00",
         "0.0",
         "49.0",
         "29.0",
         "54.0"
        ],
        [
         "1960-01-03 00:00:00",
         "0.0",
         "54.0",
         "35.0",
         "54.0"
        ],
        [
         "1960-01-04 00:00:00",
         "0.0",
         "54.0",
         "36.0",
         "55.0"
        ],
        [
         "1960-01-05 00:00:00",
         "0.0",
         "55.0",
         "33.0",
         "53.0"
        ],
        [
         "1960-01-06 00:00:00",
         "0.0",
         "53.0",
         "38.0",
         "56.0"
        ],
        [
         "1960-01-07 00:00:00",
         "0.0",
         "56.0",
         "46.0",
         "54.0"
        ],
        [
         "1960-01-08 00:00:00",
         "0.45",
         "54.0",
         "49.0",
         "51.0"
        ],
        [
         "1960-01-09 00:00:00",
         "0.61",
         "51.0",
         "46.0",
         "55.0"
        ],
        [
         "1960-01-10 00:00:00",
         "0.08",
         "55.0",
         "46.0",
         "53.0"
        ],
        [
         "1960-01-11 00:00:00",
         "0.48",
         "53.0",
         "43.0",
         "53.0"
        ],
        [
         "1960-01-12 00:00:00",
         "0.0",
         "53.0",
         "37.0",
         "49.0"
        ],
        [
         "1960-01-13 00:00:00",
         "0.05",
         "49.0",
         "33.0",
         "48.0"
        ],
        [
         "1960-01-14 00:00:00",
         "0.67",
         "48.0",
         "40.0",
         "54.0"
        ],
        [
         "1960-01-15 00:00:00",
         "0.0",
         "54.0",
         "37.0",
         "56.0"
        ],
        [
         "1960-01-16 00:00:00",
         "0.0",
         "56.0",
         "35.0",
         "54.0"
        ],
        [
         "1960-01-17 00:00:00",
         "0.0",
         "54.0",
         "34.0",
         "51.0"
        ],
        [
         "1960-01-18 00:00:00",
         "0.0",
         "51.0",
         "40.0",
         "52.0"
        ],
        [
         "1960-01-19 00:00:00",
         "0.0",
         "52.0",
         "41.0",
         "58.0"
        ],
        [
         "1960-01-20 00:00:00",
         "0.0",
         "58.0",
         "47.0",
         "54.0"
        ],
        [
         "1960-01-21 00:00:00",
         "0.11",
         "54.0",
         "51.0",
         "61.0"
        ],
        [
         "1960-01-22 00:00:00",
         "0.0",
         "61.0",
         "49.0",
         "60.0"
        ],
        [
         "1960-01-23 00:00:00",
         "0.0",
         "60.0",
         "45.0",
         "60.0"
        ],
        [
         "1960-01-24 00:00:00",
         "0.35",
         "60.0",
         "47.0",
         "60.0"
        ],
        [
         "1960-01-25 00:00:00",
         "0.58",
         "60.0",
         "51.0",
         "58.0"
        ],
        [
         "1960-01-26 00:00:00",
         "0.04",
         "58.0",
         "50.0",
         "60.0"
        ],
        [
         "1960-01-27 00:00:00",
         "0.0",
         "60.0",
         "47.0",
         "62.0"
        ],
        [
         "1960-01-28 00:00:00",
         "0.0",
         "62.0",
         "47.0",
         "63.0"
        ],
        [
         "1960-01-29 00:00:00",
         "0.0",
         "63.0",
         "44.0",
         "61.0"
        ],
        [
         "1960-01-30 00:00:00",
         "0.0",
         "61.0",
         "49.0",
         "59.0"
        ],
        [
         "1960-01-31 00:00:00",
         "0.0",
         "59.0",
         "46.0",
         "62.0"
        ],
        [
         "1960-02-01 00:00:00",
         "0.81",
         "62.0",
         "51.0",
         "59.0"
        ],
        [
         "1960-02-02 00:00:00",
         "0.0",
         "59.0",
         "43.0",
         "59.0"
        ],
        [
         "1960-02-03 00:00:00",
         "0.2",
         "59.0",
         "47.0",
         "60.0"
        ],
        [
         "1960-02-04 00:00:00",
         "0.16",
         "60.0",
         "42.0",
         "60.0"
        ],
        [
         "1960-02-05 00:00:00",
         "0.67",
         "60.0",
         "53.0",
         "63.0"
        ],
        [
         "1960-02-06 00:00:00",
         "0.0",
         "63.0",
         "54.0",
         "62.0"
        ],
        [
         "1960-02-07 00:00:00",
         "0.06",
         "62.0",
         "55.0",
         "60.0"
        ],
        [
         "1960-02-08 00:00:00",
         "0.51",
         "60.0",
         "50.0",
         "55.0"
        ],
        [
         "1960-02-09 00:00:00",
         "0.36",
         "55.0",
         "48.0",
         "60.0"
        ],
        [
         "1960-02-10 00:00:00",
         "0.07",
         "60.0",
         "44.0",
         "61.0"
        ],
        [
         "1960-02-11 00:00:00",
         "0.0",
         "61.0",
         "40.0",
         "61.0"
        ],
        [
         "1960-02-12 00:00:00",
         "0.0",
         "61.0",
         "42.0",
         "60.0"
        ],
        [
         "1960-02-13 00:00:00",
         "0.02",
         "60.0",
         "45.0",
         "62.0"
        ],
        [
         "1960-02-14 00:00:00",
         "0.0",
         "62.0",
         "39.0",
         "61.0"
        ],
        [
         "1960-02-15 00:00:00",
         "0.0",
         "61.0",
         "42.0",
         "64.0"
        ],
        [
         "1960-02-16 00:00:00",
         "0.0",
         "64.0",
         "42.0",
         "62.0"
        ],
        [
         "1960-02-17 00:00:00",
         "0.0",
         "62.0",
         "38.0",
         "55.0"
        ],
        [
         "1960-02-18 00:00:00",
         "0.13",
         "55.0",
         "42.0",
         "60.0"
        ],
        [
         "1960-02-19 00:00:00",
         "0.0",
         "60.0",
         "40.0",
         "65.0"
        ]
       ],
       "shape": {
        "columns": 4,
        "rows": 17714
       }
      },
      "text/html": [
       "<div>\n",
       "<style scoped>\n",
       "    .dataframe tbody tr th:only-of-type {\n",
       "        vertical-align: middle;\n",
       "    }\n",
       "\n",
       "    .dataframe tbody tr th {\n",
       "        vertical-align: top;\n",
       "    }\n",
       "\n",
       "    .dataframe thead th {\n",
       "        text-align: right;\n",
       "    }\n",
       "</style>\n",
       "<table border=\"1\" class=\"dataframe\">\n",
       "  <thead>\n",
       "    <tr style=\"text-align: right;\">\n",
       "      <th></th>\n",
       "      <th>precip</th>\n",
       "      <th>temp_max</th>\n",
       "      <th>temp_min</th>\n",
       "      <th>target</th>\n",
       "    </tr>\n",
       "    <tr>\n",
       "      <th>DATE</th>\n",
       "      <th></th>\n",
       "      <th></th>\n",
       "      <th></th>\n",
       "      <th></th>\n",
       "    </tr>\n",
       "  </thead>\n",
       "  <tbody>\n",
       "    <tr>\n",
       "      <th>1960-01-01</th>\n",
       "      <td>0.0</td>\n",
       "      <td>49.0</td>\n",
       "      <td>30.0</td>\n",
       "      <td>49.0</td>\n",
       "    </tr>\n",
       "    <tr>\n",
       "      <th>1960-01-02</th>\n",
       "      <td>0.0</td>\n",
       "      <td>49.0</td>\n",
       "      <td>29.0</td>\n",
       "      <td>54.0</td>\n",
       "    </tr>\n",
       "    <tr>\n",
       "      <th>1960-01-03</th>\n",
       "      <td>0.0</td>\n",
       "      <td>54.0</td>\n",
       "      <td>35.0</td>\n",
       "      <td>54.0</td>\n",
       "    </tr>\n",
       "    <tr>\n",
       "      <th>1960-01-04</th>\n",
       "      <td>0.0</td>\n",
       "      <td>54.0</td>\n",
       "      <td>36.0</td>\n",
       "      <td>55.0</td>\n",
       "    </tr>\n",
       "    <tr>\n",
       "      <th>1960-01-05</th>\n",
       "      <td>0.0</td>\n",
       "      <td>55.0</td>\n",
       "      <td>33.0</td>\n",
       "      <td>53.0</td>\n",
       "    </tr>\n",
       "    <tr>\n",
       "      <th>...</th>\n",
       "      <td>...</td>\n",
       "      <td>...</td>\n",
       "      <td>...</td>\n",
       "      <td>...</td>\n",
       "    </tr>\n",
       "    <tr>\n",
       "      <th>2024-05-27</th>\n",
       "      <td>0.0</td>\n",
       "      <td>63.0</td>\n",
       "      <td>52.0</td>\n",
       "      <td>65.0</td>\n",
       "    </tr>\n",
       "    <tr>\n",
       "      <th>2024-05-28</th>\n",
       "      <td>0.0</td>\n",
       "      <td>65.0</td>\n",
       "      <td>52.0</td>\n",
       "      <td>75.0</td>\n",
       "    </tr>\n",
       "    <tr>\n",
       "      <th>2024-05-29</th>\n",
       "      <td>0.0</td>\n",
       "      <td>75.0</td>\n",
       "      <td>50.0</td>\n",
       "      <td>75.0</td>\n",
       "    </tr>\n",
       "    <tr>\n",
       "      <th>2024-05-30</th>\n",
       "      <td>0.0</td>\n",
       "      <td>75.0</td>\n",
       "      <td>51.0</td>\n",
       "      <td>73.0</td>\n",
       "    </tr>\n",
       "    <tr>\n",
       "      <th>2024-05-31</th>\n",
       "      <td>0.0</td>\n",
       "      <td>73.0</td>\n",
       "      <td>54.0</td>\n",
       "      <td>NaN</td>\n",
       "    </tr>\n",
       "  </tbody>\n",
       "</table>\n",
       "<p>17714 rows × 4 columns</p>\n",
       "</div>"
      ],
      "text/plain": [
       "            precip  temp_max  temp_min  target\n",
       "DATE                                          \n",
       "1960-01-01     0.0      49.0      30.0    49.0\n",
       "1960-01-02     0.0      49.0      29.0    54.0\n",
       "1960-01-03     0.0      54.0      35.0    54.0\n",
       "1960-01-04     0.0      54.0      36.0    55.0\n",
       "1960-01-05     0.0      55.0      33.0    53.0\n",
       "...            ...       ...       ...     ...\n",
       "2024-05-27     0.0      63.0      52.0    65.0\n",
       "2024-05-28     0.0      65.0      52.0    75.0\n",
       "2024-05-29     0.0      75.0      50.0    75.0\n",
       "2024-05-30     0.0      75.0      51.0    73.0\n",
       "2024-05-31     0.0      73.0      54.0     NaN\n",
       "\n",
       "[17714 rows x 4 columns]"
      ]
     },
     "execution_count": 46,
     "metadata": {},
     "output_type": "execute_result"
    }
   ],
   "source": [
    "core_weather"
   ]
  },
  {
   "cell_type": "code",
   "execution_count": 47,
   "id": "f11b3962",
   "metadata": {},
   "outputs": [],
   "source": [
    "core_weather = core_weather.iloc[:-1,:].copy()"
   ]
  },
  {
   "cell_type": "code",
   "execution_count": 48,
   "id": "52098e80",
   "metadata": {},
   "outputs": [
    {
     "data": {
      "application/vnd.microsoft.datawrangler.viewer.v0+json": {
       "columns": [
        {
         "name": "DATE",
         "rawType": "datetime64[ns]",
         "type": "datetime"
        },
        {
         "name": "precip",
         "rawType": "float64",
         "type": "float"
        },
        {
         "name": "temp_max",
         "rawType": "float64",
         "type": "float"
        },
        {
         "name": "temp_min",
         "rawType": "float64",
         "type": "float"
        },
        {
         "name": "target",
         "rawType": "float64",
         "type": "float"
        }
       ],
       "ref": "5983d9e5-1bed-4758-931a-d76db664ae40",
       "rows": [
        [
         "1960-01-01 00:00:00",
         "0.0",
         "49.0",
         "30.0",
         "49.0"
        ],
        [
         "1960-01-02 00:00:00",
         "0.0",
         "49.0",
         "29.0",
         "54.0"
        ],
        [
         "1960-01-03 00:00:00",
         "0.0",
         "54.0",
         "35.0",
         "54.0"
        ],
        [
         "1960-01-04 00:00:00",
         "0.0",
         "54.0",
         "36.0",
         "55.0"
        ],
        [
         "1960-01-05 00:00:00",
         "0.0",
         "55.0",
         "33.0",
         "53.0"
        ],
        [
         "1960-01-06 00:00:00",
         "0.0",
         "53.0",
         "38.0",
         "56.0"
        ],
        [
         "1960-01-07 00:00:00",
         "0.0",
         "56.0",
         "46.0",
         "54.0"
        ],
        [
         "1960-01-08 00:00:00",
         "0.45",
         "54.0",
         "49.0",
         "51.0"
        ],
        [
         "1960-01-09 00:00:00",
         "0.61",
         "51.0",
         "46.0",
         "55.0"
        ],
        [
         "1960-01-10 00:00:00",
         "0.08",
         "55.0",
         "46.0",
         "53.0"
        ],
        [
         "1960-01-11 00:00:00",
         "0.48",
         "53.0",
         "43.0",
         "53.0"
        ],
        [
         "1960-01-12 00:00:00",
         "0.0",
         "53.0",
         "37.0",
         "49.0"
        ],
        [
         "1960-01-13 00:00:00",
         "0.05",
         "49.0",
         "33.0",
         "48.0"
        ],
        [
         "1960-01-14 00:00:00",
         "0.67",
         "48.0",
         "40.0",
         "54.0"
        ],
        [
         "1960-01-15 00:00:00",
         "0.0",
         "54.0",
         "37.0",
         "56.0"
        ],
        [
         "1960-01-16 00:00:00",
         "0.0",
         "56.0",
         "35.0",
         "54.0"
        ],
        [
         "1960-01-17 00:00:00",
         "0.0",
         "54.0",
         "34.0",
         "51.0"
        ],
        [
         "1960-01-18 00:00:00",
         "0.0",
         "51.0",
         "40.0",
         "52.0"
        ],
        [
         "1960-01-19 00:00:00",
         "0.0",
         "52.0",
         "41.0",
         "58.0"
        ],
        [
         "1960-01-20 00:00:00",
         "0.0",
         "58.0",
         "47.0",
         "54.0"
        ],
        [
         "1960-01-21 00:00:00",
         "0.11",
         "54.0",
         "51.0",
         "61.0"
        ],
        [
         "1960-01-22 00:00:00",
         "0.0",
         "61.0",
         "49.0",
         "60.0"
        ],
        [
         "1960-01-23 00:00:00",
         "0.0",
         "60.0",
         "45.0",
         "60.0"
        ],
        [
         "1960-01-24 00:00:00",
         "0.35",
         "60.0",
         "47.0",
         "60.0"
        ],
        [
         "1960-01-25 00:00:00",
         "0.58",
         "60.0",
         "51.0",
         "58.0"
        ],
        [
         "1960-01-26 00:00:00",
         "0.04",
         "58.0",
         "50.0",
         "60.0"
        ],
        [
         "1960-01-27 00:00:00",
         "0.0",
         "60.0",
         "47.0",
         "62.0"
        ],
        [
         "1960-01-28 00:00:00",
         "0.0",
         "62.0",
         "47.0",
         "63.0"
        ],
        [
         "1960-01-29 00:00:00",
         "0.0",
         "63.0",
         "44.0",
         "61.0"
        ],
        [
         "1960-01-30 00:00:00",
         "0.0",
         "61.0",
         "49.0",
         "59.0"
        ],
        [
         "1960-01-31 00:00:00",
         "0.0",
         "59.0",
         "46.0",
         "62.0"
        ],
        [
         "1960-02-01 00:00:00",
         "0.81",
         "62.0",
         "51.0",
         "59.0"
        ],
        [
         "1960-02-02 00:00:00",
         "0.0",
         "59.0",
         "43.0",
         "59.0"
        ],
        [
         "1960-02-03 00:00:00",
         "0.2",
         "59.0",
         "47.0",
         "60.0"
        ],
        [
         "1960-02-04 00:00:00",
         "0.16",
         "60.0",
         "42.0",
         "60.0"
        ],
        [
         "1960-02-05 00:00:00",
         "0.67",
         "60.0",
         "53.0",
         "63.0"
        ],
        [
         "1960-02-06 00:00:00",
         "0.0",
         "63.0",
         "54.0",
         "62.0"
        ],
        [
         "1960-02-07 00:00:00",
         "0.06",
         "62.0",
         "55.0",
         "60.0"
        ],
        [
         "1960-02-08 00:00:00",
         "0.51",
         "60.0",
         "50.0",
         "55.0"
        ],
        [
         "1960-02-09 00:00:00",
         "0.36",
         "55.0",
         "48.0",
         "60.0"
        ],
        [
         "1960-02-10 00:00:00",
         "0.07",
         "60.0",
         "44.0",
         "61.0"
        ],
        [
         "1960-02-11 00:00:00",
         "0.0",
         "61.0",
         "40.0",
         "61.0"
        ],
        [
         "1960-02-12 00:00:00",
         "0.0",
         "61.0",
         "42.0",
         "60.0"
        ],
        [
         "1960-02-13 00:00:00",
         "0.02",
         "60.0",
         "45.0",
         "62.0"
        ],
        [
         "1960-02-14 00:00:00",
         "0.0",
         "62.0",
         "39.0",
         "61.0"
        ],
        [
         "1960-02-15 00:00:00",
         "0.0",
         "61.0",
         "42.0",
         "64.0"
        ],
        [
         "1960-02-16 00:00:00",
         "0.0",
         "64.0",
         "42.0",
         "62.0"
        ],
        [
         "1960-02-17 00:00:00",
         "0.0",
         "62.0",
         "38.0",
         "55.0"
        ],
        [
         "1960-02-18 00:00:00",
         "0.13",
         "55.0",
         "42.0",
         "60.0"
        ],
        [
         "1960-02-19 00:00:00",
         "0.0",
         "60.0",
         "40.0",
         "65.0"
        ]
       ],
       "shape": {
        "columns": 4,
        "rows": 17713
       }
      },
      "text/html": [
       "<div>\n",
       "<style scoped>\n",
       "    .dataframe tbody tr th:only-of-type {\n",
       "        vertical-align: middle;\n",
       "    }\n",
       "\n",
       "    .dataframe tbody tr th {\n",
       "        vertical-align: top;\n",
       "    }\n",
       "\n",
       "    .dataframe thead th {\n",
       "        text-align: right;\n",
       "    }\n",
       "</style>\n",
       "<table border=\"1\" class=\"dataframe\">\n",
       "  <thead>\n",
       "    <tr style=\"text-align: right;\">\n",
       "      <th></th>\n",
       "      <th>precip</th>\n",
       "      <th>temp_max</th>\n",
       "      <th>temp_min</th>\n",
       "      <th>target</th>\n",
       "    </tr>\n",
       "    <tr>\n",
       "      <th>DATE</th>\n",
       "      <th></th>\n",
       "      <th></th>\n",
       "      <th></th>\n",
       "      <th></th>\n",
       "    </tr>\n",
       "  </thead>\n",
       "  <tbody>\n",
       "    <tr>\n",
       "      <th>1960-01-01</th>\n",
       "      <td>0.0</td>\n",
       "      <td>49.0</td>\n",
       "      <td>30.0</td>\n",
       "      <td>49.0</td>\n",
       "    </tr>\n",
       "    <tr>\n",
       "      <th>1960-01-02</th>\n",
       "      <td>0.0</td>\n",
       "      <td>49.0</td>\n",
       "      <td>29.0</td>\n",
       "      <td>54.0</td>\n",
       "    </tr>\n",
       "    <tr>\n",
       "      <th>1960-01-03</th>\n",
       "      <td>0.0</td>\n",
       "      <td>54.0</td>\n",
       "      <td>35.0</td>\n",
       "      <td>54.0</td>\n",
       "    </tr>\n",
       "    <tr>\n",
       "      <th>1960-01-04</th>\n",
       "      <td>0.0</td>\n",
       "      <td>54.0</td>\n",
       "      <td>36.0</td>\n",
       "      <td>55.0</td>\n",
       "    </tr>\n",
       "    <tr>\n",
       "      <th>1960-01-05</th>\n",
       "      <td>0.0</td>\n",
       "      <td>55.0</td>\n",
       "      <td>33.0</td>\n",
       "      <td>53.0</td>\n",
       "    </tr>\n",
       "    <tr>\n",
       "      <th>...</th>\n",
       "      <td>...</td>\n",
       "      <td>...</td>\n",
       "      <td>...</td>\n",
       "      <td>...</td>\n",
       "    </tr>\n",
       "    <tr>\n",
       "      <th>2024-05-26</th>\n",
       "      <td>0.0</td>\n",
       "      <td>67.0</td>\n",
       "      <td>51.0</td>\n",
       "      <td>63.0</td>\n",
       "    </tr>\n",
       "    <tr>\n",
       "      <th>2024-05-27</th>\n",
       "      <td>0.0</td>\n",
       "      <td>63.0</td>\n",
       "      <td>52.0</td>\n",
       "      <td>65.0</td>\n",
       "    </tr>\n",
       "    <tr>\n",
       "      <th>2024-05-28</th>\n",
       "      <td>0.0</td>\n",
       "      <td>65.0</td>\n",
       "      <td>52.0</td>\n",
       "      <td>75.0</td>\n",
       "    </tr>\n",
       "    <tr>\n",
       "      <th>2024-05-29</th>\n",
       "      <td>0.0</td>\n",
       "      <td>75.0</td>\n",
       "      <td>50.0</td>\n",
       "      <td>75.0</td>\n",
       "    </tr>\n",
       "    <tr>\n",
       "      <th>2024-05-30</th>\n",
       "      <td>0.0</td>\n",
       "      <td>75.0</td>\n",
       "      <td>51.0</td>\n",
       "      <td>73.0</td>\n",
       "    </tr>\n",
       "  </tbody>\n",
       "</table>\n",
       "<p>17713 rows × 4 columns</p>\n",
       "</div>"
      ],
      "text/plain": [
       "            precip  temp_max  temp_min  target\n",
       "DATE                                          \n",
       "1960-01-01     0.0      49.0      30.0    49.0\n",
       "1960-01-02     0.0      49.0      29.0    54.0\n",
       "1960-01-03     0.0      54.0      35.0    54.0\n",
       "1960-01-04     0.0      54.0      36.0    55.0\n",
       "1960-01-05     0.0      55.0      33.0    53.0\n",
       "...            ...       ...       ...     ...\n",
       "2024-05-26     0.0      67.0      51.0    63.0\n",
       "2024-05-27     0.0      63.0      52.0    65.0\n",
       "2024-05-28     0.0      65.0      52.0    75.0\n",
       "2024-05-29     0.0      75.0      50.0    75.0\n",
       "2024-05-30     0.0      75.0      51.0    73.0\n",
       "\n",
       "[17713 rows x 4 columns]"
      ]
     },
     "execution_count": 48,
     "metadata": {},
     "output_type": "execute_result"
    }
   ],
   "source": [
    "core_weather"
   ]
  },
  {
   "cell_type": "code",
   "execution_count": 51,
   "id": "2767c10e",
   "metadata": {},
   "outputs": [],
   "source": [
    "from sklearn.linear_model import Ridge\n",
    "\n",
    "reg = Ridge(alpha=.1)"
   ]
  },
  {
   "cell_type": "code",
   "execution_count": 52,
   "id": "46a8fae7",
   "metadata": {},
   "outputs": [],
   "source": [
    "predictors = [\"precip\", \"temp_max\", \"temp_min\"]"
   ]
  },
  {
   "cell_type": "code",
   "execution_count": 53,
   "id": "c22eb51e",
   "metadata": {},
   "outputs": [],
   "source": [
    "train = core_weather.loc[:\"2020-12-31\"]"
   ]
  },
  {
   "cell_type": "code",
   "execution_count": 54,
   "id": "42d68242",
   "metadata": {},
   "outputs": [],
   "source": [
    "test = core_weather.loc[\"2023-01-01\":]"
   ]
  },
  {
   "cell_type": "code",
   "execution_count": 55,
   "id": "30bf1d4a",
   "metadata": {},
   "outputs": [
    {
     "data": {
      "text/html": [
       "<style>#sk-container-id-1 {\n",
       "  /* Definition of color scheme common for light and dark mode */\n",
       "  --sklearn-color-text: #000;\n",
       "  --sklearn-color-text-muted: #666;\n",
       "  --sklearn-color-line: gray;\n",
       "  /* Definition of color scheme for unfitted estimators */\n",
       "  --sklearn-color-unfitted-level-0: #fff5e6;\n",
       "  --sklearn-color-unfitted-level-1: #f6e4d2;\n",
       "  --sklearn-color-unfitted-level-2: #ffe0b3;\n",
       "  --sklearn-color-unfitted-level-3: chocolate;\n",
       "  /* Definition of color scheme for fitted estimators */\n",
       "  --sklearn-color-fitted-level-0: #f0f8ff;\n",
       "  --sklearn-color-fitted-level-1: #d4ebff;\n",
       "  --sklearn-color-fitted-level-2: #b3dbfd;\n",
       "  --sklearn-color-fitted-level-3: cornflowerblue;\n",
       "\n",
       "  /* Specific color for light theme */\n",
       "  --sklearn-color-text-on-default-background: var(--sg-text-color, var(--theme-code-foreground, var(--jp-content-font-color1, black)));\n",
       "  --sklearn-color-background: var(--sg-background-color, var(--theme-background, var(--jp-layout-color0, white)));\n",
       "  --sklearn-color-border-box: var(--sg-text-color, var(--theme-code-foreground, var(--jp-content-font-color1, black)));\n",
       "  --sklearn-color-icon: #696969;\n",
       "\n",
       "  @media (prefers-color-scheme: dark) {\n",
       "    /* Redefinition of color scheme for dark theme */\n",
       "    --sklearn-color-text-on-default-background: var(--sg-text-color, var(--theme-code-foreground, var(--jp-content-font-color1, white)));\n",
       "    --sklearn-color-background: var(--sg-background-color, var(--theme-background, var(--jp-layout-color0, #111)));\n",
       "    --sklearn-color-border-box: var(--sg-text-color, var(--theme-code-foreground, var(--jp-content-font-color1, white)));\n",
       "    --sklearn-color-icon: #878787;\n",
       "  }\n",
       "}\n",
       "\n",
       "#sk-container-id-1 {\n",
       "  color: var(--sklearn-color-text);\n",
       "}\n",
       "\n",
       "#sk-container-id-1 pre {\n",
       "  padding: 0;\n",
       "}\n",
       "\n",
       "#sk-container-id-1 input.sk-hidden--visually {\n",
       "  border: 0;\n",
       "  clip: rect(1px 1px 1px 1px);\n",
       "  clip: rect(1px, 1px, 1px, 1px);\n",
       "  height: 1px;\n",
       "  margin: -1px;\n",
       "  overflow: hidden;\n",
       "  padding: 0;\n",
       "  position: absolute;\n",
       "  width: 1px;\n",
       "}\n",
       "\n",
       "#sk-container-id-1 div.sk-dashed-wrapped {\n",
       "  border: 1px dashed var(--sklearn-color-line);\n",
       "  margin: 0 0.4em 0.5em 0.4em;\n",
       "  box-sizing: border-box;\n",
       "  padding-bottom: 0.4em;\n",
       "  background-color: var(--sklearn-color-background);\n",
       "}\n",
       "\n",
       "#sk-container-id-1 div.sk-container {\n",
       "  /* jupyter's `normalize.less` sets `[hidden] { display: none; }`\n",
       "     but bootstrap.min.css set `[hidden] { display: none !important; }`\n",
       "     so we also need the `!important` here to be able to override the\n",
       "     default hidden behavior on the sphinx rendered scikit-learn.org.\n",
       "     See: https://github.com/scikit-learn/scikit-learn/issues/21755 */\n",
       "  display: inline-block !important;\n",
       "  position: relative;\n",
       "}\n",
       "\n",
       "#sk-container-id-1 div.sk-text-repr-fallback {\n",
       "  display: none;\n",
       "}\n",
       "\n",
       "div.sk-parallel-item,\n",
       "div.sk-serial,\n",
       "div.sk-item {\n",
       "  /* draw centered vertical line to link estimators */\n",
       "  background-image: linear-gradient(var(--sklearn-color-text-on-default-background), var(--sklearn-color-text-on-default-background));\n",
       "  background-size: 2px 100%;\n",
       "  background-repeat: no-repeat;\n",
       "  background-position: center center;\n",
       "}\n",
       "\n",
       "/* Parallel-specific style estimator block */\n",
       "\n",
       "#sk-container-id-1 div.sk-parallel-item::after {\n",
       "  content: \"\";\n",
       "  width: 100%;\n",
       "  border-bottom: 2px solid var(--sklearn-color-text-on-default-background);\n",
       "  flex-grow: 1;\n",
       "}\n",
       "\n",
       "#sk-container-id-1 div.sk-parallel {\n",
       "  display: flex;\n",
       "  align-items: stretch;\n",
       "  justify-content: center;\n",
       "  background-color: var(--sklearn-color-background);\n",
       "  position: relative;\n",
       "}\n",
       "\n",
       "#sk-container-id-1 div.sk-parallel-item {\n",
       "  display: flex;\n",
       "  flex-direction: column;\n",
       "}\n",
       "\n",
       "#sk-container-id-1 div.sk-parallel-item:first-child::after {\n",
       "  align-self: flex-end;\n",
       "  width: 50%;\n",
       "}\n",
       "\n",
       "#sk-container-id-1 div.sk-parallel-item:last-child::after {\n",
       "  align-self: flex-start;\n",
       "  width: 50%;\n",
       "}\n",
       "\n",
       "#sk-container-id-1 div.sk-parallel-item:only-child::after {\n",
       "  width: 0;\n",
       "}\n",
       "\n",
       "/* Serial-specific style estimator block */\n",
       "\n",
       "#sk-container-id-1 div.sk-serial {\n",
       "  display: flex;\n",
       "  flex-direction: column;\n",
       "  align-items: center;\n",
       "  background-color: var(--sklearn-color-background);\n",
       "  padding-right: 1em;\n",
       "  padding-left: 1em;\n",
       "}\n",
       "\n",
       "\n",
       "/* Toggleable style: style used for estimator/Pipeline/ColumnTransformer box that is\n",
       "clickable and can be expanded/collapsed.\n",
       "- Pipeline and ColumnTransformer use this feature and define the default style\n",
       "- Estimators will overwrite some part of the style using the `sk-estimator` class\n",
       "*/\n",
       "\n",
       "/* Pipeline and ColumnTransformer style (default) */\n",
       "\n",
       "#sk-container-id-1 div.sk-toggleable {\n",
       "  /* Default theme specific background. It is overwritten whether we have a\n",
       "  specific estimator or a Pipeline/ColumnTransformer */\n",
       "  background-color: var(--sklearn-color-background);\n",
       "}\n",
       "\n",
       "/* Toggleable label */\n",
       "#sk-container-id-1 label.sk-toggleable__label {\n",
       "  cursor: pointer;\n",
       "  display: flex;\n",
       "  width: 100%;\n",
       "  margin-bottom: 0;\n",
       "  padding: 0.5em;\n",
       "  box-sizing: border-box;\n",
       "  text-align: center;\n",
       "  align-items: start;\n",
       "  justify-content: space-between;\n",
       "  gap: 0.5em;\n",
       "}\n",
       "\n",
       "#sk-container-id-1 label.sk-toggleable__label .caption {\n",
       "  font-size: 0.6rem;\n",
       "  font-weight: lighter;\n",
       "  color: var(--sklearn-color-text-muted);\n",
       "}\n",
       "\n",
       "#sk-container-id-1 label.sk-toggleable__label-arrow:before {\n",
       "  /* Arrow on the left of the label */\n",
       "  content: \"▸\";\n",
       "  float: left;\n",
       "  margin-right: 0.25em;\n",
       "  color: var(--sklearn-color-icon);\n",
       "}\n",
       "\n",
       "#sk-container-id-1 label.sk-toggleable__label-arrow:hover:before {\n",
       "  color: var(--sklearn-color-text);\n",
       "}\n",
       "\n",
       "/* Toggleable content - dropdown */\n",
       "\n",
       "#sk-container-id-1 div.sk-toggleable__content {\n",
       "  display: none;\n",
       "  text-align: left;\n",
       "  /* unfitted */\n",
       "  background-color: var(--sklearn-color-unfitted-level-0);\n",
       "}\n",
       "\n",
       "#sk-container-id-1 div.sk-toggleable__content.fitted {\n",
       "  /* fitted */\n",
       "  background-color: var(--sklearn-color-fitted-level-0);\n",
       "}\n",
       "\n",
       "#sk-container-id-1 div.sk-toggleable__content pre {\n",
       "  margin: 0.2em;\n",
       "  border-radius: 0.25em;\n",
       "  color: var(--sklearn-color-text);\n",
       "  /* unfitted */\n",
       "  background-color: var(--sklearn-color-unfitted-level-0);\n",
       "}\n",
       "\n",
       "#sk-container-id-1 div.sk-toggleable__content.fitted pre {\n",
       "  /* unfitted */\n",
       "  background-color: var(--sklearn-color-fitted-level-0);\n",
       "}\n",
       "\n",
       "#sk-container-id-1 input.sk-toggleable__control:checked~div.sk-toggleable__content {\n",
       "  /* Expand drop-down */\n",
       "  display: block;\n",
       "  width: 100%;\n",
       "  overflow: visible;\n",
       "}\n",
       "\n",
       "#sk-container-id-1 input.sk-toggleable__control:checked~label.sk-toggleable__label-arrow:before {\n",
       "  content: \"▾\";\n",
       "}\n",
       "\n",
       "/* Pipeline/ColumnTransformer-specific style */\n",
       "\n",
       "#sk-container-id-1 div.sk-label input.sk-toggleable__control:checked~label.sk-toggleable__label {\n",
       "  color: var(--sklearn-color-text);\n",
       "  background-color: var(--sklearn-color-unfitted-level-2);\n",
       "}\n",
       "\n",
       "#sk-container-id-1 div.sk-label.fitted input.sk-toggleable__control:checked~label.sk-toggleable__label {\n",
       "  background-color: var(--sklearn-color-fitted-level-2);\n",
       "}\n",
       "\n",
       "/* Estimator-specific style */\n",
       "\n",
       "/* Colorize estimator box */\n",
       "#sk-container-id-1 div.sk-estimator input.sk-toggleable__control:checked~label.sk-toggleable__label {\n",
       "  /* unfitted */\n",
       "  background-color: var(--sklearn-color-unfitted-level-2);\n",
       "}\n",
       "\n",
       "#sk-container-id-1 div.sk-estimator.fitted input.sk-toggleable__control:checked~label.sk-toggleable__label {\n",
       "  /* fitted */\n",
       "  background-color: var(--sklearn-color-fitted-level-2);\n",
       "}\n",
       "\n",
       "#sk-container-id-1 div.sk-label label.sk-toggleable__label,\n",
       "#sk-container-id-1 div.sk-label label {\n",
       "  /* The background is the default theme color */\n",
       "  color: var(--sklearn-color-text-on-default-background);\n",
       "}\n",
       "\n",
       "/* On hover, darken the color of the background */\n",
       "#sk-container-id-1 div.sk-label:hover label.sk-toggleable__label {\n",
       "  color: var(--sklearn-color-text);\n",
       "  background-color: var(--sklearn-color-unfitted-level-2);\n",
       "}\n",
       "\n",
       "/* Label box, darken color on hover, fitted */\n",
       "#sk-container-id-1 div.sk-label.fitted:hover label.sk-toggleable__label.fitted {\n",
       "  color: var(--sklearn-color-text);\n",
       "  background-color: var(--sklearn-color-fitted-level-2);\n",
       "}\n",
       "\n",
       "/* Estimator label */\n",
       "\n",
       "#sk-container-id-1 div.sk-label label {\n",
       "  font-family: monospace;\n",
       "  font-weight: bold;\n",
       "  display: inline-block;\n",
       "  line-height: 1.2em;\n",
       "}\n",
       "\n",
       "#sk-container-id-1 div.sk-label-container {\n",
       "  text-align: center;\n",
       "}\n",
       "\n",
       "/* Estimator-specific */\n",
       "#sk-container-id-1 div.sk-estimator {\n",
       "  font-family: monospace;\n",
       "  border: 1px dotted var(--sklearn-color-border-box);\n",
       "  border-radius: 0.25em;\n",
       "  box-sizing: border-box;\n",
       "  margin-bottom: 0.5em;\n",
       "  /* unfitted */\n",
       "  background-color: var(--sklearn-color-unfitted-level-0);\n",
       "}\n",
       "\n",
       "#sk-container-id-1 div.sk-estimator.fitted {\n",
       "  /* fitted */\n",
       "  background-color: var(--sklearn-color-fitted-level-0);\n",
       "}\n",
       "\n",
       "/* on hover */\n",
       "#sk-container-id-1 div.sk-estimator:hover {\n",
       "  /* unfitted */\n",
       "  background-color: var(--sklearn-color-unfitted-level-2);\n",
       "}\n",
       "\n",
       "#sk-container-id-1 div.sk-estimator.fitted:hover {\n",
       "  /* fitted */\n",
       "  background-color: var(--sklearn-color-fitted-level-2);\n",
       "}\n",
       "\n",
       "/* Specification for estimator info (e.g. \"i\" and \"?\") */\n",
       "\n",
       "/* Common style for \"i\" and \"?\" */\n",
       "\n",
       ".sk-estimator-doc-link,\n",
       "a:link.sk-estimator-doc-link,\n",
       "a:visited.sk-estimator-doc-link {\n",
       "  float: right;\n",
       "  font-size: smaller;\n",
       "  line-height: 1em;\n",
       "  font-family: monospace;\n",
       "  background-color: var(--sklearn-color-background);\n",
       "  border-radius: 1em;\n",
       "  height: 1em;\n",
       "  width: 1em;\n",
       "  text-decoration: none !important;\n",
       "  margin-left: 0.5em;\n",
       "  text-align: center;\n",
       "  /* unfitted */\n",
       "  border: var(--sklearn-color-unfitted-level-1) 1pt solid;\n",
       "  color: var(--sklearn-color-unfitted-level-1);\n",
       "}\n",
       "\n",
       ".sk-estimator-doc-link.fitted,\n",
       "a:link.sk-estimator-doc-link.fitted,\n",
       "a:visited.sk-estimator-doc-link.fitted {\n",
       "  /* fitted */\n",
       "  border: var(--sklearn-color-fitted-level-1) 1pt solid;\n",
       "  color: var(--sklearn-color-fitted-level-1);\n",
       "}\n",
       "\n",
       "/* On hover */\n",
       "div.sk-estimator:hover .sk-estimator-doc-link:hover,\n",
       ".sk-estimator-doc-link:hover,\n",
       "div.sk-label-container:hover .sk-estimator-doc-link:hover,\n",
       ".sk-estimator-doc-link:hover {\n",
       "  /* unfitted */\n",
       "  background-color: var(--sklearn-color-unfitted-level-3);\n",
       "  color: var(--sklearn-color-background);\n",
       "  text-decoration: none;\n",
       "}\n",
       "\n",
       "div.sk-estimator.fitted:hover .sk-estimator-doc-link.fitted:hover,\n",
       ".sk-estimator-doc-link.fitted:hover,\n",
       "div.sk-label-container:hover .sk-estimator-doc-link.fitted:hover,\n",
       ".sk-estimator-doc-link.fitted:hover {\n",
       "  /* fitted */\n",
       "  background-color: var(--sklearn-color-fitted-level-3);\n",
       "  color: var(--sklearn-color-background);\n",
       "  text-decoration: none;\n",
       "}\n",
       "\n",
       "/* Span, style for the box shown on hovering the info icon */\n",
       ".sk-estimator-doc-link span {\n",
       "  display: none;\n",
       "  z-index: 9999;\n",
       "  position: relative;\n",
       "  font-weight: normal;\n",
       "  right: .2ex;\n",
       "  padding: .5ex;\n",
       "  margin: .5ex;\n",
       "  width: min-content;\n",
       "  min-width: 20ex;\n",
       "  max-width: 50ex;\n",
       "  color: var(--sklearn-color-text);\n",
       "  box-shadow: 2pt 2pt 4pt #999;\n",
       "  /* unfitted */\n",
       "  background: var(--sklearn-color-unfitted-level-0);\n",
       "  border: .5pt solid var(--sklearn-color-unfitted-level-3);\n",
       "}\n",
       "\n",
       ".sk-estimator-doc-link.fitted span {\n",
       "  /* fitted */\n",
       "  background: var(--sklearn-color-fitted-level-0);\n",
       "  border: var(--sklearn-color-fitted-level-3);\n",
       "}\n",
       "\n",
       ".sk-estimator-doc-link:hover span {\n",
       "  display: block;\n",
       "}\n",
       "\n",
       "/* \"?\"-specific style due to the `<a>` HTML tag */\n",
       "\n",
       "#sk-container-id-1 a.estimator_doc_link {\n",
       "  float: right;\n",
       "  font-size: 1rem;\n",
       "  line-height: 1em;\n",
       "  font-family: monospace;\n",
       "  background-color: var(--sklearn-color-background);\n",
       "  border-radius: 1rem;\n",
       "  height: 1rem;\n",
       "  width: 1rem;\n",
       "  text-decoration: none;\n",
       "  /* unfitted */\n",
       "  color: var(--sklearn-color-unfitted-level-1);\n",
       "  border: var(--sklearn-color-unfitted-level-1) 1pt solid;\n",
       "}\n",
       "\n",
       "#sk-container-id-1 a.estimator_doc_link.fitted {\n",
       "  /* fitted */\n",
       "  border: var(--sklearn-color-fitted-level-1) 1pt solid;\n",
       "  color: var(--sklearn-color-fitted-level-1);\n",
       "}\n",
       "\n",
       "/* On hover */\n",
       "#sk-container-id-1 a.estimator_doc_link:hover {\n",
       "  /* unfitted */\n",
       "  background-color: var(--sklearn-color-unfitted-level-3);\n",
       "  color: var(--sklearn-color-background);\n",
       "  text-decoration: none;\n",
       "}\n",
       "\n",
       "#sk-container-id-1 a.estimator_doc_link.fitted:hover {\n",
       "  /* fitted */\n",
       "  background-color: var(--sklearn-color-fitted-level-3);\n",
       "}\n",
       "\n",
       ".estimator-table summary {\n",
       "    padding: .5rem;\n",
       "    font-family: monospace;\n",
       "    cursor: pointer;\n",
       "}\n",
       "\n",
       ".estimator-table details[open] {\n",
       "    padding-left: 0.1rem;\n",
       "    padding-right: 0.1rem;\n",
       "    padding-bottom: 0.3rem;\n",
       "}\n",
       "\n",
       ".estimator-table .parameters-table {\n",
       "    margin-left: auto !important;\n",
       "    margin-right: auto !important;\n",
       "}\n",
       "\n",
       ".estimator-table .parameters-table tr:nth-child(odd) {\n",
       "    background-color: #fff;\n",
       "}\n",
       "\n",
       ".estimator-table .parameters-table tr:nth-child(even) {\n",
       "    background-color: #f6f6f6;\n",
       "}\n",
       "\n",
       ".estimator-table .parameters-table tr:hover {\n",
       "    background-color: #e0e0e0;\n",
       "}\n",
       "\n",
       ".estimator-table table td {\n",
       "    border: 1px solid rgba(106, 105, 104, 0.232);\n",
       "}\n",
       "\n",
       ".user-set td {\n",
       "    color:rgb(255, 94, 0);\n",
       "    text-align: left;\n",
       "}\n",
       "\n",
       ".user-set td.value pre {\n",
       "    color:rgb(255, 94, 0) !important;\n",
       "    background-color: transparent !important;\n",
       "}\n",
       "\n",
       ".default td {\n",
       "    color: black;\n",
       "    text-align: left;\n",
       "}\n",
       "\n",
       ".user-set td i,\n",
       ".default td i {\n",
       "    color: black;\n",
       "}\n",
       "\n",
       ".copy-paste-icon {\n",
       "    background-image: url(data:image/svg+xml;base64,PHN2ZyB4bWxucz0iaHR0cDovL3d3dy53My5vcmcvMjAwMC9zdmciIHZpZXdCb3g9IjAgMCA0NDggNTEyIj48IS0tIUZvbnQgQXdlc29tZSBGcmVlIDYuNy4yIGJ5IEBmb250YXdlc29tZSAtIGh0dHBzOi8vZm9udGF3ZXNvbWUuY29tIExpY2Vuc2UgLSBodHRwczovL2ZvbnRhd2Vzb21lLmNvbS9saWNlbnNlL2ZyZWUgQ29weXJpZ2h0IDIwMjUgRm9udGljb25zLCBJbmMuLS0+PHBhdGggZD0iTTIwOCAwTDMzMi4xIDBjMTIuNyAwIDI0LjkgNS4xIDMzLjkgMTQuMWw2Ny45IDY3LjljOSA5IDE0LjEgMjEuMiAxNC4xIDMzLjlMNDQ4IDMzNmMwIDI2LjUtMjEuNSA0OC00OCA0OGwtMTkyIDBjLTI2LjUgMC00OC0yMS41LTQ4LTQ4bDAtMjg4YzAtMjYuNSAyMS41LTQ4IDQ4LTQ4ek00OCAxMjhsODAgMCAwIDY0LTY0IDAgMCAyNTYgMTkyIDAgMC0zMiA2NCAwIDAgNDhjMCAyNi41LTIxLjUgNDgtNDggNDhMNDggNTEyYy0yNi41IDAtNDgtMjEuNS00OC00OEwwIDE3NmMwLTI2LjUgMjEuNS00OCA0OC00OHoiLz48L3N2Zz4=);\n",
       "    background-repeat: no-repeat;\n",
       "    background-size: 14px 14px;\n",
       "    background-position: 0;\n",
       "    display: inline-block;\n",
       "    width: 14px;\n",
       "    height: 14px;\n",
       "    cursor: pointer;\n",
       "}\n",
       "</style><body><div id=\"sk-container-id-1\" class=\"sk-top-container\"><div class=\"sk-text-repr-fallback\"><pre>Ridge(alpha=0.1)</pre><b>In a Jupyter environment, please rerun this cell to show the HTML representation or trust the notebook. <br />On GitHub, the HTML representation is unable to render, please try loading this page with nbviewer.org.</b></div><div class=\"sk-container\" hidden><div class=\"sk-item\"><div class=\"sk-estimator fitted sk-toggleable\"><input class=\"sk-toggleable__control sk-hidden--visually\" id=\"sk-estimator-id-1\" type=\"checkbox\" checked><label for=\"sk-estimator-id-1\" class=\"sk-toggleable__label fitted sk-toggleable__label-arrow\"><div><div>Ridge</div></div><div><a class=\"sk-estimator-doc-link fitted\" rel=\"noreferrer\" target=\"_blank\" href=\"https://scikit-learn.org/1.7/modules/generated/sklearn.linear_model.Ridge.html\">?<span>Documentation for Ridge</span></a><span class=\"sk-estimator-doc-link fitted\">i<span>Fitted</span></span></div></label><div class=\"sk-toggleable__content fitted\" data-param-prefix=\"\">\n",
       "        <div class=\"estimator-table\">\n",
       "            <details>\n",
       "                <summary>Parameters</summary>\n",
       "                <table class=\"parameters-table\">\n",
       "                  <tbody>\n",
       "                    \n",
       "        <tr class=\"user-set\">\n",
       "            <td><i class=\"copy-paste-icon\"\n",
       "                 onclick=\"copyToClipboard('alpha',\n",
       "                          this.parentElement.nextElementSibling)\"\n",
       "            ></i></td>\n",
       "            <td class=\"param\">alpha&nbsp;</td>\n",
       "            <td class=\"value\">0.1</td>\n",
       "        </tr>\n",
       "    \n",
       "\n",
       "        <tr class=\"default\">\n",
       "            <td><i class=\"copy-paste-icon\"\n",
       "                 onclick=\"copyToClipboard('fit_intercept',\n",
       "                          this.parentElement.nextElementSibling)\"\n",
       "            ></i></td>\n",
       "            <td class=\"param\">fit_intercept&nbsp;</td>\n",
       "            <td class=\"value\">True</td>\n",
       "        </tr>\n",
       "    \n",
       "\n",
       "        <tr class=\"default\">\n",
       "            <td><i class=\"copy-paste-icon\"\n",
       "                 onclick=\"copyToClipboard('copy_X',\n",
       "                          this.parentElement.nextElementSibling)\"\n",
       "            ></i></td>\n",
       "            <td class=\"param\">copy_X&nbsp;</td>\n",
       "            <td class=\"value\">True</td>\n",
       "        </tr>\n",
       "    \n",
       "\n",
       "        <tr class=\"default\">\n",
       "            <td><i class=\"copy-paste-icon\"\n",
       "                 onclick=\"copyToClipboard('max_iter',\n",
       "                          this.parentElement.nextElementSibling)\"\n",
       "            ></i></td>\n",
       "            <td class=\"param\">max_iter&nbsp;</td>\n",
       "            <td class=\"value\">None</td>\n",
       "        </tr>\n",
       "    \n",
       "\n",
       "        <tr class=\"default\">\n",
       "            <td><i class=\"copy-paste-icon\"\n",
       "                 onclick=\"copyToClipboard('tol',\n",
       "                          this.parentElement.nextElementSibling)\"\n",
       "            ></i></td>\n",
       "            <td class=\"param\">tol&nbsp;</td>\n",
       "            <td class=\"value\">0.0001</td>\n",
       "        </tr>\n",
       "    \n",
       "\n",
       "        <tr class=\"default\">\n",
       "            <td><i class=\"copy-paste-icon\"\n",
       "                 onclick=\"copyToClipboard('solver',\n",
       "                          this.parentElement.nextElementSibling)\"\n",
       "            ></i></td>\n",
       "            <td class=\"param\">solver&nbsp;</td>\n",
       "            <td class=\"value\">&#x27;auto&#x27;</td>\n",
       "        </tr>\n",
       "    \n",
       "\n",
       "        <tr class=\"default\">\n",
       "            <td><i class=\"copy-paste-icon\"\n",
       "                 onclick=\"copyToClipboard('positive',\n",
       "                          this.parentElement.nextElementSibling)\"\n",
       "            ></i></td>\n",
       "            <td class=\"param\">positive&nbsp;</td>\n",
       "            <td class=\"value\">False</td>\n",
       "        </tr>\n",
       "    \n",
       "\n",
       "        <tr class=\"default\">\n",
       "            <td><i class=\"copy-paste-icon\"\n",
       "                 onclick=\"copyToClipboard('random_state',\n",
       "                          this.parentElement.nextElementSibling)\"\n",
       "            ></i></td>\n",
       "            <td class=\"param\">random_state&nbsp;</td>\n",
       "            <td class=\"value\">None</td>\n",
       "        </tr>\n",
       "    \n",
       "                  </tbody>\n",
       "                </table>\n",
       "            </details>\n",
       "        </div>\n",
       "    </div></div></div></div></div><script>function copyToClipboard(text, element) {\n",
       "    // Get the parameter prefix from the closest toggleable content\n",
       "    const toggleableContent = element.closest('.sk-toggleable__content');\n",
       "    const paramPrefix = toggleableContent ? toggleableContent.dataset.paramPrefix : '';\n",
       "    const fullParamName = paramPrefix ? `${paramPrefix}${text}` : text;\n",
       "\n",
       "    const originalStyle = element.style;\n",
       "    const computedStyle = window.getComputedStyle(element);\n",
       "    const originalWidth = computedStyle.width;\n",
       "    const originalHTML = element.innerHTML.replace('Copied!', '');\n",
       "\n",
       "    navigator.clipboard.writeText(fullParamName)\n",
       "        .then(() => {\n",
       "            element.style.width = originalWidth;\n",
       "            element.style.color = 'green';\n",
       "            element.innerHTML = \"Copied!\";\n",
       "\n",
       "            setTimeout(() => {\n",
       "                element.innerHTML = originalHTML;\n",
       "                element.style = originalStyle;\n",
       "            }, 2000);\n",
       "        })\n",
       "        .catch(err => {\n",
       "            console.error('Failed to copy:', err);\n",
       "            element.style.color = 'red';\n",
       "            element.innerHTML = \"Failed!\";\n",
       "            setTimeout(() => {\n",
       "                element.innerHTML = originalHTML;\n",
       "                element.style = originalStyle;\n",
       "            }, 2000);\n",
       "        });\n",
       "    return false;\n",
       "}\n",
       "\n",
       "document.querySelectorAll('.fa-regular.fa-copy').forEach(function(element) {\n",
       "    const toggleableContent = element.closest('.sk-toggleable__content');\n",
       "    const paramPrefix = toggleableContent ? toggleableContent.dataset.paramPrefix : '';\n",
       "    const paramName = element.parentElement.nextElementSibling.textContent.trim();\n",
       "    const fullParamName = paramPrefix ? `${paramPrefix}${paramName}` : paramName;\n",
       "\n",
       "    element.setAttribute('title', fullParamName);\n",
       "});\n",
       "</script></body>"
      ],
      "text/plain": [
       "Ridge(alpha=0.1)"
      ]
     },
     "execution_count": 55,
     "metadata": {},
     "output_type": "execute_result"
    }
   ],
   "source": [
    "reg.fit(train[predictors], train[\"target\"])"
   ]
  },
  {
   "cell_type": "code",
   "execution_count": 56,
   "id": "5100bc58",
   "metadata": {},
   "outputs": [
    {
     "data": {
      "text/html": [
       "<style>#sk-container-id-2 {\n",
       "  /* Definition of color scheme common for light and dark mode */\n",
       "  --sklearn-color-text: #000;\n",
       "  --sklearn-color-text-muted: #666;\n",
       "  --sklearn-color-line: gray;\n",
       "  /* Definition of color scheme for unfitted estimators */\n",
       "  --sklearn-color-unfitted-level-0: #fff5e6;\n",
       "  --sklearn-color-unfitted-level-1: #f6e4d2;\n",
       "  --sklearn-color-unfitted-level-2: #ffe0b3;\n",
       "  --sklearn-color-unfitted-level-3: chocolate;\n",
       "  /* Definition of color scheme for fitted estimators */\n",
       "  --sklearn-color-fitted-level-0: #f0f8ff;\n",
       "  --sklearn-color-fitted-level-1: #d4ebff;\n",
       "  --sklearn-color-fitted-level-2: #b3dbfd;\n",
       "  --sklearn-color-fitted-level-3: cornflowerblue;\n",
       "\n",
       "  /* Specific color for light theme */\n",
       "  --sklearn-color-text-on-default-background: var(--sg-text-color, var(--theme-code-foreground, var(--jp-content-font-color1, black)));\n",
       "  --sklearn-color-background: var(--sg-background-color, var(--theme-background, var(--jp-layout-color0, white)));\n",
       "  --sklearn-color-border-box: var(--sg-text-color, var(--theme-code-foreground, var(--jp-content-font-color1, black)));\n",
       "  --sklearn-color-icon: #696969;\n",
       "\n",
       "  @media (prefers-color-scheme: dark) {\n",
       "    /* Redefinition of color scheme for dark theme */\n",
       "    --sklearn-color-text-on-default-background: var(--sg-text-color, var(--theme-code-foreground, var(--jp-content-font-color1, white)));\n",
       "    --sklearn-color-background: var(--sg-background-color, var(--theme-background, var(--jp-layout-color0, #111)));\n",
       "    --sklearn-color-border-box: var(--sg-text-color, var(--theme-code-foreground, var(--jp-content-font-color1, white)));\n",
       "    --sklearn-color-icon: #878787;\n",
       "  }\n",
       "}\n",
       "\n",
       "#sk-container-id-2 {\n",
       "  color: var(--sklearn-color-text);\n",
       "}\n",
       "\n",
       "#sk-container-id-2 pre {\n",
       "  padding: 0;\n",
       "}\n",
       "\n",
       "#sk-container-id-2 input.sk-hidden--visually {\n",
       "  border: 0;\n",
       "  clip: rect(1px 1px 1px 1px);\n",
       "  clip: rect(1px, 1px, 1px, 1px);\n",
       "  height: 1px;\n",
       "  margin: -1px;\n",
       "  overflow: hidden;\n",
       "  padding: 0;\n",
       "  position: absolute;\n",
       "  width: 1px;\n",
       "}\n",
       "\n",
       "#sk-container-id-2 div.sk-dashed-wrapped {\n",
       "  border: 1px dashed var(--sklearn-color-line);\n",
       "  margin: 0 0.4em 0.5em 0.4em;\n",
       "  box-sizing: border-box;\n",
       "  padding-bottom: 0.4em;\n",
       "  background-color: var(--sklearn-color-background);\n",
       "}\n",
       "\n",
       "#sk-container-id-2 div.sk-container {\n",
       "  /* jupyter's `normalize.less` sets `[hidden] { display: none; }`\n",
       "     but bootstrap.min.css set `[hidden] { display: none !important; }`\n",
       "     so we also need the `!important` here to be able to override the\n",
       "     default hidden behavior on the sphinx rendered scikit-learn.org.\n",
       "     See: https://github.com/scikit-learn/scikit-learn/issues/21755 */\n",
       "  display: inline-block !important;\n",
       "  position: relative;\n",
       "}\n",
       "\n",
       "#sk-container-id-2 div.sk-text-repr-fallback {\n",
       "  display: none;\n",
       "}\n",
       "\n",
       "div.sk-parallel-item,\n",
       "div.sk-serial,\n",
       "div.sk-item {\n",
       "  /* draw centered vertical line to link estimators */\n",
       "  background-image: linear-gradient(var(--sklearn-color-text-on-default-background), var(--sklearn-color-text-on-default-background));\n",
       "  background-size: 2px 100%;\n",
       "  background-repeat: no-repeat;\n",
       "  background-position: center center;\n",
       "}\n",
       "\n",
       "/* Parallel-specific style estimator block */\n",
       "\n",
       "#sk-container-id-2 div.sk-parallel-item::after {\n",
       "  content: \"\";\n",
       "  width: 100%;\n",
       "  border-bottom: 2px solid var(--sklearn-color-text-on-default-background);\n",
       "  flex-grow: 1;\n",
       "}\n",
       "\n",
       "#sk-container-id-2 div.sk-parallel {\n",
       "  display: flex;\n",
       "  align-items: stretch;\n",
       "  justify-content: center;\n",
       "  background-color: var(--sklearn-color-background);\n",
       "  position: relative;\n",
       "}\n",
       "\n",
       "#sk-container-id-2 div.sk-parallel-item {\n",
       "  display: flex;\n",
       "  flex-direction: column;\n",
       "}\n",
       "\n",
       "#sk-container-id-2 div.sk-parallel-item:first-child::after {\n",
       "  align-self: flex-end;\n",
       "  width: 50%;\n",
       "}\n",
       "\n",
       "#sk-container-id-2 div.sk-parallel-item:last-child::after {\n",
       "  align-self: flex-start;\n",
       "  width: 50%;\n",
       "}\n",
       "\n",
       "#sk-container-id-2 div.sk-parallel-item:only-child::after {\n",
       "  width: 0;\n",
       "}\n",
       "\n",
       "/* Serial-specific style estimator block */\n",
       "\n",
       "#sk-container-id-2 div.sk-serial {\n",
       "  display: flex;\n",
       "  flex-direction: column;\n",
       "  align-items: center;\n",
       "  background-color: var(--sklearn-color-background);\n",
       "  padding-right: 1em;\n",
       "  padding-left: 1em;\n",
       "}\n",
       "\n",
       "\n",
       "/* Toggleable style: style used for estimator/Pipeline/ColumnTransformer box that is\n",
       "clickable and can be expanded/collapsed.\n",
       "- Pipeline and ColumnTransformer use this feature and define the default style\n",
       "- Estimators will overwrite some part of the style using the `sk-estimator` class\n",
       "*/\n",
       "\n",
       "/* Pipeline and ColumnTransformer style (default) */\n",
       "\n",
       "#sk-container-id-2 div.sk-toggleable {\n",
       "  /* Default theme specific background. It is overwritten whether we have a\n",
       "  specific estimator or a Pipeline/ColumnTransformer */\n",
       "  background-color: var(--sklearn-color-background);\n",
       "}\n",
       "\n",
       "/* Toggleable label */\n",
       "#sk-container-id-2 label.sk-toggleable__label {\n",
       "  cursor: pointer;\n",
       "  display: flex;\n",
       "  width: 100%;\n",
       "  margin-bottom: 0;\n",
       "  padding: 0.5em;\n",
       "  box-sizing: border-box;\n",
       "  text-align: center;\n",
       "  align-items: start;\n",
       "  justify-content: space-between;\n",
       "  gap: 0.5em;\n",
       "}\n",
       "\n",
       "#sk-container-id-2 label.sk-toggleable__label .caption {\n",
       "  font-size: 0.6rem;\n",
       "  font-weight: lighter;\n",
       "  color: var(--sklearn-color-text-muted);\n",
       "}\n",
       "\n",
       "#sk-container-id-2 label.sk-toggleable__label-arrow:before {\n",
       "  /* Arrow on the left of the label */\n",
       "  content: \"▸\";\n",
       "  float: left;\n",
       "  margin-right: 0.25em;\n",
       "  color: var(--sklearn-color-icon);\n",
       "}\n",
       "\n",
       "#sk-container-id-2 label.sk-toggleable__label-arrow:hover:before {\n",
       "  color: var(--sklearn-color-text);\n",
       "}\n",
       "\n",
       "/* Toggleable content - dropdown */\n",
       "\n",
       "#sk-container-id-2 div.sk-toggleable__content {\n",
       "  display: none;\n",
       "  text-align: left;\n",
       "  /* unfitted */\n",
       "  background-color: var(--sklearn-color-unfitted-level-0);\n",
       "}\n",
       "\n",
       "#sk-container-id-2 div.sk-toggleable__content.fitted {\n",
       "  /* fitted */\n",
       "  background-color: var(--sklearn-color-fitted-level-0);\n",
       "}\n",
       "\n",
       "#sk-container-id-2 div.sk-toggleable__content pre {\n",
       "  margin: 0.2em;\n",
       "  border-radius: 0.25em;\n",
       "  color: var(--sklearn-color-text);\n",
       "  /* unfitted */\n",
       "  background-color: var(--sklearn-color-unfitted-level-0);\n",
       "}\n",
       "\n",
       "#sk-container-id-2 div.sk-toggleable__content.fitted pre {\n",
       "  /* unfitted */\n",
       "  background-color: var(--sklearn-color-fitted-level-0);\n",
       "}\n",
       "\n",
       "#sk-container-id-2 input.sk-toggleable__control:checked~div.sk-toggleable__content {\n",
       "  /* Expand drop-down */\n",
       "  display: block;\n",
       "  width: 100%;\n",
       "  overflow: visible;\n",
       "}\n",
       "\n",
       "#sk-container-id-2 input.sk-toggleable__control:checked~label.sk-toggleable__label-arrow:before {\n",
       "  content: \"▾\";\n",
       "}\n",
       "\n",
       "/* Pipeline/ColumnTransformer-specific style */\n",
       "\n",
       "#sk-container-id-2 div.sk-label input.sk-toggleable__control:checked~label.sk-toggleable__label {\n",
       "  color: var(--sklearn-color-text);\n",
       "  background-color: var(--sklearn-color-unfitted-level-2);\n",
       "}\n",
       "\n",
       "#sk-container-id-2 div.sk-label.fitted input.sk-toggleable__control:checked~label.sk-toggleable__label {\n",
       "  background-color: var(--sklearn-color-fitted-level-2);\n",
       "}\n",
       "\n",
       "/* Estimator-specific style */\n",
       "\n",
       "/* Colorize estimator box */\n",
       "#sk-container-id-2 div.sk-estimator input.sk-toggleable__control:checked~label.sk-toggleable__label {\n",
       "  /* unfitted */\n",
       "  background-color: var(--sklearn-color-unfitted-level-2);\n",
       "}\n",
       "\n",
       "#sk-container-id-2 div.sk-estimator.fitted input.sk-toggleable__control:checked~label.sk-toggleable__label {\n",
       "  /* fitted */\n",
       "  background-color: var(--sklearn-color-fitted-level-2);\n",
       "}\n",
       "\n",
       "#sk-container-id-2 div.sk-label label.sk-toggleable__label,\n",
       "#sk-container-id-2 div.sk-label label {\n",
       "  /* The background is the default theme color */\n",
       "  color: var(--sklearn-color-text-on-default-background);\n",
       "}\n",
       "\n",
       "/* On hover, darken the color of the background */\n",
       "#sk-container-id-2 div.sk-label:hover label.sk-toggleable__label {\n",
       "  color: var(--sklearn-color-text);\n",
       "  background-color: var(--sklearn-color-unfitted-level-2);\n",
       "}\n",
       "\n",
       "/* Label box, darken color on hover, fitted */\n",
       "#sk-container-id-2 div.sk-label.fitted:hover label.sk-toggleable__label.fitted {\n",
       "  color: var(--sklearn-color-text);\n",
       "  background-color: var(--sklearn-color-fitted-level-2);\n",
       "}\n",
       "\n",
       "/* Estimator label */\n",
       "\n",
       "#sk-container-id-2 div.sk-label label {\n",
       "  font-family: monospace;\n",
       "  font-weight: bold;\n",
       "  display: inline-block;\n",
       "  line-height: 1.2em;\n",
       "}\n",
       "\n",
       "#sk-container-id-2 div.sk-label-container {\n",
       "  text-align: center;\n",
       "}\n",
       "\n",
       "/* Estimator-specific */\n",
       "#sk-container-id-2 div.sk-estimator {\n",
       "  font-family: monospace;\n",
       "  border: 1px dotted var(--sklearn-color-border-box);\n",
       "  border-radius: 0.25em;\n",
       "  box-sizing: border-box;\n",
       "  margin-bottom: 0.5em;\n",
       "  /* unfitted */\n",
       "  background-color: var(--sklearn-color-unfitted-level-0);\n",
       "}\n",
       "\n",
       "#sk-container-id-2 div.sk-estimator.fitted {\n",
       "  /* fitted */\n",
       "  background-color: var(--sklearn-color-fitted-level-0);\n",
       "}\n",
       "\n",
       "/* on hover */\n",
       "#sk-container-id-2 div.sk-estimator:hover {\n",
       "  /* unfitted */\n",
       "  background-color: var(--sklearn-color-unfitted-level-2);\n",
       "}\n",
       "\n",
       "#sk-container-id-2 div.sk-estimator.fitted:hover {\n",
       "  /* fitted */\n",
       "  background-color: var(--sklearn-color-fitted-level-2);\n",
       "}\n",
       "\n",
       "/* Specification for estimator info (e.g. \"i\" and \"?\") */\n",
       "\n",
       "/* Common style for \"i\" and \"?\" */\n",
       "\n",
       ".sk-estimator-doc-link,\n",
       "a:link.sk-estimator-doc-link,\n",
       "a:visited.sk-estimator-doc-link {\n",
       "  float: right;\n",
       "  font-size: smaller;\n",
       "  line-height: 1em;\n",
       "  font-family: monospace;\n",
       "  background-color: var(--sklearn-color-background);\n",
       "  border-radius: 1em;\n",
       "  height: 1em;\n",
       "  width: 1em;\n",
       "  text-decoration: none !important;\n",
       "  margin-left: 0.5em;\n",
       "  text-align: center;\n",
       "  /* unfitted */\n",
       "  border: var(--sklearn-color-unfitted-level-1) 1pt solid;\n",
       "  color: var(--sklearn-color-unfitted-level-1);\n",
       "}\n",
       "\n",
       ".sk-estimator-doc-link.fitted,\n",
       "a:link.sk-estimator-doc-link.fitted,\n",
       "a:visited.sk-estimator-doc-link.fitted {\n",
       "  /* fitted */\n",
       "  border: var(--sklearn-color-fitted-level-1) 1pt solid;\n",
       "  color: var(--sklearn-color-fitted-level-1);\n",
       "}\n",
       "\n",
       "/* On hover */\n",
       "div.sk-estimator:hover .sk-estimator-doc-link:hover,\n",
       ".sk-estimator-doc-link:hover,\n",
       "div.sk-label-container:hover .sk-estimator-doc-link:hover,\n",
       ".sk-estimator-doc-link:hover {\n",
       "  /* unfitted */\n",
       "  background-color: var(--sklearn-color-unfitted-level-3);\n",
       "  color: var(--sklearn-color-background);\n",
       "  text-decoration: none;\n",
       "}\n",
       "\n",
       "div.sk-estimator.fitted:hover .sk-estimator-doc-link.fitted:hover,\n",
       ".sk-estimator-doc-link.fitted:hover,\n",
       "div.sk-label-container:hover .sk-estimator-doc-link.fitted:hover,\n",
       ".sk-estimator-doc-link.fitted:hover {\n",
       "  /* fitted */\n",
       "  background-color: var(--sklearn-color-fitted-level-3);\n",
       "  color: var(--sklearn-color-background);\n",
       "  text-decoration: none;\n",
       "}\n",
       "\n",
       "/* Span, style for the box shown on hovering the info icon */\n",
       ".sk-estimator-doc-link span {\n",
       "  display: none;\n",
       "  z-index: 9999;\n",
       "  position: relative;\n",
       "  font-weight: normal;\n",
       "  right: .2ex;\n",
       "  padding: .5ex;\n",
       "  margin: .5ex;\n",
       "  width: min-content;\n",
       "  min-width: 20ex;\n",
       "  max-width: 50ex;\n",
       "  color: var(--sklearn-color-text);\n",
       "  box-shadow: 2pt 2pt 4pt #999;\n",
       "  /* unfitted */\n",
       "  background: var(--sklearn-color-unfitted-level-0);\n",
       "  border: .5pt solid var(--sklearn-color-unfitted-level-3);\n",
       "}\n",
       "\n",
       ".sk-estimator-doc-link.fitted span {\n",
       "  /* fitted */\n",
       "  background: var(--sklearn-color-fitted-level-0);\n",
       "  border: var(--sklearn-color-fitted-level-3);\n",
       "}\n",
       "\n",
       ".sk-estimator-doc-link:hover span {\n",
       "  display: block;\n",
       "}\n",
       "\n",
       "/* \"?\"-specific style due to the `<a>` HTML tag */\n",
       "\n",
       "#sk-container-id-2 a.estimator_doc_link {\n",
       "  float: right;\n",
       "  font-size: 1rem;\n",
       "  line-height: 1em;\n",
       "  font-family: monospace;\n",
       "  background-color: var(--sklearn-color-background);\n",
       "  border-radius: 1rem;\n",
       "  height: 1rem;\n",
       "  width: 1rem;\n",
       "  text-decoration: none;\n",
       "  /* unfitted */\n",
       "  color: var(--sklearn-color-unfitted-level-1);\n",
       "  border: var(--sklearn-color-unfitted-level-1) 1pt solid;\n",
       "}\n",
       "\n",
       "#sk-container-id-2 a.estimator_doc_link.fitted {\n",
       "  /* fitted */\n",
       "  border: var(--sklearn-color-fitted-level-1) 1pt solid;\n",
       "  color: var(--sklearn-color-fitted-level-1);\n",
       "}\n",
       "\n",
       "/* On hover */\n",
       "#sk-container-id-2 a.estimator_doc_link:hover {\n",
       "  /* unfitted */\n",
       "  background-color: var(--sklearn-color-unfitted-level-3);\n",
       "  color: var(--sklearn-color-background);\n",
       "  text-decoration: none;\n",
       "}\n",
       "\n",
       "#sk-container-id-2 a.estimator_doc_link.fitted:hover {\n",
       "  /* fitted */\n",
       "  background-color: var(--sklearn-color-fitted-level-3);\n",
       "}\n",
       "\n",
       ".estimator-table summary {\n",
       "    padding: .5rem;\n",
       "    font-family: monospace;\n",
       "    cursor: pointer;\n",
       "}\n",
       "\n",
       ".estimator-table details[open] {\n",
       "    padding-left: 0.1rem;\n",
       "    padding-right: 0.1rem;\n",
       "    padding-bottom: 0.3rem;\n",
       "}\n",
       "\n",
       ".estimator-table .parameters-table {\n",
       "    margin-left: auto !important;\n",
       "    margin-right: auto !important;\n",
       "}\n",
       "\n",
       ".estimator-table .parameters-table tr:nth-child(odd) {\n",
       "    background-color: #fff;\n",
       "}\n",
       "\n",
       ".estimator-table .parameters-table tr:nth-child(even) {\n",
       "    background-color: #f6f6f6;\n",
       "}\n",
       "\n",
       ".estimator-table .parameters-table tr:hover {\n",
       "    background-color: #e0e0e0;\n",
       "}\n",
       "\n",
       ".estimator-table table td {\n",
       "    border: 1px solid rgba(106, 105, 104, 0.232);\n",
       "}\n",
       "\n",
       ".user-set td {\n",
       "    color:rgb(255, 94, 0);\n",
       "    text-align: left;\n",
       "}\n",
       "\n",
       ".user-set td.value pre {\n",
       "    color:rgb(255, 94, 0) !important;\n",
       "    background-color: transparent !important;\n",
       "}\n",
       "\n",
       ".default td {\n",
       "    color: black;\n",
       "    text-align: left;\n",
       "}\n",
       "\n",
       ".user-set td i,\n",
       ".default td i {\n",
       "    color: black;\n",
       "}\n",
       "\n",
       ".copy-paste-icon {\n",
       "    background-image: url(data:image/svg+xml;base64,PHN2ZyB4bWxucz0iaHR0cDovL3d3dy53My5vcmcvMjAwMC9zdmciIHZpZXdCb3g9IjAgMCA0NDggNTEyIj48IS0tIUZvbnQgQXdlc29tZSBGcmVlIDYuNy4yIGJ5IEBmb250YXdlc29tZSAtIGh0dHBzOi8vZm9udGF3ZXNvbWUuY29tIExpY2Vuc2UgLSBodHRwczovL2ZvbnRhd2Vzb21lLmNvbS9saWNlbnNlL2ZyZWUgQ29weXJpZ2h0IDIwMjUgRm9udGljb25zLCBJbmMuLS0+PHBhdGggZD0iTTIwOCAwTDMzMi4xIDBjMTIuNyAwIDI0LjkgNS4xIDMzLjkgMTQuMWw2Ny45IDY3LjljOSA5IDE0LjEgMjEuMiAxNC4xIDMzLjlMNDQ4IDMzNmMwIDI2LjUtMjEuNSA0OC00OCA0OGwtMTkyIDBjLTI2LjUgMC00OC0yMS41LTQ4LTQ4bDAtMjg4YzAtMjYuNSAyMS41LTQ4IDQ4LTQ4ek00OCAxMjhsODAgMCAwIDY0LTY0IDAgMCAyNTYgMTkyIDAgMC0zMiA2NCAwIDAgNDhjMCAyNi41LTIxLjUgNDgtNDggNDhMNDggNTEyYy0yNi41IDAtNDgtMjEuNS00OC00OEwwIDE3NmMwLTI2LjUgMjEuNS00OCA0OC00OHoiLz48L3N2Zz4=);\n",
       "    background-repeat: no-repeat;\n",
       "    background-size: 14px 14px;\n",
       "    background-position: 0;\n",
       "    display: inline-block;\n",
       "    width: 14px;\n",
       "    height: 14px;\n",
       "    cursor: pointer;\n",
       "}\n",
       "</style><body><div id=\"sk-container-id-2\" class=\"sk-top-container\"><div class=\"sk-text-repr-fallback\"><pre>Ridge(alpha=0.1)</pre><b>In a Jupyter environment, please rerun this cell to show the HTML representation or trust the notebook. <br />On GitHub, the HTML representation is unable to render, please try loading this page with nbviewer.org.</b></div><div class=\"sk-container\" hidden><div class=\"sk-item\"><div class=\"sk-estimator  sk-toggleable\"><input class=\"sk-toggleable__control sk-hidden--visually\" id=\"sk-estimator-id-2\" type=\"checkbox\" checked><label for=\"sk-estimator-id-2\" class=\"sk-toggleable__label  sk-toggleable__label-arrow\"><div><div>Ridge</div></div><div><a class=\"sk-estimator-doc-link \" rel=\"noreferrer\" target=\"_blank\" href=\"https://scikit-learn.org/1.7/modules/generated/sklearn.linear_model.Ridge.html\">?<span>Documentation for Ridge</span></a><span class=\"sk-estimator-doc-link \">i<span>Not fitted</span></span></div></label><div class=\"sk-toggleable__content \" data-param-prefix=\"\">\n",
       "        <div class=\"estimator-table\">\n",
       "            <details>\n",
       "                <summary>Parameters</summary>\n",
       "                <table class=\"parameters-table\">\n",
       "                  <tbody>\n",
       "                    \n",
       "        <tr class=\"user-set\">\n",
       "            <td><i class=\"copy-paste-icon\"\n",
       "                 onclick=\"copyToClipboard('alpha',\n",
       "                          this.parentElement.nextElementSibling)\"\n",
       "            ></i></td>\n",
       "            <td class=\"param\">alpha&nbsp;</td>\n",
       "            <td class=\"value\">0.1</td>\n",
       "        </tr>\n",
       "    \n",
       "\n",
       "        <tr class=\"default\">\n",
       "            <td><i class=\"copy-paste-icon\"\n",
       "                 onclick=\"copyToClipboard('fit_intercept',\n",
       "                          this.parentElement.nextElementSibling)\"\n",
       "            ></i></td>\n",
       "            <td class=\"param\">fit_intercept&nbsp;</td>\n",
       "            <td class=\"value\">True</td>\n",
       "        </tr>\n",
       "    \n",
       "\n",
       "        <tr class=\"default\">\n",
       "            <td><i class=\"copy-paste-icon\"\n",
       "                 onclick=\"copyToClipboard('copy_X',\n",
       "                          this.parentElement.nextElementSibling)\"\n",
       "            ></i></td>\n",
       "            <td class=\"param\">copy_X&nbsp;</td>\n",
       "            <td class=\"value\">True</td>\n",
       "        </tr>\n",
       "    \n",
       "\n",
       "        <tr class=\"default\">\n",
       "            <td><i class=\"copy-paste-icon\"\n",
       "                 onclick=\"copyToClipboard('max_iter',\n",
       "                          this.parentElement.nextElementSibling)\"\n",
       "            ></i></td>\n",
       "            <td class=\"param\">max_iter&nbsp;</td>\n",
       "            <td class=\"value\">None</td>\n",
       "        </tr>\n",
       "    \n",
       "\n",
       "        <tr class=\"default\">\n",
       "            <td><i class=\"copy-paste-icon\"\n",
       "                 onclick=\"copyToClipboard('tol',\n",
       "                          this.parentElement.nextElementSibling)\"\n",
       "            ></i></td>\n",
       "            <td class=\"param\">tol&nbsp;</td>\n",
       "            <td class=\"value\">0.0001</td>\n",
       "        </tr>\n",
       "    \n",
       "\n",
       "        <tr class=\"default\">\n",
       "            <td><i class=\"copy-paste-icon\"\n",
       "                 onclick=\"copyToClipboard('solver',\n",
       "                          this.parentElement.nextElementSibling)\"\n",
       "            ></i></td>\n",
       "            <td class=\"param\">solver&nbsp;</td>\n",
       "            <td class=\"value\">&#x27;auto&#x27;</td>\n",
       "        </tr>\n",
       "    \n",
       "\n",
       "        <tr class=\"default\">\n",
       "            <td><i class=\"copy-paste-icon\"\n",
       "                 onclick=\"copyToClipboard('positive',\n",
       "                          this.parentElement.nextElementSibling)\"\n",
       "            ></i></td>\n",
       "            <td class=\"param\">positive&nbsp;</td>\n",
       "            <td class=\"value\">False</td>\n",
       "        </tr>\n",
       "    \n",
       "\n",
       "        <tr class=\"default\">\n",
       "            <td><i class=\"copy-paste-icon\"\n",
       "                 onclick=\"copyToClipboard('random_state',\n",
       "                          this.parentElement.nextElementSibling)\"\n",
       "            ></i></td>\n",
       "            <td class=\"param\">random_state&nbsp;</td>\n",
       "            <td class=\"value\">None</td>\n",
       "        </tr>\n",
       "    \n",
       "                  </tbody>\n",
       "                </table>\n",
       "            </details>\n",
       "        </div>\n",
       "    </div></div></div></div></div><script>function copyToClipboard(text, element) {\n",
       "    // Get the parameter prefix from the closest toggleable content\n",
       "    const toggleableContent = element.closest('.sk-toggleable__content');\n",
       "    const paramPrefix = toggleableContent ? toggleableContent.dataset.paramPrefix : '';\n",
       "    const fullParamName = paramPrefix ? `${paramPrefix}${text}` : text;\n",
       "\n",
       "    const originalStyle = element.style;\n",
       "    const computedStyle = window.getComputedStyle(element);\n",
       "    const originalWidth = computedStyle.width;\n",
       "    const originalHTML = element.innerHTML.replace('Copied!', '');\n",
       "\n",
       "    navigator.clipboard.writeText(fullParamName)\n",
       "        .then(() => {\n",
       "            element.style.width = originalWidth;\n",
       "            element.style.color = 'green';\n",
       "            element.innerHTML = \"Copied!\";\n",
       "\n",
       "            setTimeout(() => {\n",
       "                element.innerHTML = originalHTML;\n",
       "                element.style = originalStyle;\n",
       "            }, 2000);\n",
       "        })\n",
       "        .catch(err => {\n",
       "            console.error('Failed to copy:', err);\n",
       "            element.style.color = 'red';\n",
       "            element.innerHTML = \"Failed!\";\n",
       "            setTimeout(() => {\n",
       "                element.innerHTML = originalHTML;\n",
       "                element.style = originalStyle;\n",
       "            }, 2000);\n",
       "        });\n",
       "    return false;\n",
       "}\n",
       "\n",
       "document.querySelectorAll('.fa-regular.fa-copy').forEach(function(element) {\n",
       "    const toggleableContent = element.closest('.sk-toggleable__content');\n",
       "    const paramPrefix = toggleableContent ? toggleableContent.dataset.paramPrefix : '';\n",
       "    const paramName = element.parentElement.nextElementSibling.textContent.trim();\n",
       "    const fullParamName = paramPrefix ? `${paramPrefix}${paramName}` : paramName;\n",
       "\n",
       "    element.setAttribute('title', fullParamName);\n",
       "});\n",
       "</script></body>"
      ],
      "text/plain": [
       "Ridge(alpha=0.1)"
      ]
     },
     "execution_count": 56,
     "metadata": {},
     "output_type": "execute_result"
    }
   ],
   "source": [
    "Ridge(alpha=0.1)"
   ]
  },
  {
   "cell_type": "code",
   "execution_count": 57,
   "id": "07730ffd",
   "metadata": {},
   "outputs": [],
   "source": [
    "predictions = reg.predict(test[predictors])"
   ]
  },
  {
   "cell_type": "code",
   "execution_count": 58,
   "id": "49d9ec83",
   "metadata": {},
   "outputs": [
    {
     "data": {
      "text/plain": [
       "16.517223385430547"
      ]
     },
     "execution_count": 58,
     "metadata": {},
     "output_type": "execute_result"
    }
   ],
   "source": [
    "from sklearn.metrics import mean_squared_error\n",
    "\n",
    "mean_squared_error(test[\"target\"], predictions)"
   ]
  },
  {
   "cell_type": "code",
   "execution_count": 59,
   "id": "b093d3b0",
   "metadata": {},
   "outputs": [],
   "source": [
    "combined = pd.concat([test[\"target\"], pd.Series(predictions, index=test.index)], axis=1)\n",
    "combined.columns = [\"actual\", \"predictions\"] "
   ]
  },
  {
   "cell_type": "code",
   "execution_count": 60,
   "id": "75964fa7",
   "metadata": {},
   "outputs": [
    {
     "data": {
      "application/vnd.microsoft.datawrangler.viewer.v0+json": {
       "columns": [
        {
         "name": "DATE",
         "rawType": "datetime64[ns]",
         "type": "datetime"
        },
        {
         "name": "actual",
         "rawType": "float64",
         "type": "float"
        },
        {
         "name": "predictions",
         "rawType": "float64",
         "type": "float"
        }
       ],
       "ref": "afc8a518-3339-4469-a5ca-8300a5ac0141",
       "rows": [
        [
         "2023-01-01 00:00:00",
         "52.0",
         "62.32644332359864"
        ],
        [
         "2023-01-02 00:00:00",
         "55.0",
         "54.03037486031568"
        ],
        [
         "2023-01-03 00:00:00",
         "59.0",
         "57.098784460647714"
        ],
        [
         "2023-01-04 00:00:00",
         "58.0",
         "57.4321838575383"
        ],
        [
         "2023-01-05 00:00:00",
         "60.0",
         "59.63400505970017"
        ],
        [
         "2023-01-06 00:00:00",
         "59.0",
         "61.60292850565879"
        ],
        [
         "2023-01-07 00:00:00",
         "62.0",
         "60.79660416951651"
        ],
        [
         "2023-01-08 00:00:00",
         "59.0",
         "61.6608160920716"
        ],
        [
         "2023-01-09 00:00:00",
         "57.0",
         "58.434789063436725"
        ],
        [
         "2023-01-10 00:00:00",
         "59.0",
         "58.26343012547021"
        ],
        [
         "2023-01-11 00:00:00",
         "67.0",
         "60.421362517148694"
        ],
        [
         "2023-01-12 00:00:00",
         "60.0",
         "67.36965876864201"
        ],
        [
         "2023-01-13 00:00:00",
         "58.0",
         "61.25907837070798"
        ],
        [
         "2023-01-14 00:00:00",
         "54.0",
         "57.97542102192605"
        ],
        [
         "2023-01-15 00:00:00",
         "56.0",
         "54.640088406092936"
        ],
        [
         "2023-01-16 00:00:00",
         "54.0",
         "55.72298415738764"
        ],
        [
         "2023-01-17 00:00:00",
         "56.0",
         "55.11981285158091"
        ],
        [
         "2023-01-18 00:00:00",
         "53.0",
         "56.67866704746499"
        ],
        [
         "2023-01-19 00:00:00",
         "55.0",
         "54.937745909288424"
        ],
        [
         "2023-01-20 00:00:00",
         "56.0",
         "56.02064166058313"
        ],
        [
         "2023-01-21 00:00:00",
         "61.0",
         "55.663637202843326"
        ],
        [
         "2023-01-22 00:00:00",
         "63.0",
         "60.1677812478544"
        ],
        [
         "2023-01-23 00:00:00",
         "61.0",
         "62.14912933253626"
        ],
        [
         "2023-01-24 00:00:00",
         "65.0",
         "60.88654311456413"
        ],
        [
         "2023-01-25 00:00:00",
         "69.0",
         "63.232025083830976"
        ],
        [
         "2023-01-26 00:00:00",
         "57.0",
         "67.37441171987213"
        ],
        [
         "2023-01-27 00:00:00",
         "55.0",
         "57.64260881191013"
        ],
        [
         "2023-01-28 00:00:00",
         "51.0",
         "56.380022593937994"
        ],
        [
         "2023-01-29 00:00:00",
         "55.0",
         "54.034540624671145"
        ],
        [
         "2023-01-30 00:00:00",
         "57.0",
         "55.301879793873404"
        ],
        [
         "2023-01-31 00:00:00",
         "56.0",
         "56.20508507849068"
        ],
        [
         "2023-02-01 00:00:00",
         "58.0",
         "56.02301813619819"
        ],
        [
         "2023-02-02 00:00:00",
         "57.0",
         "57.82467575420262"
        ],
        [
         "2023-02-03 00:00:00",
         "59.0",
         "58.13099189522274"
        ],
        [
         "2023-02-04 00:00:00",
         "56.0",
         "60.26063892916503"
        ],
        [
         "2023-02-05 00:00:00",
         "59.0",
         "57.39742891417472"
        ],
        [
         "2023-02-06 00:00:00",
         "59.0",
         "59.264575963237135"
        ],
        [
         "2023-02-07 00:00:00",
         "62.0",
         "58.72550456320484"
        ],
        [
         "2023-02-08 00:00:00",
         "64.0",
         "61.06861005685662"
        ],
        [
         "2023-02-09 00:00:00",
         "58.0",
         "62.51088674150619"
        ],
        [
         "2023-02-10 00:00:00",
         "57.0",
         "58.00436622088005"
        ],
        [
         "2023-02-11 00:00:00",
         "63.0",
         "58.25100548674697"
        ],
        [
         "2023-02-12 00:00:00",
         "61.0",
         "61.61005793250397"
        ],
        [
         "2023-02-13 00:00:00",
         "55.0",
         "60.52716218120926"
        ],
        [
         "2023-02-14 00:00:00",
         "57.0",
         "56.919093993970286"
        ],
        [
         "2023-02-15 00:00:00",
         "55.0",
         "57.10353741187784"
        ],
        [
         "2023-02-16 00:00:00",
         "64.0",
         "55.122189327195976"
        ],
        [
         "2023-02-17 00:00:00",
         "61.0",
         "62.331196274828756"
        ],
        [
         "2023-02-18 00:00:00",
         "62.0",
         "59.44901938114468"
        ],
        [
         "2023-02-19 00:00:00",
         "66.0",
         "60.52953865682433"
        ]
       ],
       "shape": {
        "columns": 2,
        "rows": 516
       }
      },
      "text/html": [
       "<div>\n",
       "<style scoped>\n",
       "    .dataframe tbody tr th:only-of-type {\n",
       "        vertical-align: middle;\n",
       "    }\n",
       "\n",
       "    .dataframe tbody tr th {\n",
       "        vertical-align: top;\n",
       "    }\n",
       "\n",
       "    .dataframe thead th {\n",
       "        text-align: right;\n",
       "    }\n",
       "</style>\n",
       "<table border=\"1\" class=\"dataframe\">\n",
       "  <thead>\n",
       "    <tr style=\"text-align: right;\">\n",
       "      <th></th>\n",
       "      <th>actual</th>\n",
       "      <th>predictions</th>\n",
       "    </tr>\n",
       "    <tr>\n",
       "      <th>DATE</th>\n",
       "      <th></th>\n",
       "      <th></th>\n",
       "    </tr>\n",
       "  </thead>\n",
       "  <tbody>\n",
       "    <tr>\n",
       "      <th>2023-01-01</th>\n",
       "      <td>52.0</td>\n",
       "      <td>62.326443</td>\n",
       "    </tr>\n",
       "    <tr>\n",
       "      <th>2023-01-02</th>\n",
       "      <td>55.0</td>\n",
       "      <td>54.030375</td>\n",
       "    </tr>\n",
       "    <tr>\n",
       "      <th>2023-01-03</th>\n",
       "      <td>59.0</td>\n",
       "      <td>57.098784</td>\n",
       "    </tr>\n",
       "    <tr>\n",
       "      <th>2023-01-04</th>\n",
       "      <td>58.0</td>\n",
       "      <td>57.432184</td>\n",
       "    </tr>\n",
       "    <tr>\n",
       "      <th>2023-01-05</th>\n",
       "      <td>60.0</td>\n",
       "      <td>59.634005</td>\n",
       "    </tr>\n",
       "    <tr>\n",
       "      <th>...</th>\n",
       "      <td>...</td>\n",
       "      <td>...</td>\n",
       "    </tr>\n",
       "    <tr>\n",
       "      <th>2024-05-26</th>\n",
       "      <td>63.0</td>\n",
       "      <td>66.830587</td>\n",
       "    </tr>\n",
       "    <tr>\n",
       "      <th>2024-05-27</th>\n",
       "      <td>65.0</td>\n",
       "      <td>64.125724</td>\n",
       "    </tr>\n",
       "    <tr>\n",
       "      <th>2024-05-28</th>\n",
       "      <td>75.0</td>\n",
       "      <td>65.568001</td>\n",
       "    </tr>\n",
       "    <tr>\n",
       "      <th>2024-05-29</th>\n",
       "      <td>75.0</td>\n",
       "      <td>72.420004</td>\n",
       "    </tr>\n",
       "    <tr>\n",
       "      <th>2024-05-30</th>\n",
       "      <td>73.0</td>\n",
       "      <td>72.599694</td>\n",
       "    </tr>\n",
       "  </tbody>\n",
       "</table>\n",
       "<p>516 rows × 2 columns</p>\n",
       "</div>"
      ],
      "text/plain": [
       "            actual  predictions\n",
       "DATE                           \n",
       "2023-01-01    52.0    62.326443\n",
       "2023-01-02    55.0    54.030375\n",
       "2023-01-03    59.0    57.098784\n",
       "2023-01-04    58.0    57.432184\n",
       "2023-01-05    60.0    59.634005\n",
       "...            ...          ...\n",
       "2024-05-26    63.0    66.830587\n",
       "2024-05-27    65.0    64.125724\n",
       "2024-05-28    75.0    65.568001\n",
       "2024-05-29    75.0    72.420004\n",
       "2024-05-30    73.0    72.599694\n",
       "\n",
       "[516 rows x 2 columns]"
      ]
     },
     "execution_count": 60,
     "metadata": {},
     "output_type": "execute_result"
    }
   ],
   "source": [
    "combined"
   ]
  },
  {
   "cell_type": "code",
   "execution_count": 61,
   "id": "7635142b",
   "metadata": {},
   "outputs": [
    {
     "data": {
      "text/plain": [
       "<Axes: xlabel='DATE'>"
      ]
     },
     "execution_count": 61,
     "metadata": {},
     "output_type": "execute_result"
    },
    {
     "data": {
      "image/png": "[encoded data removed]",
      "text/plain": [
       "<Figure size 640x480 with 1 Axes>"
      ]
     },
     "metadata": {},
     "output_type": "display_data"
    }
   ],
   "source": [
    "combined.plot()"
   ]
  },
  {
   "cell_type": "code",
   "execution_count": 62,
   "id": "ef3c4990",
   "metadata": {},
   "outputs": [
    {
     "data": {
      "text/plain": [
       "array([-2.20730384,  0.72113834,  0.17969047])"
      ]
     },
     "execution_count": 62,
     "metadata": {},
     "output_type": "execute_result"
    }
   ],
   "source": [
    "reg.coef_"
   ]
  },
  {
   "cell_type": "code",
   "execution_count": 63,
   "id": "8058fed1",
   "metadata": {},
   "outputs": [],
   "source": [
    "def create_predictions(predictors, core_weather, reg):\n",
    "    train = core_weather.loc[:\"2020-12-31\"]\n",
    "    test = core_weather.loc[\"2023-01-01\":]\n",
    "\n",
    "    reg.fit(train[predictors], train[\"target\"])\n",
    "    predictions = reg.predict(test[predictors])\n",
    "\n",
    "    error = mean_squared_error(test[\"target\"], predictions)\n",
    "    \n",
    "    combined = pd.concat([test[\"target\"], pd.Series(predictions, index=test.index)], axis=1)\n",
    "    combined.columns = [\"actual\", \"predictions\"]\n",
    "    return error, combined"
   ]
  },
  {
   "cell_type": "code",
   "execution_count": 64,
   "id": "799ed883",
   "metadata": {},
   "outputs": [],
   "source": [
    "core_weather[\"month_max\"] = core_weather[\"temp_max\"].rolling(30).mean()\n",
    "\n",
    "core_weather[\"month_day_max\"] = core_weather[\"month_max\"] / core_weather[\"temp_max\"]\n",
    "\n",
    "core_weather[\"max_min\"] = core_weather[\"temp_max\"] / core_weather[\"temp_min\"]"
   ]
  },
  {
   "cell_type": "code",
   "execution_count": 65,
   "id": "605b06d8",
   "metadata": {},
   "outputs": [
    {
     "data": {
      "application/vnd.microsoft.datawrangler.viewer.v0+json": {
       "columns": [
        {
         "name": "DATE",
         "rawType": "datetime64[ns]",
         "type": "datetime"
        },
        {
         "name": "precip",
         "rawType": "float64",
         "type": "float"
        },
        {
         "name": "temp_max",
         "rawType": "float64",
         "type": "float"
        },
        {
         "name": "temp_min",
         "rawType": "float64",
         "type": "float"
        },
        {
         "name": "target",
         "rawType": "float64",
         "type": "float"
        },
        {
         "name": "month_max",
         "rawType": "float64",
         "type": "float"
        },
        {
         "name": "month_day_max",
         "rawType": "float64",
         "type": "float"
        },
        {
         "name": "max_min",
         "rawType": "float64",
         "type": "float"
        }
       ],
       "ref": "22d7f015-771d-461b-8580-8a99810893c5",
       "rows": [
        [
         "1960-01-01 00:00:00",
         "0.0",
         "49.0",
         "30.0",
         "49.0",
         null,
         null,
         "1.6333333333333333"
        ],
        [
         "1960-01-02 00:00:00",
         "0.0",
         "49.0",
         "29.0",
         "54.0",
         null,
         null,
         "1.6896551724137931"
        ],
        [
         "1960-01-03 00:00:00",
         "0.0",
         "54.0",
         "35.0",
         "54.0",
         null,
         null,
         "1.542857142857143"
        ],
        [
         "1960-01-04 00:00:00",
         "0.0",
         "54.0",
         "36.0",
         "55.0",
         null,
         null,
         "1.5"
        ],
        [
         "1960-01-05 00:00:00",
         "0.0",
         "55.0",
         "33.0",
         "53.0",
         null,
         null,
         "1.6666666666666667"
        ],
        [
         "1960-01-06 00:00:00",
         "0.0",
         "53.0",
         "38.0",
         "56.0",
         null,
         null,
         "1.394736842105263"
        ],
        [
         "1960-01-07 00:00:00",
         "0.0",
         "56.0",
         "46.0",
         "54.0",
         null,
         null,
         "1.2173913043478262"
        ],
        [
         "1960-01-08 00:00:00",
         "0.45",
         "54.0",
         "49.0",
         "51.0",
         null,
         null,
         "1.1020408163265305"
        ],
        [
         "1960-01-09 00:00:00",
         "0.61",
         "51.0",
         "46.0",
         "55.0",
         null,
         null,
         "1.108695652173913"
        ],
        [
         "1960-01-10 00:00:00",
         "0.08",
         "55.0",
         "46.0",
         "53.0",
         null,
         null,
         "1.1956521739130435"
        ],
        [
         "1960-01-11 00:00:00",
         "0.48",
         "53.0",
         "43.0",
         "53.0",
         null,
         null,
         "1.2325581395348837"
        ],
        [
         "1960-01-12 00:00:00",
         "0.0",
         "53.0",
         "37.0",
         "49.0",
         null,
         null,
         "1.4324324324324325"
        ],
        [
         "1960-01-13 00:00:00",
         "0.05",
         "49.0",
         "33.0",
         "48.0",
         null,
         null,
         "1.4848484848484849"
        ],
        [
         "1960-01-14 00:00:00",
         "0.67",
         "48.0",
         "40.0",
         "54.0",
         null,
         null,
         "1.2"
        ],
        [
         "1960-01-15 00:00:00",
         "0.0",
         "54.0",
         "37.0",
         "56.0",
         null,
         null,
         "1.4594594594594594"
        ],
        [
         "1960-01-16 00:00:00",
         "0.0",
         "56.0",
         "35.0",
         "54.0",
         null,
         null,
         "1.6"
        ],
        [
         "1960-01-17 00:00:00",
         "0.0",
         "54.0",
         "34.0",
         "51.0",
         null,
         null,
         "1.588235294117647"
        ],
        [
         "1960-01-18 00:00:00",
         "0.0",
         "51.0",
         "40.0",
         "52.0",
         null,
         null,
         "1.275"
        ],
        [
         "1960-01-19 00:00:00",
         "0.0",
         "52.0",
         "41.0",
         "58.0",
         null,
         null,
         "1.2682926829268293"
        ],
        [
         "1960-01-20 00:00:00",
         "0.0",
         "58.0",
         "47.0",
         "54.0",
         null,
         null,
         "1.2340425531914894"
        ],
        [
         "1960-01-21 00:00:00",
         "0.11",
         "54.0",
         "51.0",
         "61.0",
         null,
         null,
         "1.0588235294117647"
        ],
        [
         "1960-01-22 00:00:00",
         "0.0",
         "61.0",
         "49.0",
         "60.0",
         null,
         null,
         "1.2448979591836735"
        ],
        [
         "1960-01-23 00:00:00",
         "0.0",
         "60.0",
         "45.0",
         "60.0",
         null,
         null,
         "1.3333333333333333"
        ],
        [
         "1960-01-24 00:00:00",
         "0.35",
         "60.0",
         "47.0",
         "60.0",
         null,
         null,
         "1.2765957446808511"
        ],
        [
         "1960-01-25 00:00:00",
         "0.58",
         "60.0",
         "51.0",
         "58.0",
         null,
         null,
         "1.1764705882352942"
        ],
        [
         "1960-01-26 00:00:00",
         "0.04",
         "58.0",
         "50.0",
         "60.0",
         null,
         null,
         "1.16"
        ],
        [
         "1960-01-27 00:00:00",
         "0.0",
         "60.0",
         "47.0",
         "62.0",
         null,
         null,
         "1.2765957446808511"
        ],
        [
         "1960-01-28 00:00:00",
         "0.0",
         "62.0",
         "47.0",
         "63.0",
         null,
         null,
         "1.3191489361702127"
        ],
        [
         "1960-01-29 00:00:00",
         "0.0",
         "63.0",
         "44.0",
         "61.0",
         null,
         null,
         "1.4318181818181819"
        ],
        [
         "1960-01-30 00:00:00",
         "0.0",
         "61.0",
         "49.0",
         "59.0",
         "55.233333333333334",
         "0.905464480874317",
         "1.2448979591836735"
        ],
        [
         "1960-01-31 00:00:00",
         "0.0",
         "59.0",
         "46.0",
         "62.0",
         "55.56666666666667",
         "0.9418079096045199",
         "1.2826086956521738"
        ],
        [
         "1960-02-01 00:00:00",
         "0.81",
         "62.0",
         "51.0",
         "59.0",
         "56.0",
         "0.9032258064516129",
         "1.2156862745098038"
        ],
        [
         "1960-02-02 00:00:00",
         "0.0",
         "59.0",
         "43.0",
         "59.0",
         "56.166666666666664",
         "0.9519774011299434",
         "1.372093023255814"
        ],
        [
         "1960-02-03 00:00:00",
         "0.2",
         "59.0",
         "47.0",
         "60.0",
         "56.333333333333336",
         "0.9548022598870057",
         "1.2553191489361701"
        ],
        [
         "1960-02-04 00:00:00",
         "0.16",
         "60.0",
         "42.0",
         "60.0",
         "56.5",
         "0.9416666666666667",
         "1.4285714285714286"
        ],
        [
         "1960-02-05 00:00:00",
         "0.67",
         "60.0",
         "53.0",
         "63.0",
         "56.733333333333334",
         "0.9455555555555556",
         "1.1320754716981132"
        ],
        [
         "1960-02-06 00:00:00",
         "0.0",
         "63.0",
         "54.0",
         "62.0",
         "56.96666666666667",
         "0.9042328042328043",
         "1.1666666666666667"
        ],
        [
         "1960-02-07 00:00:00",
         "0.06",
         "62.0",
         "55.0",
         "60.0",
         "57.233333333333334",
         "0.9231182795698925",
         "1.1272727272727272"
        ],
        [
         "1960-02-08 00:00:00",
         "0.51",
         "60.0",
         "50.0",
         "55.0",
         "57.53333333333333",
         "0.9588888888888889",
         "1.2"
        ],
        [
         "1960-02-09 00:00:00",
         "0.36",
         "55.0",
         "48.0",
         "60.0",
         "57.53333333333333",
         "1.0460606060606061",
         "1.1458333333333333"
        ],
        [
         "1960-02-10 00:00:00",
         "0.07",
         "60.0",
         "44.0",
         "61.0",
         "57.766666666666666",
         "0.9627777777777777",
         "1.3636363636363635"
        ],
        [
         "1960-02-11 00:00:00",
         "0.0",
         "61.0",
         "40.0",
         "61.0",
         "58.03333333333333",
         "0.9513661202185792",
         "1.525"
        ],
        [
         "1960-02-12 00:00:00",
         "0.0",
         "61.0",
         "42.0",
         "60.0",
         "58.43333333333333",
         "0.9579234972677595",
         "1.4523809523809523"
        ],
        [
         "1960-02-13 00:00:00",
         "0.02",
         "60.0",
         "45.0",
         "62.0",
         "58.833333333333336",
         "0.9805555555555556",
         "1.3333333333333333"
        ],
        [
         "1960-02-14 00:00:00",
         "0.0",
         "62.0",
         "39.0",
         "61.0",
         "59.1",
         "0.9532258064516129",
         "1.5897435897435896"
        ],
        [
         "1960-02-15 00:00:00",
         "0.0",
         "61.0",
         "42.0",
         "64.0",
         "59.266666666666666",
         "0.9715846994535519",
         "1.4523809523809523"
        ],
        [
         "1960-02-16 00:00:00",
         "0.0",
         "64.0",
         "42.0",
         "62.0",
         "59.6",
         "0.93125",
         "1.5238095238095237"
        ],
        [
         "1960-02-17 00:00:00",
         "0.0",
         "62.0",
         "38.0",
         "55.0",
         "59.96666666666667",
         "0.9672043010752689",
         "1.631578947368421"
        ],
        [
         "1960-02-18 00:00:00",
         "0.13",
         "55.0",
         "42.0",
         "60.0",
         "60.06666666666667",
         "1.0921212121212123",
         "1.3095238095238095"
        ],
        [
         "1960-02-19 00:00:00",
         "0.0",
         "60.0",
         "40.0",
         "65.0",
         "60.13333333333333",
         "1.0022222222222221",
         "1.5"
        ]
       ],
       "shape": {
        "columns": 7,
        "rows": 17713
       }
      },
      "text/html": [
       "<div>\n",
       "<style scoped>\n",
       "    .dataframe tbody tr th:only-of-type {\n",
       "        vertical-align: middle;\n",
       "    }\n",
       "\n",
       "    .dataframe tbody tr th {\n",
       "        vertical-align: top;\n",
       "    }\n",
       "\n",
       "    .dataframe thead th {\n",
       "        text-align: right;\n",
       "    }\n",
       "</style>\n",
       "<table border=\"1\" class=\"dataframe\">\n",
       "  <thead>\n",
       "    <tr style=\"text-align: right;\">\n",
       "      <th></th>\n",
       "      <th>precip</th>\n",
       "      <th>temp_max</th>\n",
       "      <th>temp_min</th>\n",
       "      <th>target</th>\n",
       "      <th>month_max</th>\n",
       "      <th>month_day_max</th>\n",
       "      <th>max_min</th>\n",
       "    </tr>\n",
       "    <tr>\n",
       "      <th>DATE</th>\n",
       "      <th></th>\n",
       "      <th></th>\n",
       "      <th></th>\n",
       "      <th></th>\n",
       "      <th></th>\n",
       "      <th></th>\n",
       "      <th></th>\n",
       "    </tr>\n",
       "  </thead>\n",
       "  <tbody>\n",
       "    <tr>\n",
       "      <th>1960-01-01</th>\n",
       "      <td>0.0</td>\n",
       "      <td>49.0</td>\n",
       "      <td>30.0</td>\n",
       "      <td>49.0</td>\n",
       "      <td>NaN</td>\n",
       "      <td>NaN</td>\n",
       "      <td>1.633333</td>\n",
       "    </tr>\n",
       "    <tr>\n",
       "      <th>1960-01-02</th>\n",
       "      <td>0.0</td>\n",
       "      <td>49.0</td>\n",
       "      <td>29.0</td>\n",
       "      <td>54.0</td>\n",
       "      <td>NaN</td>\n",
       "      <td>NaN</td>\n",
       "      <td>1.689655</td>\n",
       "    </tr>\n",
       "    <tr>\n",
       "      <th>1960-01-03</th>\n",
       "      <td>0.0</td>\n",
       "      <td>54.0</td>\n",
       "      <td>35.0</td>\n",
       "      <td>54.0</td>\n",
       "      <td>NaN</td>\n",
       "      <td>NaN</td>\n",
       "      <td>1.542857</td>\n",
       "    </tr>\n",
       "    <tr>\n",
       "      <th>1960-01-04</th>\n",
       "      <td>0.0</td>\n",
       "      <td>54.0</td>\n",
       "      <td>36.0</td>\n",
       "      <td>55.0</td>\n",
       "      <td>NaN</td>\n",
       "      <td>NaN</td>\n",
       "      <td>1.500000</td>\n",
       "    </tr>\n",
       "    <tr>\n",
       "      <th>1960-01-05</th>\n",
       "      <td>0.0</td>\n",
       "      <td>55.0</td>\n",
       "      <td>33.0</td>\n",
       "      <td>53.0</td>\n",
       "      <td>NaN</td>\n",
       "      <td>NaN</td>\n",
       "      <td>1.666667</td>\n",
       "    </tr>\n",
       "    <tr>\n",
       "      <th>...</th>\n",
       "      <td>...</td>\n",
       "      <td>...</td>\n",
       "      <td>...</td>\n",
       "      <td>...</td>\n",
       "      <td>...</td>\n",
       "      <td>...</td>\n",
       "      <td>...</td>\n",
       "    </tr>\n",
       "    <tr>\n",
       "      <th>2024-05-26</th>\n",
       "      <td>0.0</td>\n",
       "      <td>67.0</td>\n",
       "      <td>51.0</td>\n",
       "      <td>63.0</td>\n",
       "      <td>67.533333</td>\n",
       "      <td>1.007960</td>\n",
       "      <td>1.313725</td>\n",
       "    </tr>\n",
       "    <tr>\n",
       "      <th>2024-05-27</th>\n",
       "      <td>0.0</td>\n",
       "      <td>63.0</td>\n",
       "      <td>52.0</td>\n",
       "      <td>65.0</td>\n",
       "      <td>67.466667</td>\n",
       "      <td>1.070899</td>\n",
       "      <td>1.211538</td>\n",
       "    </tr>\n",
       "    <tr>\n",
       "      <th>2024-05-28</th>\n",
       "      <td>0.0</td>\n",
       "      <td>65.0</td>\n",
       "      <td>52.0</td>\n",
       "      <td>75.0</td>\n",
       "      <td>67.433333</td>\n",
       "      <td>1.037436</td>\n",
       "      <td>1.250000</td>\n",
       "    </tr>\n",
       "    <tr>\n",
       "      <th>2024-05-29</th>\n",
       "      <td>0.0</td>\n",
       "      <td>75.0</td>\n",
       "      <td>50.0</td>\n",
       "      <td>75.0</td>\n",
       "      <td>67.666667</td>\n",
       "      <td>0.902222</td>\n",
       "      <td>1.500000</td>\n",
       "    </tr>\n",
       "    <tr>\n",
       "      <th>2024-05-30</th>\n",
       "      <td>0.0</td>\n",
       "      <td>75.0</td>\n",
       "      <td>51.0</td>\n",
       "      <td>73.0</td>\n",
       "      <td>67.933333</td>\n",
       "      <td>0.905778</td>\n",
       "      <td>1.470588</td>\n",
       "    </tr>\n",
       "  </tbody>\n",
       "</table>\n",
       "<p>17713 rows × 7 columns</p>\n",
       "</div>"
      ],
      "text/plain": [
       "            precip  temp_max  temp_min  target  month_max  month_day_max  \\\n",
       "DATE                                                                       \n",
       "1960-01-01     0.0      49.0      30.0    49.0        NaN            NaN   \n",
       "1960-01-02     0.0      49.0      29.0    54.0        NaN            NaN   \n",
       "1960-01-03     0.0      54.0      35.0    54.0        NaN            NaN   \n",
       "1960-01-04     0.0      54.0      36.0    55.0        NaN            NaN   \n",
       "1960-01-05     0.0      55.0      33.0    53.0        NaN            NaN   \n",
       "...            ...       ...       ...     ...        ...            ...   \n",
       "2024-05-26     0.0      67.0      51.0    63.0  67.533333       1.007960   \n",
       "2024-05-27     0.0      63.0      52.0    65.0  67.466667       1.070899   \n",
       "2024-05-28     0.0      65.0      52.0    75.0  67.433333       1.037436   \n",
       "2024-05-29     0.0      75.0      50.0    75.0  67.666667       0.902222   \n",
       "2024-05-30     0.0      75.0      51.0    73.0  67.933333       0.905778   \n",
       "\n",
       "             max_min  \n",
       "DATE                  \n",
       "1960-01-01  1.633333  \n",
       "1960-01-02  1.689655  \n",
       "1960-01-03  1.542857  \n",
       "1960-01-04  1.500000  \n",
       "1960-01-05  1.666667  \n",
       "...              ...  \n",
       "2024-05-26  1.313725  \n",
       "2024-05-27  1.211538  \n",
       "2024-05-28  1.250000  \n",
       "2024-05-29  1.500000  \n",
       "2024-05-30  1.470588  \n",
       "\n",
       "[17713 rows x 7 columns]"
      ]
     },
     "execution_count": 65,
     "metadata": {},
     "output_type": "execute_result"
    }
   ],
   "source": [
    "core_weather"
   ]
  },
  {
   "cell_type": "code",
   "execution_count": 66,
   "id": "2b0feaf1",
   "metadata": {},
   "outputs": [],
   "source": [
    "predictors = [\"precip\", \"temp_max\", \"temp_min\", \"month_day_max\", \"max_min\"]\n"
   ]
  },
  {
   "cell_type": "code",
   "execution_count": 67,
   "id": "4bbbb953",
   "metadata": {},
   "outputs": [],
   "source": [
    "core_weather = core_weather.iloc[30:,:].copy()"
   ]
  },
  {
   "cell_type": "code",
   "execution_count": 68,
   "id": "516fecc4",
   "metadata": {},
   "outputs": [
    {
     "data": {
      "text/plain": [
       "15.695027982236702"
      ]
     },
     "execution_count": 68,
     "metadata": {},
     "output_type": "execute_result"
    }
   ],
   "source": [
    "error, combined = create_predictions(predictors, core_weather, reg)\n",
    "error"
   ]
  },
  {
   "cell_type": "code",
   "execution_count": 69,
   "id": "f183c617",
   "metadata": {},
   "outputs": [
    {
     "data": {
      "text/plain": [
       "<Axes: xlabel='DATE'>"
      ]
     },
     "execution_count": 69,
     "metadata": {},
     "output_type": "execute_result"
    },
    {
     "data": {
      "image/png": "[encoded data removed]",
      "text/plain": [
       "<Figure size 640x480 with 1 Axes>"
      ]
     },
     "metadata": {},
     "output_type": "display_data"
    }
   ],
   "source": [
    "combined.plot()"
   ]
  },
  {
   "cell_type": "code",
   "execution_count": 71,
   "id": "50fc7f40",
   "metadata": {},
   "outputs": [],
   "source": [
    "core_weather.index = pd.to_datetime(core_weather.index)\n",
    "core_weather[\"monthly_avg\"] = core_weather[\"temp_max\"].groupby(core_weather.index.month).transform(lambda x: x.expanding().mean())\n"
   ]
  },
  {
   "cell_type": "code",
   "execution_count": 72,
   "id": "03b008a3",
   "metadata": {},
   "outputs": [
    {
     "data": {
      "application/vnd.microsoft.datawrangler.viewer.v0+json": {
       "columns": [
        {
         "name": "DATE",
         "rawType": "datetime64[ns]",
         "type": "datetime"
        },
        {
         "name": "precip",
         "rawType": "float64",
         "type": "float"
        },
        {
         "name": "temp_max",
         "rawType": "float64",
         "type": "float"
        },
        {
         "name": "temp_min",
         "rawType": "float64",
         "type": "float"
        },
        {
         "name": "target",
         "rawType": "float64",
         "type": "float"
        },
        {
         "name": "month_max",
         "rawType": "float64",
         "type": "float"
        },
        {
         "name": "month_day_max",
         "rawType": "float64",
         "type": "float"
        },
        {
         "name": "max_min",
         "rawType": "float64",
         "type": "float"
        },
        {
         "name": "monthly_avg",
         "rawType": "float64",
         "type": "float"
        }
       ],
       "ref": "2fddecab-11d1-444a-afd9-93458836c78f",
       "rows": [
        [
         "1960-01-31 00:00:00",
         "0.0",
         "59.0",
         "46.0",
         "62.0",
         "55.56666666666667",
         "0.9418079096045199",
         "1.2826086956521738",
         "59.0"
        ],
        [
         "1960-02-01 00:00:00",
         "0.81",
         "62.0",
         "51.0",
         "59.0",
         "56.0",
         "0.9032258064516129",
         "1.2156862745098038",
         "62.0"
        ],
        [
         "1960-02-02 00:00:00",
         "0.0",
         "59.0",
         "43.0",
         "59.0",
         "56.166666666666664",
         "0.9519774011299434",
         "1.372093023255814",
         "60.5"
        ],
        [
         "1960-02-03 00:00:00",
         "0.2",
         "59.0",
         "47.0",
         "60.0",
         "56.333333333333336",
         "0.9548022598870057",
         "1.2553191489361701",
         "60.0"
        ],
        [
         "1960-02-04 00:00:00",
         "0.16",
         "60.0",
         "42.0",
         "60.0",
         "56.5",
         "0.9416666666666667",
         "1.4285714285714286",
         "60.0"
        ],
        [
         "1960-02-05 00:00:00",
         "0.67",
         "60.0",
         "53.0",
         "63.0",
         "56.733333333333334",
         "0.9455555555555556",
         "1.1320754716981132",
         "60.0"
        ],
        [
         "1960-02-06 00:00:00",
         "0.0",
         "63.0",
         "54.0",
         "62.0",
         "56.96666666666667",
         "0.9042328042328043",
         "1.1666666666666667",
         "60.5"
        ],
        [
         "1960-02-07 00:00:00",
         "0.06",
         "62.0",
         "55.0",
         "60.0",
         "57.233333333333334",
         "0.9231182795698925",
         "1.1272727272727272",
         "60.714285714285715"
        ],
        [
         "1960-02-08 00:00:00",
         "0.51",
         "60.0",
         "50.0",
         "55.0",
         "57.53333333333333",
         "0.9588888888888889",
         "1.2",
         "60.625"
        ],
        [
         "1960-02-09 00:00:00",
         "0.36",
         "55.0",
         "48.0",
         "60.0",
         "57.53333333333333",
         "1.0460606060606061",
         "1.1458333333333333",
         "60.0"
        ],
        [
         "1960-02-10 00:00:00",
         "0.07",
         "60.0",
         "44.0",
         "61.0",
         "57.766666666666666",
         "0.9627777777777777",
         "1.3636363636363635",
         "60.0"
        ],
        [
         "1960-02-11 00:00:00",
         "0.0",
         "61.0",
         "40.0",
         "61.0",
         "58.03333333333333",
         "0.9513661202185792",
         "1.525",
         "60.09090909090909"
        ],
        [
         "1960-02-12 00:00:00",
         "0.0",
         "61.0",
         "42.0",
         "60.0",
         "58.43333333333333",
         "0.9579234972677595",
         "1.4523809523809523",
         "60.166666666666664"
        ],
        [
         "1960-02-13 00:00:00",
         "0.02",
         "60.0",
         "45.0",
         "62.0",
         "58.833333333333336",
         "0.9805555555555556",
         "1.3333333333333333",
         "60.15384615384615"
        ],
        [
         "1960-02-14 00:00:00",
         "0.0",
         "62.0",
         "39.0",
         "61.0",
         "59.1",
         "0.9532258064516129",
         "1.5897435897435896",
         "60.285714285714285"
        ],
        [
         "1960-02-15 00:00:00",
         "0.0",
         "61.0",
         "42.0",
         "64.0",
         "59.266666666666666",
         "0.9715846994535519",
         "1.4523809523809523",
         "60.333333333333336"
        ],
        [
         "1960-02-16 00:00:00",
         "0.0",
         "64.0",
         "42.0",
         "62.0",
         "59.6",
         "0.93125",
         "1.5238095238095237",
         "60.5625"
        ],
        [
         "1960-02-17 00:00:00",
         "0.0",
         "62.0",
         "38.0",
         "55.0",
         "59.96666666666667",
         "0.9672043010752689",
         "1.631578947368421",
         "60.64705882352941"
        ],
        [
         "1960-02-18 00:00:00",
         "0.13",
         "55.0",
         "42.0",
         "60.0",
         "60.06666666666667",
         "1.0921212121212123",
         "1.3095238095238095",
         "60.333333333333336"
        ],
        [
         "1960-02-19 00:00:00",
         "0.0",
         "60.0",
         "40.0",
         "65.0",
         "60.13333333333333",
         "1.0022222222222221",
         "1.5",
         "60.31578947368421"
        ],
        [
         "1960-02-20 00:00:00",
         "0.0",
         "65.0",
         "42.0",
         "59.0",
         "60.5",
         "0.9307692307692308",
         "1.5476190476190477",
         "60.55"
        ],
        [
         "1960-02-21 00:00:00",
         "0.0",
         "59.0",
         "39.0",
         "61.0",
         "60.43333333333333",
         "1.0242937853107343",
         "1.5128205128205128",
         "60.476190476190474"
        ],
        [
         "1960-02-22 00:00:00",
         "0.0",
         "61.0",
         "37.0",
         "63.0",
         "60.46666666666667",
         "0.9912568306010929",
         "1.6486486486486487",
         "60.5"
        ],
        [
         "1960-02-23 00:00:00",
         "0.0",
         "63.0",
         "39.0",
         "61.0",
         "60.56666666666667",
         "0.9613756613756614",
         "1.6153846153846154",
         "60.608695652173914"
        ],
        [
         "1960-02-24 00:00:00",
         "0.0",
         "61.0",
         "36.0",
         "56.0",
         "60.6",
         "0.9934426229508196",
         "1.6944444444444444",
         "60.625"
        ],
        [
         "1960-02-25 00:00:00",
         "0.0",
         "56.0",
         "45.0",
         "57.0",
         "60.53333333333333",
         "1.0809523809523809",
         "1.2444444444444445",
         "60.44"
        ],
        [
         "1960-02-26 00:00:00",
         "0.0",
         "57.0",
         "45.0",
         "56.0",
         "60.43333333333333",
         "1.0602339181286549",
         "1.2666666666666666",
         "60.30769230769231"
        ],
        [
         "1960-02-27 00:00:00",
         "0.0",
         "56.0",
         "39.0",
         "57.0",
         "60.233333333333334",
         "1.075595238095238",
         "1.435897435897436",
         "60.148148148148145"
        ],
        [
         "1960-02-28 00:00:00",
         "0.0",
         "57.0",
         "45.0",
         "60.0",
         "60.03333333333333",
         "1.0532163742690057",
         "1.2666666666666666",
         "60.035714285714285"
        ],
        [
         "1960-02-29 00:00:00",
         "0.0",
         "60.0",
         "43.0",
         "55.0",
         "60.0",
         "1.0",
         "1.3953488372093024",
         "60.03448275862069"
        ],
        [
         "1960-03-01 00:00:00",
         "0.0",
         "55.0",
         "43.0",
         "58.0",
         "59.86666666666667",
         "1.0884848484848484",
         "1.2790697674418605",
         "55.0"
        ],
        [
         "1960-03-02 00:00:00",
         "0.0",
         "58.0",
         "40.0",
         "62.0",
         "59.733333333333334",
         "1.0298850574712644",
         "1.45",
         "56.5"
        ],
        [
         "1960-03-03 00:00:00",
         "0.0",
         "62.0",
         "47.0",
         "62.0",
         "59.833333333333336",
         "0.9650537634408602",
         "1.3191489361702127",
         "58.333333333333336"
        ],
        [
         "1960-03-04 00:00:00",
         "0.0",
         "62.0",
         "52.0",
         "58.0",
         "59.93333333333333",
         "0.9666666666666666",
         "1.1923076923076923",
         "59.25"
        ],
        [
         "1960-03-05 00:00:00",
         "0.13",
         "58.0",
         "54.0",
         "59.0",
         "59.86666666666667",
         "1.032183908045977",
         "1.0740740740740742",
         "59.0"
        ],
        [
         "1960-03-06 00:00:00",
         "0.19",
         "59.0",
         "52.0",
         "61.0",
         "59.833333333333336",
         "1.0141242937853108",
         "1.1346153846153846",
         "59.0"
        ],
        [
         "1960-03-07 00:00:00",
         "0.11",
         "61.0",
         "50.0",
         "61.0",
         "59.766666666666666",
         "0.9797814207650273",
         "1.22",
         "59.285714285714285"
        ],
        [
         "1960-03-08 00:00:00",
         "0.0",
         "61.0",
         "43.0",
         "60.0",
         "59.733333333333334",
         "0.9792349726775956",
         "1.4186046511627908",
         "59.5"
        ],
        [
         "1960-03-09 00:00:00",
         "0.0",
         "60.0",
         "44.0",
         "62.0",
         "59.733333333333334",
         "0.9955555555555555",
         "1.3636363636363635",
         "59.55555555555556"
        ],
        [
         "1960-03-10 00:00:00",
         "0.0",
         "62.0",
         "38.0",
         "60.0",
         "59.96666666666667",
         "0.9672043010752689",
         "1.631578947368421",
         "59.8"
        ],
        [
         "1960-03-11 00:00:00",
         "0.13",
         "60.0",
         "49.0",
         "59.0",
         "59.96666666666667",
         "0.9994444444444445",
         "1.2244897959183674",
         "59.81818181818182"
        ],
        [
         "1960-03-12 00:00:00",
         "0.3",
         "59.0",
         "52.0",
         "62.0",
         "59.9",
         "1.0152542372881355",
         "1.1346153846153846",
         "59.75"
        ],
        [
         "1960-03-13 00:00:00",
         "0.04",
         "62.0",
         "48.0",
         "69.0",
         "59.93333333333333",
         "0.9666666666666666",
         "1.2916666666666667",
         "59.92307692307692"
        ],
        [
         "1960-03-14 00:00:00",
         "0.0",
         "69.0",
         "44.0",
         "63.0",
         "60.233333333333334",
         "0.8729468599033816",
         "1.5681818181818181",
         "60.57142857142857"
        ],
        [
         "1960-03-15 00:00:00",
         "0.0",
         "63.0",
         "44.0",
         "76.0",
         "60.266666666666666",
         "0.9566137566137566",
         "1.4318181818181819",
         "60.733333333333334"
        ],
        [
         "1960-03-16 00:00:00",
         "0.0",
         "76.0",
         "51.0",
         "77.0",
         "60.766666666666666",
         "0.7995614035087719",
         "1.4901960784313726",
         "61.6875"
        ],
        [
         "1960-03-17 00:00:00",
         "0.0",
         "77.0",
         "55.0",
         "79.0",
         "61.2",
         "0.7948051948051948",
         "1.4",
         "62.588235294117645"
        ],
        [
         "1960-03-18 00:00:00",
         "0.0",
         "79.0",
         "49.0",
         "77.0",
         "61.766666666666666",
         "0.7818565400843882",
         "1.6122448979591837",
         "63.5"
        ],
        [
         "1960-03-19 00:00:00",
         "0.0",
         "77.0",
         "51.0",
         "73.0",
         "62.5",
         "0.8116883116883117",
         "1.5098039215686274",
         "64.21052631578948"
        ],
        [
         "1960-03-20 00:00:00",
         "0.0",
         "73.0",
         "50.0",
         "62.0",
         "62.93333333333333",
         "0.8621004566210045",
         "1.46",
         "64.65"
        ]
       ],
       "shape": {
        "columns": 8,
        "rows": 17683
       }
      },
      "text/html": [
       "<div>\n",
       "<style scoped>\n",
       "    .dataframe tbody tr th:only-of-type {\n",
       "        vertical-align: middle;\n",
       "    }\n",
       "\n",
       "    .dataframe tbody tr th {\n",
       "        vertical-align: top;\n",
       "    }\n",
       "\n",
       "    .dataframe thead th {\n",
       "        text-align: right;\n",
       "    }\n",
       "</style>\n",
       "<table border=\"1\" class=\"dataframe\">\n",
       "  <thead>\n",
       "    <tr style=\"text-align: right;\">\n",
       "      <th></th>\n",
       "      <th>precip</th>\n",
       "      <th>temp_max</th>\n",
       "      <th>temp_min</th>\n",
       "      <th>target</th>\n",
       "      <th>month_max</th>\n",
       "      <th>month_day_max</th>\n",
       "      <th>max_min</th>\n",
       "      <th>monthly_avg</th>\n",
       "    </tr>\n",
       "    <tr>\n",
       "      <th>DATE</th>\n",
       "      <th></th>\n",
       "      <th></th>\n",
       "      <th></th>\n",
       "      <th></th>\n",
       "      <th></th>\n",
       "      <th></th>\n",
       "      <th></th>\n",
       "      <th></th>\n",
       "    </tr>\n",
       "  </thead>\n",
       "  <tbody>\n",
       "    <tr>\n",
       "      <th>1960-01-31</th>\n",
       "      <td>0.00</td>\n",
       "      <td>59.0</td>\n",
       "      <td>46.0</td>\n",
       "      <td>62.0</td>\n",
       "      <td>55.566667</td>\n",
       "      <td>0.941808</td>\n",
       "      <td>1.282609</td>\n",
       "      <td>59.000000</td>\n",
       "    </tr>\n",
       "    <tr>\n",
       "      <th>1960-02-01</th>\n",
       "      <td>0.81</td>\n",
       "      <td>62.0</td>\n",
       "      <td>51.0</td>\n",
       "      <td>59.0</td>\n",
       "      <td>56.000000</td>\n",
       "      <td>0.903226</td>\n",
       "      <td>1.215686</td>\n",
       "      <td>62.000000</td>\n",
       "    </tr>\n",
       "    <tr>\n",
       "      <th>1960-02-02</th>\n",
       "      <td>0.00</td>\n",
       "      <td>59.0</td>\n",
       "      <td>43.0</td>\n",
       "      <td>59.0</td>\n",
       "      <td>56.166667</td>\n",
       "      <td>0.951977</td>\n",
       "      <td>1.372093</td>\n",
       "      <td>60.500000</td>\n",
       "    </tr>\n",
       "    <tr>\n",
       "      <th>1960-02-03</th>\n",
       "      <td>0.20</td>\n",
       "      <td>59.0</td>\n",
       "      <td>47.0</td>\n",
       "      <td>60.0</td>\n",
       "      <td>56.333333</td>\n",
       "      <td>0.954802</td>\n",
       "      <td>1.255319</td>\n",
       "      <td>60.000000</td>\n",
       "    </tr>\n",
       "    <tr>\n",
       "      <th>1960-02-04</th>\n",
       "      <td>0.16</td>\n",
       "      <td>60.0</td>\n",
       "      <td>42.0</td>\n",
       "      <td>60.0</td>\n",
       "      <td>56.500000</td>\n",
       "      <td>0.941667</td>\n",
       "      <td>1.428571</td>\n",
       "      <td>60.000000</td>\n",
       "    </tr>\n",
       "    <tr>\n",
       "      <th>...</th>\n",
       "      <td>...</td>\n",
       "      <td>...</td>\n",
       "      <td>...</td>\n",
       "      <td>...</td>\n",
       "      <td>...</td>\n",
       "      <td>...</td>\n",
       "      <td>...</td>\n",
       "      <td>...</td>\n",
       "    </tr>\n",
       "    <tr>\n",
       "      <th>2024-05-26</th>\n",
       "      <td>0.00</td>\n",
       "      <td>67.0</td>\n",
       "      <td>51.0</td>\n",
       "      <td>63.0</td>\n",
       "      <td>67.533333</td>\n",
       "      <td>1.007960</td>\n",
       "      <td>1.313725</td>\n",
       "      <td>67.144650</td>\n",
       "    </tr>\n",
       "    <tr>\n",
       "      <th>2024-05-27</th>\n",
       "      <td>0.00</td>\n",
       "      <td>63.0</td>\n",
       "      <td>52.0</td>\n",
       "      <td>65.0</td>\n",
       "      <td>67.466667</td>\n",
       "      <td>1.070899</td>\n",
       "      <td>1.211538</td>\n",
       "      <td>67.141914</td>\n",
       "    </tr>\n",
       "    <tr>\n",
       "      <th>2024-05-28</th>\n",
       "      <td>0.00</td>\n",
       "      <td>65.0</td>\n",
       "      <td>52.0</td>\n",
       "      <td>75.0</td>\n",
       "      <td>67.433333</td>\n",
       "      <td>1.037436</td>\n",
       "      <td>1.250000</td>\n",
       "      <td>67.140501</td>\n",
       "    </tr>\n",
       "    <tr>\n",
       "      <th>2024-05-29</th>\n",
       "      <td>0.00</td>\n",
       "      <td>75.0</td>\n",
       "      <td>50.0</td>\n",
       "      <td>75.0</td>\n",
       "      <td>67.666667</td>\n",
       "      <td>0.902222</td>\n",
       "      <td>1.500000</td>\n",
       "      <td>67.145682</td>\n",
       "    </tr>\n",
       "    <tr>\n",
       "      <th>2024-05-30</th>\n",
       "      <td>0.00</td>\n",
       "      <td>75.0</td>\n",
       "      <td>51.0</td>\n",
       "      <td>73.0</td>\n",
       "      <td>67.933333</td>\n",
       "      <td>0.905778</td>\n",
       "      <td>1.470588</td>\n",
       "      <td>67.150856</td>\n",
       "    </tr>\n",
       "  </tbody>\n",
       "</table>\n",
       "<p>17683 rows × 8 columns</p>\n",
       "</div>"
      ],
      "text/plain": [
       "            precip  temp_max  temp_min  target  month_max  month_day_max  \\\n",
       "DATE                                                                       \n",
       "1960-01-31    0.00      59.0      46.0    62.0  55.566667       0.941808   \n",
       "1960-02-01    0.81      62.0      51.0    59.0  56.000000       0.903226   \n",
       "1960-02-02    0.00      59.0      43.0    59.0  56.166667       0.951977   \n",
       "1960-02-03    0.20      59.0      47.0    60.0  56.333333       0.954802   \n",
       "1960-02-04    0.16      60.0      42.0    60.0  56.500000       0.941667   \n",
       "...            ...       ...       ...     ...        ...            ...   \n",
       "2024-05-26    0.00      67.0      51.0    63.0  67.533333       1.007960   \n",
       "2024-05-27    0.00      63.0      52.0    65.0  67.466667       1.070899   \n",
       "2024-05-28    0.00      65.0      52.0    75.0  67.433333       1.037436   \n",
       "2024-05-29    0.00      75.0      50.0    75.0  67.666667       0.902222   \n",
       "2024-05-30    0.00      75.0      51.0    73.0  67.933333       0.905778   \n",
       "\n",
       "             max_min  monthly_avg  \n",
       "DATE                               \n",
       "1960-01-31  1.282609    59.000000  \n",
       "1960-02-01  1.215686    62.000000  \n",
       "1960-02-02  1.372093    60.500000  \n",
       "1960-02-03  1.255319    60.000000  \n",
       "1960-02-04  1.428571    60.000000  \n",
       "...              ...          ...  \n",
       "2024-05-26  1.313725    67.144650  \n",
       "2024-05-27  1.211538    67.141914  \n",
       "2024-05-28  1.250000    67.140501  \n",
       "2024-05-29  1.500000    67.145682  \n",
       "2024-05-30  1.470588    67.150856  \n",
       "\n",
       "[17683 rows x 8 columns]"
      ]
     },
     "execution_count": 72,
     "metadata": {},
     "output_type": "execute_result"
    }
   ],
   "source": [
    "core_weather"
   ]
  },
  {
   "cell_type": "code",
   "execution_count": 74,
   "id": "51b4557f",
   "metadata": {},
   "outputs": [],
   "source": [
    "core_weather[\"day_of_year_avg\"] = core_weather[\"temp_max\"].groupby(core_weather.index.day_of_year).transform(lambda x: x.expanding().mean())\n"
   ]
  },
  {
   "cell_type": "code",
   "execution_count": 85,
   "id": "8dc66224",
   "metadata": {},
   "outputs": [],
   "source": [
    "predictors = [\"precip\", \"temp_max\", \"temp_min\", \"month_day_max\", \"max_min\", \"monthly_avg\", \"day_of_year_avg\"]"
   ]
  },
  {
   "cell_type": "code",
   "execution_count": 86,
   "id": "de4d4189",
   "metadata": {},
   "outputs": [
    {
     "data": {
      "text/plain": [
       "15.268557429051604"
      ]
     },
     "execution_count": 86,
     "metadata": {},
     "output_type": "execute_result"
    }
   ],
   "source": [
    "error, combined = create_predictions(predictors + [\"monthly_avg\", \"day_of_year_avg\"], core_weather, reg)\n",
    "error"
   ]
  },
  {
   "cell_type": "code",
   "execution_count": 87,
   "id": "bb9a3a0f",
   "metadata": {},
   "outputs": [
    {
     "data": {
      "text/plain": [
       "array([-1.07706506,  0.69350142,  0.04696917,  4.78060385,  0.07003165,\n",
       "        0.08192493,  0.04290499,  0.08192493,  0.04290499])"
      ]
     },
     "execution_count": 87,
     "metadata": {},
     "output_type": "execute_result"
    }
   ],
   "source": [
    "reg.coef_"
   ]
  },
  {
   "cell_type": "code",
   "execution_count": 88,
   "id": "436db882",
   "metadata": {},
   "outputs": [
    {
     "data": {
      "application/vnd.microsoft.datawrangler.viewer.v0+json": {
       "columns": [
        {
         "name": "index",
         "rawType": "object",
         "type": "string"
        },
        {
         "name": "target",
         "rawType": "float64",
         "type": "float"
        }
       ],
       "ref": "b970aee4-510f-449f-8fc3-fb3bbc89e35a",
       "rows": [
        [
         "precip",
         "-0.2056572855447408"
        ],
        [
         "temp_max",
         "0.8219437198902321"
        ],
        [
         "temp_min",
         "0.5956658086235084"
        ],
        [
         "target",
         "1.0"
        ],
        [
         "month_max",
         "0.6881400273692507"
        ],
        [
         "month_day_max",
         "-0.42054679489468055"
        ],
        [
         "max_min",
         "0.045022858581589456"
        ],
        [
         "monthly_avg",
         "0.6907285288537692"
        ],
        [
         "day_of_year_avg",
         "0.7126248291339786"
        ]
       ],
       "shape": {
        "columns": 1,
        "rows": 9
       }
      },
      "text/plain": [
       "precip            -0.205657\n",
       "temp_max           0.821944\n",
       "temp_min           0.595666\n",
       "target             1.000000\n",
       "month_max          0.688140\n",
       "month_day_max     -0.420547\n",
       "max_min            0.045023\n",
       "monthly_avg        0.690729\n",
       "day_of_year_avg    0.712625\n",
       "Name: target, dtype: float64"
      ]
     },
     "execution_count": 88,
     "metadata": {},
     "output_type": "execute_result"
    }
   ],
   "source": [
    "core_weather.corr()[\"target\"]"
   ]
  },
  {
   "cell_type": "code",
   "execution_count": 89,
   "id": "1dffe344",
   "metadata": {},
   "outputs": [],
   "source": [
    "combined[\"diff\"] = (combined[\"actual\"] - combined[\"predictions\"]).abs()"
   ]
  },
  {
   "cell_type": "code",
   "execution_count": 90,
   "id": "6ca98701",
   "metadata": {},
   "outputs": [
    {
     "data": {
      "application/vnd.microsoft.datawrangler.viewer.v0+json": {
       "columns": [
        {
         "name": "DATE",
         "rawType": "datetime64[ns]",
         "type": "datetime"
        },
        {
         "name": "actual",
         "rawType": "float64",
         "type": "float"
        },
        {
         "name": "predictions",
         "rawType": "float64",
         "type": "float"
        },
        {
         "name": "diff",
         "rawType": "float64",
         "type": "float"
        }
       ],
       "ref": "b4076d84-ba76-455e-a758-24e389dc0db5",
       "rows": [
        [
         "2023-08-29 00:00:00",
         "91.0",
         "75.54926734827418",
         "15.450732651725815"
        ],
        [
         "2023-06-30 00:00:00",
         "87.0",
         "71.91151301620089",
         "15.088486983799115"
        ],
        [
         "2023-08-19 00:00:00",
         "86.0",
         "71.01676909821907",
         "14.983230901780928"
        ],
        [
         "2023-10-19 00:00:00",
         "67.0",
         "81.40254089034497",
         "14.402540890344966"
        ],
        [
         "2024-05-07 00:00:00",
         "81.0",
         "67.49661562786737",
         "13.50338437213263"
        ]
       ],
       "shape": {
        "columns": 3,
        "rows": 5
       }
      },
      "text/html": [
       "<div>\n",
       "<style scoped>\n",
       "    .dataframe tbody tr th:only-of-type {\n",
       "        vertical-align: middle;\n",
       "    }\n",
       "\n",
       "    .dataframe tbody tr th {\n",
       "        vertical-align: top;\n",
       "    }\n",
       "\n",
       "    .dataframe thead th {\n",
       "        text-align: right;\n",
       "    }\n",
       "</style>\n",
       "<table border=\"1\" class=\"dataframe\">\n",
       "  <thead>\n",
       "    <tr style=\"text-align: right;\">\n",
       "      <th></th>\n",
       "      <th>actual</th>\n",
       "      <th>predictions</th>\n",
       "      <th>diff</th>\n",
       "    </tr>\n",
       "    <tr>\n",
       "      <th>DATE</th>\n",
       "      <th></th>\n",
       "      <th></th>\n",
       "      <th></th>\n",
       "    </tr>\n",
       "  </thead>\n",
       "  <tbody>\n",
       "    <tr>\n",
       "      <th>2023-08-29</th>\n",
       "      <td>91.0</td>\n",
       "      <td>75.549267</td>\n",
       "      <td>15.450733</td>\n",
       "    </tr>\n",
       "    <tr>\n",
       "      <th>2023-06-30</th>\n",
       "      <td>87.0</td>\n",
       "      <td>71.911513</td>\n",
       "      <td>15.088487</td>\n",
       "    </tr>\n",
       "    <tr>\n",
       "      <th>2023-08-19</th>\n",
       "      <td>86.0</td>\n",
       "      <td>71.016769</td>\n",
       "      <td>14.983231</td>\n",
       "    </tr>\n",
       "    <tr>\n",
       "      <th>2023-10-19</th>\n",
       "      <td>67.0</td>\n",
       "      <td>81.402541</td>\n",
       "      <td>14.402541</td>\n",
       "    </tr>\n",
       "    <tr>\n",
       "      <th>2024-05-07</th>\n",
       "      <td>81.0</td>\n",
       "      <td>67.496616</td>\n",
       "      <td>13.503384</td>\n",
       "    </tr>\n",
       "  </tbody>\n",
       "</table>\n",
       "</div>"
      ],
      "text/plain": [
       "            actual  predictions       diff\n",
       "DATE                                      \n",
       "2023-08-29    91.0    75.549267  15.450733\n",
       "2023-06-30    87.0    71.911513  15.088487\n",
       "2023-08-19    86.0    71.016769  14.983231\n",
       "2023-10-19    67.0    81.402541  14.402541\n",
       "2024-05-07    81.0    67.496616  13.503384"
      ]
     },
     "execution_count": 90,
     "metadata": {},
     "output_type": "execute_result"
    }
   ],
   "source": [
    "combined.sort_values(\"diff\", ascending=False).head()"
   ]
  }
 ],
 "metadata": {
  "kernelspec": {
   "display_name": "Python 3",
   "language": "python",
   "name": "python3"
  },
  "language_info": {
   "codemirror_mode": {
    "name": "ipython",
    "version": 3
   },
   "file_extension": ".py",
   "mimetype": "text/x-python",
   "name": "python",
   "nbconvert_exporter": "python",
   "pygments_lexer": "ipython3",
   "version": "3.13.5"
  }
 },
 "nbformat": 4,
 "nbformat_minor": 5
}
